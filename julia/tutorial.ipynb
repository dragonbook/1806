{
 "cells": [
  {
   "cell_type": "markdown",
   "metadata": {},
   "source": [
    "# Julia Basics\n",
    "\n",
    "This is a *basic* introduction to an IJulia notebook."
   ]
  },
  {
   "cell_type": "code",
   "execution_count": 1,
   "metadata": {},
   "outputs": [
    {
     "data": {
      "text/plain": [
       "2"
      ]
     },
     "execution_count": 1,
     "metadata": {},
     "output_type": "execute_result"
    }
   ],
   "source": [
    "1+1"
   ]
  },
  {
   "cell_type": "code",
   "execution_count": 2,
   "metadata": {},
   "outputs": [
    {
     "data": {
      "text/plain": [
       "3"
      ]
     },
     "execution_count": 2,
     "metadata": {},
     "output_type": "execute_result"
    }
   ],
   "source": [
    "x = 3"
   ]
  },
  {
   "cell_type": "code",
   "execution_count": 3,
   "metadata": {},
   "outputs": [
    {
     "data": {
      "text/plain": [
       "3"
      ]
     },
     "execution_count": 3,
     "metadata": {},
     "output_type": "execute_result"
    }
   ],
   "source": [
    "x"
   ]
  },
  {
   "cell_type": "code",
   "execution_count": 4,
   "metadata": {},
   "outputs": [
    {
     "data": {
      "text/plain": [
       "36.141120008059865"
      ]
     },
     "execution_count": 4,
     "metadata": {},
     "output_type": "execute_result"
    }
   ],
   "source": [
    "3*x + x^3 + sin(x)"
   ]
  },
  {
   "cell_type": "code",
   "execution_count": 1,
   "metadata": {},
   "outputs": [
    {
     "data": {
      "text/plain": [
       "3 + 4im"
      ]
     },
     "execution_count": 1,
     "metadata": {},
     "output_type": "execute_result"
    }
   ],
   "source": [
    "z = 3 + 4im"
   ]
  },
  {
   "cell_type": "code",
   "execution_count": 6,
   "metadata": {},
   "outputs": [
    {
     "data": {
      "text/plain": [
       "-117 + 44im"
      ]
     },
     "execution_count": 6,
     "metadata": {},
     "output_type": "execute_result"
    }
   ],
   "source": [
    "z^3"
   ]
  },
  {
   "cell_type": "code",
   "execution_count": 7,
   "metadata": {},
   "outputs": [
    {
     "data": {
      "text/plain": [
       "-13.128783081462158 - 15.200784463067954im"
      ]
     },
     "execution_count": 7,
     "metadata": {},
     "output_type": "execute_result"
    }
   ],
   "source": [
    "exp(z)"
   ]
  },
  {
   "cell_type": "code",
   "execution_count": 8,
   "metadata": {},
   "outputs": [
    {
     "data": {
      "text/plain": [
       "2.0 + 1.0im"
      ]
     },
     "execution_count": 8,
     "metadata": {},
     "output_type": "execute_result"
    }
   ],
   "source": [
    "sqrt(z)"
   ]
  },
  {
   "cell_type": "code",
   "execution_count": 9,
   "metadata": {},
   "outputs": [
    {
     "data": {
      "text/plain": [
       "0.0 + 1.4142135623730951im"
      ]
     },
     "execution_count": 9,
     "metadata": {},
     "output_type": "execute_result"
    }
   ],
   "source": [
    "sqrt(-2+0im)"
   ]
  },
  {
   "cell_type": "code",
   "execution_count": 10,
   "metadata": {},
   "outputs": [
    {
     "ename": "KeyError",
     "evalue": "KeyError: key 12 not found",
     "output_type": "error",
     "traceback": [
      "KeyError: key 12 not found",
      "",
      "Stacktrace:",
      " [1] getindex(::Dict{Int64,Any}, ::Int64) at ./dict.jl:478",
      " [2] top-level scope at In[10]:1"
     ]
    }
   ],
   "source": [
    "abs(Out[12])"
   ]
  },
  {
   "cell_type": "code",
   "execution_count": 11,
   "metadata": {},
   "outputs": [
    {
     "data": {
      "text/plain": [
       "5.0"
      ]
     },
     "execution_count": 11,
     "metadata": {},
     "output_type": "execute_result"
    }
   ],
   "source": [
    "abs(3+4im)"
   ]
  },
  {
   "cell_type": "code",
   "execution_count": 12,
   "metadata": {},
   "outputs": [
    {
     "data": {
      "text/plain": [
       "3-element Array{Int64,1}:\n",
       " 1\n",
       " 2\n",
       " 3"
      ]
     },
     "execution_count": 12,
     "metadata": {},
     "output_type": "execute_result"
    }
   ],
   "source": [
    "x = [1,2,3]"
   ]
  },
  {
   "cell_type": "code",
   "execution_count": 13,
   "metadata": {},
   "outputs": [
    {
     "data": {
      "text/plain": [
       "1×3 Array{Int64,2}:\n",
       " 1  2  3"
      ]
     },
     "execution_count": 13,
     "metadata": {},
     "output_type": "execute_result"
    }
   ],
   "source": [
    "y = [1 2 3]"
   ]
  },
  {
   "cell_type": "code",
   "execution_count": 14,
   "metadata": {},
   "outputs": [
    {
     "data": {
      "text/plain": [
       "1-element Array{Int64,1}:\n",
       " 14"
      ]
     },
     "execution_count": 14,
     "metadata": {},
     "output_type": "execute_result"
    }
   ],
   "source": [
    "y * x"
   ]
  },
  {
   "cell_type": "code",
   "execution_count": 15,
   "metadata": {},
   "outputs": [
    {
     "data": {
      "text/plain": [
       "3×3 Array{Int64,2}:\n",
       " 1  2  3\n",
       " 2  4  6\n",
       " 3  6  9"
      ]
     },
     "execution_count": 15,
     "metadata": {},
     "output_type": "execute_result"
    }
   ],
   "source": [
    "x * y"
   ]
  },
  {
   "cell_type": "code",
   "execution_count": 16,
   "metadata": {},
   "outputs": [
    {
     "ename": "DimensionMismatch",
     "evalue": "DimensionMismatch(\"dimensions must match\")",
     "output_type": "error",
     "traceback": [
      "DimensionMismatch(\"dimensions must match\")",
      "",
      "Stacktrace:",
      " [1] promote_shape at ./indices.jl:154 [inlined]",
      " [2] promote_shape at ./indices.jl:150 [inlined]",
      " [3] promote_shape(::Array{Int64,1}, ::Array{Int64,2}) at ./indices.jl:145",
      " [4] +(::Array{Int64,1}, ::Array{Int64,2}) at ./arraymath.jl:45",
      " [5] top-level scope at In[16]:1"
     ]
    }
   ],
   "source": [
    "x + y"
   ]
  },
  {
   "cell_type": "code",
   "execution_count": 17,
   "metadata": {},
   "outputs": [
    {
     "data": {
      "text/plain": [
       "3×3 Array{Int64,2}:\n",
       " 2  3  4\n",
       " 3  4  5\n",
       " 4  5  6"
      ]
     },
     "execution_count": 17,
     "metadata": {},
     "output_type": "execute_result"
    }
   ],
   "source": [
    "A = x .+ y"
   ]
  },
  {
   "cell_type": "code",
   "execution_count": 18,
   "metadata": {},
   "outputs": [
    {
     "data": {
      "text/plain": [
       "3-element Array{Int64,1}:\n",
       " 1\n",
       " 4\n",
       " 9"
      ]
     },
     "execution_count": 18,
     "metadata": {},
     "output_type": "execute_result"
    }
   ],
   "source": [
    "x .* x"
   ]
  },
  {
   "cell_type": "code",
   "execution_count": 19,
   "metadata": {},
   "outputs": [
    {
     "data": {
      "text/plain": [
       "20-element Array{Float64,1}:\n",
       " 0.9478700341962174 \n",
       " 0.3479271736979477 \n",
       " 0.3331497228802791 \n",
       " 0.8799105383579946 \n",
       " 0.6272210138458452 \n",
       " 0.21359461876842456\n",
       " 0.7317123868374633 \n",
       " 0.7171996002762273 \n",
       " 0.8053803868790146 \n",
       " 0.29251539223374756\n",
       " 0.5403064570824061 \n",
       " 0.7983170386237863 \n",
       " 0.9450823979888667 \n",
       " 0.40945145739290845\n",
       " 0.7199302876535385 \n",
       " 0.2573440430177214 \n",
       " 0.22386895961887743\n",
       " 0.29781765230974555\n",
       " 0.5601091276910255 \n",
       " 0.9523950956557654 "
      ]
     },
     "execution_count": 19,
     "metadata": {},
     "output_type": "execute_result"
    }
   ],
   "source": [
    "x = rand(20)"
   ]
  },
  {
   "cell_type": "code",
   "execution_count": 20,
   "metadata": {},
   "outputs": [
    {
     "data": {
      "text/plain": [
       "0.3479271736979477"
      ]
     },
     "execution_count": 20,
     "metadata": {},
     "output_type": "execute_result"
    }
   ],
   "source": [
    "x[2]"
   ]
  },
  {
   "cell_type": "code",
   "execution_count": 21,
   "metadata": {},
   "outputs": [
    {
     "data": {
      "text/plain": [
       "4-element Array{Float64,1}:\n",
       " 0.3479271736979477\n",
       " 0.3331497228802791\n",
       " 0.8799105383579946\n",
       " 0.6272210138458452"
      ]
     },
     "execution_count": 21,
     "metadata": {},
     "output_type": "execute_result"
    }
   ],
   "source": [
    "x[2:5]"
   ]
  },
  {
   "cell_type": "code",
   "execution_count": 22,
   "metadata": {},
   "outputs": [
    {
     "data": {
      "text/plain": [
       "7-element Array{Float64,1}:\n",
       " 0.7317123868374633 \n",
       " 0.8053803868790146 \n",
       " 0.5403064570824061 \n",
       " 0.9450823979888667 \n",
       " 0.7199302876535385 \n",
       " 0.22386895961887743\n",
       " 0.5601091276910255 "
      ]
     },
     "execution_count": 22,
     "metadata": {},
     "output_type": "execute_result"
    }
   ],
   "source": [
    "x[7:2:end] # x[7], x[9], x[11], ... end of array"
   ]
  },
  {
   "cell_type": "code",
   "execution_count": 23,
   "metadata": {},
   "outputs": [
    {
     "data": {
      "text/plain": [
       "12-element Array{Float64,1}:\n",
       " 0.9478700341962174\n",
       " 0.8799105383579946\n",
       " 0.6272210138458452\n",
       " 0.7317123868374633\n",
       " 0.7171996002762273\n",
       " 0.8053803868790146\n",
       " 0.5403064570824061\n",
       " 0.7983170386237863\n",
       " 0.9450823979888667\n",
       " 0.7199302876535385\n",
       " 0.5601091276910255\n",
       " 0.9523950956557654"
      ]
     },
     "execution_count": 23,
     "metadata": {},
     "output_type": "execute_result"
    }
   ],
   "source": [
    "x[x .> 0.5]"
   ]
  },
  {
   "cell_type": "markdown",
   "metadata": {},
   "source": [
    "Any function `f` can be applied elementwise to an array `x` by the syntax `f.(x)`.\n",
    "\n",
    "You may be thinking that Matlab and Numpy do this without dots, but it turns out that the `.` in `f.(x)` enables extensive possibilities that aren't possible in other language.  See also [this blog post on the real power of this syntax](http://julialang.org/blog/2017/01/moredots).\n",
    "\n",
    "e.g. compute $e^{\\sin x_i}$ for each element $x_i$=`x[i]` of the array `x`:"
   ]
  },
  {
   "cell_type": "code",
   "execution_count": 24,
   "metadata": {},
   "outputs": [
    {
     "data": {
      "text/plain": [
       "20-element Array{Float64,1}:\n",
       " 2.252801821441231 \n",
       " 1.4062828064570136\n",
       " 1.3868308600826773\n",
       " 2.1612394470998884\n",
       " 1.7983992949301992\n",
       " 1.2361159851781902\n",
       " 1.9506149532443027\n",
       " 1.9295305454755984\n",
       " 2.056682486634361 \n",
       " 1.334239780879499 \n",
       " 1.6726326435177121\n",
       " 2.0466054550054564\n",
       " 2.249133869174342 \n",
       " 1.489002135957207 \n",
       " 1.933500827852558 \n",
       " 1.289833264847163 \n",
       " 1.248575982808516 \n",
       " 1.3410255113034857\n",
       " 1.701106044220389 \n",
       " 2.2587382412098727"
      ]
     },
     "execution_count": 24,
     "metadata": {},
     "output_type": "execute_result"
    }
   ],
   "source": [
    "exp.(sin.(x))"
   ]
  },
  {
   "cell_type": "markdown",
   "metadata": {},
   "source": [
    "## Plotting"
   ]
  },
  {
   "cell_type": "code",
   "execution_count": 2,
   "metadata": {},
   "outputs": [
    {
     "name": "stderr",
     "output_type": "stream",
     "text": [
      "┌ Info: Precompiling PyPlot [d330b81b-6aea-500a-939a-2ce795aea3ee]\n",
      "└ @ Base loading.jl:1192\n"
     ]
    }
   ],
   "source": [
    "using PyPlot # thin wrapper around Python Matplotlib"
   ]
  },
  {
   "cell_type": "code",
   "execution_count": 3,
   "metadata": {},
   "outputs": [
    {
     "data": {
      "image/png": "[encoded data removed]",
      "text/plain": [
       "Figure(PyObject <Figure size 640x480 with 1 Axes>)"
      ]
     },
     "metadata": {},
     "output_type": "display_data"
    },
    {
     "data": {
      "text/plain": [
       "1-element Array{PyCall.PyObject,1}:\n",
       " PyObject <matplotlib.lines.Line2D object at 0x7f062c197b00>"
      ]
     },
     "execution_count": 3,
     "metadata": {},
     "output_type": "execute_result"
    }
   ],
   "source": [
    "#x = linspace(0,1,20)\n",
    "x = range(0, stop=1, length=20)\n",
    "plot(x, x.*x, \"bo-\")"
   ]
  },
  {
   "cell_type": "markdown",
   "metadata": {},
   "source": [
    "Let's plot a more complicated function, $\\sqrt{e^{x^2}} = e^{x^2/2}$:"
   ]
  },
  {
   "cell_type": "code",
   "execution_count": 4,
   "metadata": {},
   "outputs": [
    {
     "data": {
      "image/png": "[encoded data removed]",
      "text/plain": [
       "Figure(PyObject <Figure size 640x480 with 1 Axes>)"
      ]
     },
     "metadata": {},
     "output_type": "display_data"
    }
   ],
   "source": [
    "#x = linspace(0, 3, 100)\n",
    "x = range(0, stop=3, length=100)\n",
    "plot(x, sqrt.(exp.(x.*x)), \"r-\")\n",
    "title(\"a more complicated function\")\n",
    "xlabel(L\"x\")\n",
    "ylabel(L\"\\sqrt{e^{x^2}}\")\n",
    "grid()"
   ]
  },
  {
   "cell_type": "code",
   "execution_count": 5,
   "metadata": {},
   "outputs": [
    {
     "data": {
      "image/png": "[encoded data removed]",
      "text/plain": [
       "Figure(PyObject <Figure size 640x480 with 1 Axes>)"
      ]
     },
     "metadata": {},
     "output_type": "display_data"
    },
    {
     "data": {
      "text/plain": [
       "PyObject <matplotlib.legend.Legend object at 0x7f05f62a9c50>"
      ]
     },
     "execution_count": 5,
     "metadata": {},
     "output_type": "execute_result"
    }
   ],
   "source": [
    "#x = linspace(0.1, 3, 100)\n",
    "x = range(0.1, stop=3, length=100)\n",
    "loglog(x, x.^(-2), \"r-\")\n",
    "loglog(x, x.^(-3), \"b-\")\n",
    "title(\"a couple of power laws\")\n",
    "xlabel(L\"x\")\n",
    "legend([L\"1/x^2\", L\"1/x^3\"])"
   ]
  },
  {
   "cell_type": "markdown",
   "metadata": {},
   "source": [
    "## Linear algebra"
   ]
  },
  {
   "cell_type": "code",
   "execution_count": 6,
   "metadata": {},
   "outputs": [
    {
     "data": {
      "text/plain": [
       "3×4 Array{Int64,2}:\n",
       " 1   2   3   4\n",
       " 5   6   7   8\n",
       " 9  10  11  12"
      ]
     },
     "execution_count": 6,
     "metadata": {},
     "output_type": "execute_result"
    }
   ],
   "source": [
    "A = [1 2 3 4; 5 6 7 8; 9 10 11 12]"
   ]
  },
  {
   "cell_type": "code",
   "execution_count": 7,
   "metadata": {},
   "outputs": [
    {
     "data": {
      "text/plain": [
       "3×4 Array{Int64,2}:\n",
       " 1   2   3   4\n",
       " 5   6   7   8\n",
       " 9  10  11  12"
      ]
     },
     "execution_count": 7,
     "metadata": {},
     "output_type": "execute_result"
    }
   ],
   "source": [
    "A = [1 2 3 4\n",
    "     5 6 7 8\n",
    "     9 10 11 12]"
   ]
  },
  {
   "cell_type": "code",
   "execution_count": 8,
   "metadata": {},
   "outputs": [
    {
     "data": {
      "text/plain": [
       "4×4 Array{Float64,2}:\n",
       " 0.771342  0.427443  0.564331  0.145229\n",
       " 0.345243  0.702774  0.134096  0.737893\n",
       " 0.445702  0.33424   0.514582  0.643734\n",
       " 0.040056  0.560327  0.667272  0.746664"
      ]
     },
     "execution_count": 8,
     "metadata": {},
     "output_type": "execute_result"
    }
   ],
   "source": [
    "A = rand(4,4)"
   ]
  },
  {
   "cell_type": "code",
   "execution_count": 9,
   "metadata": {},
   "outputs": [
    {
     "data": {
      "text/plain": [
       "1000×1000 Array{Float64,2}:\n",
       " -0.202752   -0.551133   -1.06634    …   1.26362     0.232436   -1.45342  \n",
       " -0.131505   -1.56724     0.522436      -1.95621    -0.0952809   1.51475  \n",
       " -0.915535   -0.386229    1.46588        0.476604   -1.55246     0.470214 \n",
       "  0.212401    0.685192   -0.117609      -0.802796    0.633013   -0.995654 \n",
       " -0.300767   -0.895979   -0.147954      -1.91834    -0.053597    0.483908 \n",
       " -0.311416    0.452429   -1.32069    …  -0.716934    0.565797   -0.496738 \n",
       "  0.54725    -0.0943763   1.42739        0.307726    1.20863     0.663433 \n",
       " -0.799852    0.0675751  -0.719582       0.825425    0.475336    0.680128 \n",
       " -0.0161107   0.115004    1.38054        1.40274    -1.02288    -0.0975114\n",
       "  1.28113    -0.869115   -0.128713      -0.974691    0.323545   -0.748677 \n",
       " -1.65052    -0.687298   -0.850991   …  -0.479379   -1.39084    -1.66807  \n",
       " -0.339635    0.0710471   0.58426       -0.920576   -0.545821   -1.11175  \n",
       " -1.05137    -0.0101107  -1.26595        0.197687    0.597405   -1.16063  \n",
       "  ⋮                                  ⋱                                    \n",
       " -0.160437   -0.105072    0.0868018     -0.87615     0.718041   -0.923287 \n",
       " -0.280905    0.342886   -0.103891      -0.390482   -0.549028   -0.18751  \n",
       " -1.17496     1.2096     -0.470586   …   0.0264151  -0.776583    0.621189 \n",
       " -0.760941   -0.543517    0.608667      -0.895034    1.7285      1.686    \n",
       "  0.0685323  -0.300164    0.359671       0.426266   -0.226057   -0.305961 \n",
       "  0.508168    1.30122     1.55804       -0.0462825   1.57004    -1.73204  \n",
       " -0.588361   -0.166765   -0.663042      -0.273766   -0.760986   -0.739247 \n",
       " -1.05774    -1.25433    -1.78401    …   0.591995   -0.889108   -1.30904  \n",
       " -0.21046    -0.388252    0.348745       1.33605    -2.32019    -0.568043 \n",
       "  0.0153579  -0.323463    1.97847        1.03077     1.74814    -0.579212 \n",
       "  0.409504   -0.755375    1.37692        1.07213    -1.61884     0.591581 \n",
       " -1.16267    -1.28913     1.56567       -0.318042    0.755479    0.944901 "
      ]
     },
     "execution_count": 9,
     "metadata": {},
     "output_type": "execute_result"
    }
   ],
   "source": [
    "A = randn(1000,1000)"
   ]
  },
  {
   "cell_type": "code",
   "execution_count": 10,
   "metadata": {},
   "outputs": [
    {
     "data": {
      "text/plain": [
       "1000-element Array{Float64,1}:\n",
       " -1.005942135047953   \n",
       "  0.3409011869778411  \n",
       "  0.6233420426510713  \n",
       "  0.8747347816897918  \n",
       " -0.7187732347062505  \n",
       " -1.3642614628563883  \n",
       " -0.4579256822709033  \n",
       "  1.1433129603121006  \n",
       "  0.27884943368038095 \n",
       "  0.5592857862038355  \n",
       " -1.2556705712638494  \n",
       " -0.8281081195434868  \n",
       "  0.22210293129357364 \n",
       "  ⋮                   \n",
       "  0.8859326701742359  \n",
       " -0.29704439233378405 \n",
       "  0.9135923050397015  \n",
       " -1.8208179383714285  \n",
       "  2.2507820437601773  \n",
       " -1.6262501946160173  \n",
       " -0.13034476904006484 \n",
       "  0.38037396127457795 \n",
       " -0.2722007069443478  \n",
       " -1.7925819714443767  \n",
       "  0.058669822424323385\n",
       " -0.15414928399984318 "
      ]
     },
     "execution_count": 10,
     "metadata": {},
     "output_type": "execute_result"
    }
   ],
   "source": [
    "b = randn(1000)"
   ]
  },
  {
   "cell_type": "markdown",
   "metadata": {},
   "source": [
    "Let's solve $Ax = b$:"
   ]
  },
  {
   "cell_type": "code",
   "execution_count": 11,
   "metadata": {},
   "outputs": [
    {
     "data": {
      "text/plain": [
       "1000-element Array{Float64,1}:\n",
       "  0.2387437420643696  \n",
       "  0.08580312825258152 \n",
       " -0.2272563311027933  \n",
       " -0.5440126248127868  \n",
       " -0.12323344403709793 \n",
       "  0.20083402521924248 \n",
       "  0.01543292678221024 \n",
       "  0.6218929659688082  \n",
       " -0.19993360857888579 \n",
       " -0.3255101362594384  \n",
       " -1.0284819125047635  \n",
       "  0.3659510273133255  \n",
       "  0.3751317672691475  \n",
       "  ⋮                   \n",
       " -0.327227285295732   \n",
       " -0.3680541756030425  \n",
       "  0.8603423648652807  \n",
       " -0.3766047946709169  \n",
       "  0.06966658951293239 \n",
       " -0.4645135148565275  \n",
       " -0.1439636783308145  \n",
       "  1.2662898028665712  \n",
       "  0.37560273174885317 \n",
       " -0.003684743697202942\n",
       "  0.31540974680219236 \n",
       " -0.8403028249983902  "
      ]
     },
     "execution_count": 11,
     "metadata": {},
     "output_type": "execute_result"
    }
   ],
   "source": [
    "x = inv(A) * b"
   ]
  },
  {
   "cell_type": "code",
   "execution_count": 12,
   "metadata": {},
   "outputs": [
    {
     "data": {
      "text/plain": [
       "1000-element Array{Float64,1}:\n",
       "  0.23874374206435314  \n",
       "  0.08580312825259963  \n",
       " -0.22725633110283178  \n",
       " -0.5440126248128037   \n",
       " -0.12323344403709507  \n",
       "  0.20083402521929272  \n",
       "  0.015432926782170658 \n",
       "  0.6218929659687633   \n",
       " -0.19993360857891038  \n",
       " -0.32551013625943487  \n",
       " -1.028481912504497    \n",
       "  0.3659510273132943   \n",
       "  0.3751317672691673   \n",
       "  ⋮                    \n",
       " -0.3272272852957312   \n",
       " -0.36805417560301124  \n",
       "  0.8603423648653111   \n",
       " -0.3766047946709008   \n",
       "  0.06966658951296156  \n",
       " -0.4645135148564361   \n",
       " -0.14396367833082346  \n",
       "  1.2662898028667107   \n",
       "  0.3756027317487996   \n",
       " -0.0036847436972039845\n",
       "  0.31540974680220774  \n",
       " -0.8403028249985189   "
      ]
     },
     "execution_count": 12,
     "metadata": {},
     "output_type": "execute_result"
    }
   ],
   "source": [
    "x = A \\ b"
   ]
  },
  {
   "cell_type": "code",
   "execution_count": 13,
   "metadata": {},
   "outputs": [],
   "source": [
    "using LinearAlgebra"
   ]
  },
  {
   "cell_type": "code",
   "execution_count": null,
   "metadata": {},
   "outputs": [],
   "source": []
  },
  {
   "cell_type": "code",
   "execution_count": 14,
   "metadata": {},
   "outputs": [
    {
     "data": {
      "text/plain": [
       "1000-element Array{Complex{Float64},1}:\n",
       "   -30.271797295083665 + 10.884089909502437im\n",
       "   -30.271797295083665 - 10.884089909502437im\n",
       "   -31.522192405916122 + 5.373346713245113im \n",
       "   -31.522192405916122 - 5.373346713245113im \n",
       "   -21.603866304446292 + 24.059795856309773im\n",
       "   -21.603866304446292 - 24.059795856309773im\n",
       "   -31.418913079984243 + 1.742832623258785im \n",
       "   -31.418913079984243 - 1.742832623258785im \n",
       "   -27.231676646310717 + 15.959319926305378im\n",
       "   -27.231676646310717 - 15.959319926305378im\n",
       "   -28.144434000184347 + 13.278258557079532im\n",
       "   -28.144434000184347 - 13.278258557079532im\n",
       "   -23.816124074374024 + 20.235979180538607im\n",
       "                       ⋮                     \n",
       "    0.5833730673577259 + 4.12659389522664im  \n",
       "    0.5833730673577259 - 4.12659389522664im  \n",
       " 0.0046608381259492515 + 3.7032875932333105im\n",
       " 0.0046608381259492515 - 3.7032875932333105im\n",
       "   -0.1895377974645219 + 2.7496861832598474im\n",
       "   -0.1895377974645219 - 2.7496861832598474im\n",
       "   -1.6686845411110003 + 0.5097559530901357im\n",
       "   -1.6686845411110003 - 0.5097559530901357im\n",
       "    1.3948844482935558 + 0.0im               \n",
       "    1.9805102624017574 + 0.0im               \n",
       "    0.7049735843956519 + 0.0im               \n",
       "   -0.4027605869422942 + 0.0im               "
      ]
     },
     "execution_count": 14,
     "metadata": {},
     "output_type": "execute_result"
    }
   ],
   "source": [
    "λ = eigvals(A)"
   ]
  },
  {
   "cell_type": "markdown",
   "metadata": {},
   "source": [
    "You may be wondering how to type `λ`.  It turns out you can just type `\\lambda` (the LaTeX code for λ) and then hit *tab*.  You can type much more complicated variable names this way.  (This is all thanks to Julia's support for something called [Unicode](https://en.wikipedia.org/wiki/Unicode).)"
   ]
  },
  {
   "cell_type": "code",
   "execution_count": 15,
   "metadata": {},
   "outputs": [
    {
     "data": {
      "text/plain": [
       "7"
      ]
     },
     "execution_count": 15,
     "metadata": {},
     "output_type": "execute_result"
    }
   ],
   "source": [
    "x̂₂′ = 7 # x\\hat<tab>\\_2<tab>\\prime<tab>"
   ]
  },
  {
   "cell_type": "code",
   "execution_count": 16,
   "metadata": {},
   "outputs": [
    {
     "data": {
      "image/png": "[encoded data removed]",
      "text/plain": [
       "Figure(PyObject <Figure size 640x480 with 1 Axes>)"
      ]
     },
     "metadata": {},
     "output_type": "display_data"
    }
   ],
   "source": [
    "A = randn(1000,1000)\n",
    "λ = eigvals(A)\n",
    "plot(real(λ), imag(λ), \"b.\")\n",
    "axis(\"equal\")\n",
    "xlabel(L\"\\Re \\lambda\")\n",
    "ylabel(L\"\\Im \\lambda\")\n",
    "savefig(\"foo.pdf\")"
   ]
  },
  {
   "cell_type": "code",
   "execution_count": 17,
   "metadata": {},
   "outputs": [
    {
     "data": {
      "text/plain": [
       "5×5 Array{Float64,2}:\n",
       " 0.144918   0.741468  0.183072  0.763418   0.595878 \n",
       " 0.544476   0.415284  0.994545  0.0550877  0.854949 \n",
       " 0.966836   0.790082  0.606647  0.0333472  0.371173 \n",
       " 0.462749   0.700161  0.633329  0.993956   0.179972 \n",
       " 0.0536741  0.966433  0.483108  0.81339    0.0174443"
      ]
     },
     "execution_count": 17,
     "metadata": {},
     "output_type": "execute_result"
    }
   ],
   "source": [
    "A = rand(5,5)"
   ]
  },
  {
   "cell_type": "code",
   "execution_count": 18,
   "metadata": {},
   "outputs": [
    {
     "data": {
      "text/plain": [
       "Eigen{Complex{Float64},Complex{Float64},Array{Complex{Float64},2},Array{Complex{Float64},1}}\n",
       "eigenvalues:\n",
       "5-element Array{Complex{Float64},1}:\n",
       "   2.6960351811582735 + 0.0im               \n",
       " -0.16535385888549475 + 0.5518433877390279im\n",
       " -0.16535385888549475 - 0.5518433877390279im\n",
       "  -0.7037747989588706 + 0.0im               \n",
       "   0.5166963302771077 + 0.0im               \n",
       "eigenvectors:\n",
       "5×5 Array{Complex{Float64},2}:\n",
       " 0.411954+0.0im  …  -7.50396e-5+0.0im    0.391858+0.0im\n",
       " 0.456966+0.0im         0.71473+0.0im   -0.476862+0.0im\n",
       " 0.443932+0.0im       -0.245976+0.0im   -0.306254+0.0im\n",
       "  0.50825+0.0im       -0.135069+0.0im    0.724739+0.0im\n",
       " 0.407532+0.0im       -0.640635+0.0im  0.00344163+0.0im"
      ]
     },
     "execution_count": 18,
     "metadata": {},
     "output_type": "execute_result"
    }
   ],
   "source": [
    "#λ, X = eig(A)\n",
    "λ, X = eigen(A)"
   ]
  },
  {
   "cell_type": "code",
   "execution_count": 19,
   "metadata": {},
   "outputs": [
    {
     "data": {
      "text/plain": [
       "5-element Array{Complex{Float64},1}:\n",
       "   2.6960351811582735 + 0.0im               \n",
       " -0.16535385888549475 + 0.5518433877390279im\n",
       " -0.16535385888549475 - 0.5518433877390279im\n",
       "  -0.7037747989588706 + 0.0im               \n",
       "   0.5166963302771077 + 0.0im               "
      ]
     },
     "execution_count": 19,
     "metadata": {},
     "output_type": "execute_result"
    }
   ],
   "source": [
    "λ"
   ]
  },
  {
   "cell_type": "code",
   "execution_count": 20,
   "metadata": {},
   "outputs": [
    {
     "data": {
      "text/plain": [
       "5×5 Array{Complex{Float64},2}:\n",
       " 0.411954+0.0im  …  -7.50396e-5+0.0im    0.391858+0.0im\n",
       " 0.456966+0.0im         0.71473+0.0im   -0.476862+0.0im\n",
       " 0.443932+0.0im       -0.245976+0.0im   -0.306254+0.0im\n",
       "  0.50825+0.0im       -0.135069+0.0im    0.724739+0.0im\n",
       " 0.407532+0.0im       -0.640635+0.0im  0.00344163+0.0im"
      ]
     },
     "execution_count": 20,
     "metadata": {},
     "output_type": "execute_result"
    }
   ],
   "source": [
    "X "
   ]
  },
  {
   "cell_type": "code",
   "execution_count": 21,
   "metadata": {},
   "outputs": [
    {
     "data": {
      "text/plain": [
       "(Complex{Float64}[2.69604+0.0im, -0.165354+0.551843im, -0.165354-0.551843im, -0.703775+0.0im, 0.516696+0.0im], Complex{Float64}[0.411954+0.0im -0.610255+0.0im … -7.50396e-5+0.0im 0.391858+0.0im; 0.456966+0.0im 0.0909473-0.0502792im … 0.71473+0.0im -0.476862+0.0im; … ; 0.50825+0.0im 0.0855157-0.130958im … -0.135069+0.0im 0.724739+0.0im; 0.407532+0.0im 0.00215194-0.49133im … -0.640635+0.0im 0.00344163+0.0im])"
      ]
     },
     "execution_count": 21,
     "metadata": {},
     "output_type": "execute_result"
    }
   ],
   "source": [
    "λ, X"
   ]
  },
  {
   "cell_type": "code",
   "execution_count": 22,
   "metadata": {},
   "outputs": [
    {
     "data": {
      "text/html": [
       "<script>\n",
       "// Immediately-invoked-function-expression to avoid global variables.\n",
       "(function() {\n",
       "    var warning_div = document.getElementById(\"webio-warning-4337490948117368626\");\n",
       "    var hide = function () {\n",
       "        var script = document.getElementById(\"webio-setup-6179915379082901416\");\n",
       "        var parent = script && script.parentElement;\n",
       "        var grandparent = parent && parent.parentElement;\n",
       "        if (grandparent) {\n",
       "            grandparent.style.display = \"none\";\n",
       "        }\n",
       "        warning_div.style.display = \"none\";\n",
       "    };\n",
       "    if (typeof Jupyter !== \"undefined\") {\n",
       "        console.log(\"WebIO detected Jupyter notebook environment.\");\n",
       "        // Jupyter notebook.\n",
       "        var extensions = (\n",
       "            Jupyter\n",
       "            && Jupyter.notebook.config.data\n",
       "            && Jupyter.notebook.config.data.load_extensions\n",
       "        );\n",
       "        if (extensions && extensions[\"webio-jupyter-notebook\"]) {\n",
       "            // Extension already loaded.\n",
       "            console.log(\"Jupyter WebIO nbextension detected; not loading ad-hoc.\");\n",
       "            hide();\n",
       "            return;\n",
       "        }\n",
       "    } else if (window.location.pathname.includes(\"/lab\")) {\n",
       "        // Guessing JupyterLa\n",
       "        console.log(\"Jupyter Lab detected; make sure the @webio/jupyter-lab-provider labextension is installed.\");\n",
       "        hide();\n",
       "        return;\n",
       "    }\n",
       "})();\n",
       "\n",
       "</script>\n",
       "<p\n",
       "    id=\"webio-warning-4337490948117368626\"\n",
       "    class=\"output_text output_stderr\"\n",
       "    style=\"padding: 1em; font-weight: bold;\"\n",
       ">\n",
       "    Unable to load WebIO. Please make sure WebIO works for your Jupyter client.\n",
       "    For troubleshooting, please see <a href=\"https://juliagizmos.github.io/WebIO.jl/latest/providers/ijulia/\">\n",
       "    the WebIO/IJulia documentation</a>.\n",
       "    <!-- TODO: link to installation docs. -->\n",
       "</p>\n"
      ],
      "text/plain": [
       "HTML{String}(\"<script>\\n// Immediately-invoked-function-expression to avoid global variables.\\n(function() {\\n    var warning_div = document.getElementById(\\\"webio-warning-4337490948117368626\\\");\\n    var hide = function () {\\n        var script = document.getElementById(\\\"webio-setup-6179915379082901416\\\");\\n        var parent = script && script.parentElement;\\n        var grandparent = parent && parent.parentElement;\\n        if (grandparent) {\\n            grandparent.style.display = \\\"none\\\";\\n        }\\n        warning_div.style.display = \\\"none\\\";\\n    };\\n    if (typeof Jupyter !== \\\"undefined\\\") {\\n        console.log(\\\"WebIO detected Jupyter notebook environment.\\\");\\n        // Jupyter notebook.\\n        var extensions = (\\n            Jupyter\\n            && Jupyter.notebook.config.data\\n            && Jupyter.notebook.config.data.load_extensions\\n        );\\n        if (extensions && extensions[\\\"webio-jupyter-notebook\\\"]) {\\n            // Extension already loaded.\\n            console.log(\\\"Jupyter WebIO nbextension detected; not loading ad-hoc.\\\");\\n            hide();\\n            return;\\n        }\\n    } else if (window.location.pathname.includes(\\\"/lab\\\")) {\\n        // Guessing JupyterLa\\n        console.log(\\\"Jupyter Lab detected; make sure the @webio/jupyter-lab-provider labextension is installed.\\\");\\n        hide();\\n        return;\\n    }\\n})();\\n\\n</script>\\n<p\\n    id=\\\"webio-warning-4337490948117368626\\\"\\n    class=\\\"output_text output_stderr\\\"\\n    style=\\\"padding: 1em; font-weight: bold;\\\"\\n>\\n    Unable to load WebIO. Please make sure WebIO works for your Jupyter client.\\n    For troubleshooting, please see <a href=\\\"https://juliagizmos.github.io/WebIO.jl/latest/providers/ijulia/\\\">\\n    the WebIO/IJulia documentation</a>.\\n    <!-- TODO: link to installation docs. -->\\n</p>\\n\")"
      ]
     },
     "metadata": {},
     "output_type": "display_data"
    }
   ],
   "source": [
    "using Interact"
   ]
  },
  {
   "cell_type": "code",
   "execution_count": 23,
   "metadata": {},
   "outputs": [
    {
     "data": {
      "application/vnd.webio.node+json": {
       "children": [
        {
         "children": [
          {
           "children": [
            {
             "children": [
              {
               "children": [
                {
                 "children": [
                  "n"
                 ],
                 "instanceArgs": {
                  "namespace": "html",
                  "tag": "label"
                 },
                 "nodeType": "DOM",
                 "props": {
                  "className": "interact ",
                  "style": {
                   "padding": "5px 10px 0px 10px"
                  }
                 },
                 "type": "node"
                }
               ],
               "instanceArgs": {
                "namespace": "html",
                "tag": "div"
               },
               "nodeType": "DOM",
               "props": {
                "className": "interact-flex-row-left"
               },
               "type": "node"
              },
              {
               "children": [
                {
                 "children": [],
                 "instanceArgs": {
                  "namespace": "html",
                  "tag": "input"
                 },
                 "nodeType": "DOM",
                 "props": {
                  "attributes": {
                   "data-bind": "numericValue: index, valueUpdate: 'input', event: {change: function (){this.changes(this.changes()+1)}}",
                   "orient": "horizontal",
                   "type": "range"
                  },
                  "className": "slider slider is-fullwidth",
                  "max": 1000,
                  "min": 10,
                  "step": 1,
                  "style": {}
                 },
                 "type": "node"
                }
               ],
               "instanceArgs": {
                "namespace": "html",
                "tag": "div"
               },
               "nodeType": "DOM",
               "props": {
                "className": "interact-flex-row-center"
               },
               "type": "node"
              },
              {
               "children": [
                {
                 "children": [],
                 "instanceArgs": {
                  "namespace": "html",
                  "tag": "p"
                 },
                 "nodeType": "DOM",
                 "props": {
                  "attributes": {
                   "data-bind": "text: formatted_val"
                  }
                 },
                 "type": "node"
                }
               ],
               "instanceArgs": {
                "namespace": "html",
                "tag": "div"
               },
               "nodeType": "DOM",
               "props": {
                "className": "interact-flex-row-right"
               },
               "type": "node"
              }
             ],
             "instanceArgs": {
              "namespace": "html",
              "tag": "div"
             },
             "nodeType": "DOM",
             "props": {
              "className": "interact-flex-row interact-widget"
             },
             "type": "node"
            }
           ],
           "instanceArgs": {
            "handlers": {
             "changes": [
              "(function (val){return (val!=this.model[\"changes\"]()) ? (this.valueFromJulia[\"changes\"]=true, this.model[\"changes\"](val)) : undefined})"
             ],
             "index": [
              "(function (val){return (val!=this.model[\"index\"]()) ? (this.valueFromJulia[\"index\"]=true, this.model[\"index\"](val)) : undefined})"
             ]
            },
            "id": "2476525296645436800",
            "imports": {
             "data": [
              {
               "name": "knockout",
               "type": "js",
               "url": "/assetserver/a640663e3908763889bbe9bde6d9d61565df4a62-knockout.js"
              },
              {
               "name": "knockout_punches",
               "type": "js",
               "url": "/assetserver/8fc0b36b5ecb22f13021fb56baafba37abe9dcf2-knockout_punches.js"
              },
              {
               "name": null,
               "type": "js",
               "url": "/assetserver/87a645b15dc699eca506abf5a296a5295d5c1bb2-all.js"
              },
              {
               "name": null,
               "type": "css",
               "url": "/assetserver/1ec5ee9823d90485f11267898d87fd061c8884f5-style.css"
              },
              {
               "name": null,
               "type": "css",
               "url": "/assetserver/e5e03f73eee90cc09eab8f0f2b41d76ab5b4a42f-bulma_confined.min.css"
              }
             ],
             "type": "async_block"
            },
            "mount_callbacks": [
             "function () {\n    var handler = (function (ko, koPunches) {\n    ko.punches.enableAll();\n    ko.bindingHandlers.numericValue = {\n        init: function(element, valueAccessor, allBindings, data, context) {\n            var stringified = ko.observable(ko.unwrap(valueAccessor()));\n            stringified.subscribe(function(value) {\n                var val = parseFloat(value);\n                if (!isNaN(val)) {\n                    valueAccessor()(val);\n                }\n            });\n            valueAccessor().subscribe(function(value) {\n                var str = JSON.stringify(value);\n                if ((str == \"0\") && ([\"-0\", \"-0.\"].indexOf(stringified()) >= 0))\n                     return;\n                 if ([\"null\", \"\"].indexOf(str) >= 0)\n                     return;\n                stringified(str);\n            });\n            ko.applyBindingsToNode(\n                element,\n                {\n                    value: stringified,\n                    valueUpdate: allBindings.get('valueUpdate'),\n                },\n                context,\n            );\n        }\n    };\n    var json_data = {\"formatted_vals\":[\"10\",\"11\",\"12\",\"13\",\"14\",\"15\",\"16\",\"17\",\"18\",\"19\",\"20\",\"21\",\"22\",\"23\",\"24\",\"25\",\"26\",\"27\",\"28\",\"29\",\"30\",\"31\",\"32\",\"33\",\"34\",\"35\",\"36\",\"37\",\"38\",\"39\",\"40\",\"41\",\"42\",\"43\",\"44\",\"45\",\"46\",\"47\",\"48\",\"49\",\"50\",\"51\",\"52\",\"53\",\"54\",\"55\",\"56\",\"57\",\"58\",\"59\",\"60\",\"61\",\"62\",\"63\",\"64\",\"65\",\"66\",\"67\",\"68\",\"69\",\"70\",\"71\",\"72\",\"73\",\"74\",\"75\",\"76\",\"77\",\"78\",\"79\",\"80\",\"81\",\"82\",\"83\",\"84\",\"85\",\"86\",\"87\",\"88\",\"89\",\"90\",\"91\",\"92\",\"93\",\"94\",\"95\",\"96\",\"97\",\"98\",\"99\",\"100\",\"101\",\"102\",\"103\",\"104\",\"105\",\"106\",\"107\",\"108\",\"109\",\"110\",\"111\",\"112\",\"113\",\"114\",\"115\",\"116\",\"117\",\"118\",\"119\",\"120\",\"121\",\"122\",\"123\",\"124\",\"125\",\"126\",\"127\",\"128\",\"129\",\"130\",\"131\",\"132\",\"133\",\"134\",\"135\",\"136\",\"137\",\"138\",\"139\",\"140\",\"141\",\"142\",\"143\",\"144\",\"145\",\"146\",\"147\",\"148\",\"149\",\"150\",\"151\",\"152\",\"153\",\"154\",\"155\",\"156\",\"157\",\"158\",\"159\",\"160\",\"161\",\"162\",\"163\",\"164\",\"165\",\"166\",\"167\",\"168\",\"169\",\"170\",\"171\",\"172\",\"173\",\"174\",\"175\",\"176\",\"177\",\"178\",\"179\",\"180\",\"181\",\"182\",\"183\",\"184\",\"185\",\"186\",\"187\",\"188\",\"189\",\"190\",\"191\",\"192\",\"193\",\"194\",\"195\",\"196\",\"197\",\"198\",\"199\",\"200\",\"201\",\"202\",\"203\",\"204\",\"205\",\"206\",\"207\",\"208\",\"209\",\"210\",\"211\",\"212\",\"213\",\"214\",\"215\",\"216\",\"217\",\"218\",\"219\",\"220\",\"221\",\"222\",\"223\",\"224\",\"225\",\"226\",\"227\",\"228\",\"229\",\"230\",\"231\",\"232\",\"233\",\"234\",\"235\",\"236\",\"237\",\"238\",\"239\",\"240\",\"241\",\"242\",\"243\",\"244\",\"245\",\"246\",\"247\",\"248\",\"249\",\"250\",\"251\",\"252\",\"253\",\"254\",\"255\",\"256\",\"257\",\"258\",\"259\",\"260\",\"261\",\"262\",\"263\",\"264\",\"265\",\"266\",\"267\",\"268\",\"269\",\"270\",\"271\",\"272\",\"273\",\"274\",\"275\",\"276\",\"277\",\"278\",\"279\",\"280\",\"281\",\"282\",\"283\",\"284\",\"285\",\"286\",\"287\",\"288\",\"289\",\"290\",\"291\",\"292\",\"293\",\"294\",\"295\",\"296\",\"297\",\"298\",\"299\",\"300\",\"301\",\"302\",\"303\",\"304\",\"305\",\"306\",\"307\",\"308\",\"309\",\"310\",\"311\",\"312\",\"313\",\"314\",\"315\",\"316\",\"317\",\"318\",\"319\",\"320\",\"321\",\"322\",\"323\",\"324\",\"325\",\"326\",\"327\",\"328\",\"329\",\"330\",\"331\",\"332\",\"333\",\"334\",\"335\",\"336\",\"337\",\"338\",\"339\",\"340\",\"341\",\"342\",\"343\",\"344\",\"345\",\"346\",\"347\",\"348\",\"349\",\"350\",\"351\",\"352\",\"353\",\"354\",\"355\",\"356\",\"357\",\"358\",\"359\",\"360\",\"361\",\"362\",\"363\",\"364\",\"365\",\"366\",\"367\",\"368\",\"369\",\"370\",\"371\",\"372\",\"373\",\"374\",\"375\",\"376\",\"377\",\"378\",\"379\",\"380\",\"381\",\"382\",\"383\",\"384\",\"385\",\"386\",\"387\",\"388\",\"389\",\"390\",\"391\",\"392\",\"393\",\"394\",\"395\",\"396\",\"397\",\"398\",\"399\",\"400\",\"401\",\"402\",\"403\",\"404\",\"405\",\"406\",\"407\",\"408\",\"409\",\"410\",\"411\",\"412\",\"413\",\"414\",\"415\",\"416\",\"417\",\"418\",\"419\",\"420\",\"421\",\"422\",\"423\",\"424\",\"425\",\"426\",\"427\",\"428\",\"429\",\"430\",\"431\",\"432\",\"433\",\"434\",\"435\",\"436\",\"437\",\"438\",\"439\",\"440\",\"441\",\"442\",\"443\",\"444\",\"445\",\"446\",\"447\",\"448\",\"449\",\"450\",\"451\",\"452\",\"453\",\"454\",\"455\",\"456\",\"457\",\"458\",\"459\",\"460\",\"461\",\"462\",\"463\",\"464\",\"465\",\"466\",\"467\",\"468\",\"469\",\"470\",\"471\",\"472\",\"473\",\"474\",\"475\",\"476\",\"477\",\"478\",\"479\",\"480\",\"481\",\"482\",\"483\",\"484\",\"485\",\"486\",\"487\",\"488\",\"489\",\"490\",\"491\",\"492\",\"493\",\"494\",\"495\",\"496\",\"497\",\"498\",\"499\",\"500\",\"501\",\"502\",\"503\",\"504\",\"505\",\"506\",\"507\",\"508\",\"509\",\"510\",\"511\",\"512\",\"513\",\"514\",\"515\",\"516\",\"517\",\"518\",\"519\",\"520\",\"521\",\"522\",\"523\",\"524\",\"525\",\"526\",\"527\",\"528\",\"529\",\"530\",\"531\",\"532\",\"533\",\"534\",\"535\",\"536\",\"537\",\"538\",\"539\",\"540\",\"541\",\"542\",\"543\",\"544\",\"545\",\"546\",\"547\",\"548\",\"549\",\"550\",\"551\",\"552\",\"553\",\"554\",\"555\",\"556\",\"557\",\"558\",\"559\",\"560\",\"561\",\"562\",\"563\",\"564\",\"565\",\"566\",\"567\",\"568\",\"569\",\"570\",\"571\",\"572\",\"573\",\"574\",\"575\",\"576\",\"577\",\"578\",\"579\",\"580\",\"581\",\"582\",\"583\",\"584\",\"585\",\"586\",\"587\",\"588\",\"589\",\"590\",\"591\",\"592\",\"593\",\"594\",\"595\",\"596\",\"597\",\"598\",\"599\",\"600\",\"601\",\"602\",\"603\",\"604\",\"605\",\"606\",\"607\",\"608\",\"609\",\"610\",\"611\",\"612\",\"613\",\"614\",\"615\",\"616\",\"617\",\"618\",\"619\",\"620\",\"621\",\"622\",\"623\",\"624\",\"625\",\"626\",\"627\",\"628\",\"629\",\"630\",\"631\",\"632\",\"633\",\"634\",\"635\",\"636\",\"637\",\"638\",\"639\",\"640\",\"641\",\"642\",\"643\",\"644\",\"645\",\"646\",\"647\",\"648\",\"649\",\"650\",\"651\",\"652\",\"653\",\"654\",\"655\",\"656\",\"657\",\"658\",\"659\",\"660\",\"661\",\"662\",\"663\",\"664\",\"665\",\"666\",\"667\",\"668\",\"669\",\"670\",\"671\",\"672\",\"673\",\"674\",\"675\",\"676\",\"677\",\"678\",\"679\",\"680\",\"681\",\"682\",\"683\",\"684\",\"685\",\"686\",\"687\",\"688\",\"689\",\"690\",\"691\",\"692\",\"693\",\"694\",\"695\",\"696\",\"697\",\"698\",\"699\",\"700\",\"701\",\"702\",\"703\",\"704\",\"705\",\"706\",\"707\",\"708\",\"709\",\"710\",\"711\",\"712\",\"713\",\"714\",\"715\",\"716\",\"717\",\"718\",\"719\",\"720\",\"721\",\"722\",\"723\",\"724\",\"725\",\"726\",\"727\",\"728\",\"729\",\"730\",\"731\",\"732\",\"733\",\"734\",\"735\",\"736\",\"737\",\"738\",\"739\",\"740\",\"741\",\"742\",\"743\",\"744\",\"745\",\"746\",\"747\",\"748\",\"749\",\"750\",\"751\",\"752\",\"753\",\"754\",\"755\",\"756\",\"757\",\"758\",\"759\",\"760\",\"761\",\"762\",\"763\",\"764\",\"765\",\"766\",\"767\",\"768\",\"769\",\"770\",\"771\",\"772\",\"773\",\"774\",\"775\",\"776\",\"777\",\"778\",\"779\",\"780\",\"781\",\"782\",\"783\",\"784\",\"785\",\"786\",\"787\",\"788\",\"789\",\"790\",\"791\",\"792\",\"793\",\"794\",\"795\",\"796\",\"797\",\"798\",\"799\",\"800\",\"801\",\"802\",\"803\",\"804\",\"805\",\"806\",\"807\",\"808\",\"809\",\"810\",\"811\",\"812\",\"813\",\"814\",\"815\",\"816\",\"817\",\"818\",\"819\",\"820\",\"821\",\"822\",\"823\",\"824\",\"825\",\"826\",\"827\",\"828\",\"829\",\"830\",\"831\",\"832\",\"833\",\"834\",\"835\",\"836\",\"837\",\"838\",\"839\",\"840\",\"841\",\"842\",\"843\",\"844\",\"845\",\"846\",\"847\",\"848\",\"849\",\"850\",\"851\",\"852\",\"853\",\"854\",\"855\",\"856\",\"857\",\"858\",\"859\",\"860\",\"861\",\"862\",\"863\",\"864\",\"865\",\"866\",\"867\",\"868\",\"869\",\"870\",\"871\",\"872\",\"873\",\"874\",\"875\",\"876\",\"877\",\"878\",\"879\",\"880\",\"881\",\"882\",\"883\",\"884\",\"885\",\"886\",\"887\",\"888\",\"889\",\"890\",\"891\",\"892\",\"893\",\"894\",\"895\",\"896\",\"897\",\"898\",\"899\",\"900\",\"901\",\"902\",\"903\",\"904\",\"905\",\"906\",\"907\",\"908\",\"909\",\"910\",\"911\",\"912\",\"913\",\"914\",\"915\",\"916\",\"917\",\"918\",\"919\",\"920\",\"921\",\"922\",\"923\",\"924\",\"925\",\"926\",\"927\",\"928\",\"929\",\"930\",\"931\",\"932\",\"933\",\"934\",\"935\",\"936\",\"937\",\"938\",\"939\",\"940\",\"941\",\"942\",\"943\",\"944\",\"945\",\"946\",\"947\",\"948\",\"949\",\"950\",\"951\",\"952\",\"953\",\"954\",\"955\",\"956\",\"957\",\"958\",\"959\",\"960\",\"961\",\"962\",\"963\",\"964\",\"965\",\"966\",\"967\",\"968\",\"969\",\"970\",\"971\",\"972\",\"973\",\"974\",\"975\",\"976\",\"977\",\"978\",\"979\",\"980\",\"981\",\"982\",\"983\",\"984\",\"985\",\"986\",\"987\",\"988\",\"989\",\"990\",\"991\",\"992\",\"993\",\"994\",\"995\",\"996\",\"997\",\"998\",\"999\",\"1000\"],\"changes\":WebIO.getval({\"name\":\"changes\",\"scope\":\"2476525296645436800\",\"id\":\"ob_02\",\"type\":\"observable\"}),\"index\":WebIO.getval({\"name\":\"index\",\"scope\":\"2476525296645436800\",\"id\":\"ob_01\",\"type\":\"observable\"})};\n    var self = this;\n    function AppViewModel() {\n        for (var key in json_data) {\n            var el = json_data[key];\n            this[key] = Array.isArray(el) ? ko.observableArray(el) : ko.observable(el);\n        }\n        \n        [this[\"formatted_val\"]=ko.computed(    function(){\n        return this.formatted_vals()[parseInt(this.index())-(10)];\n    }\n,this)]\n        [this[\"changes\"].subscribe((function (val){!(this.valueFromJulia[\"changes\"]) ? (WebIO.setval({\"name\":\"changes\",\"scope\":\"2476525296645436800\",\"id\":\"ob_02\",\"type\":\"observable\"},val)) : undefined; return this.valueFromJulia[\"changes\"]=false}),self),this[\"index\"].subscribe((function (val){!(this.valueFromJulia[\"index\"]) ? (WebIO.setval({\"name\":\"index\",\"scope\":\"2476525296645436800\",\"id\":\"ob_01\",\"type\":\"observable\"},val)) : undefined; return this.valueFromJulia[\"index\"]=false}),self)]\n        \n    }\n    self.model = new AppViewModel();\n    self.valueFromJulia = {};\n    for (var key in json_data) {\n        self.valueFromJulia[key] = false;\n    }\n    ko.applyBindings(self.model, self.dom);\n}\n);\n    (WebIO.importBlock({\"data\":[{\"name\":\"knockout\",\"type\":\"js\",\"url\":\"/assetserver/a640663e3908763889bbe9bde6d9d61565df4a62-knockout.js\"},{\"name\":\"knockout_punches\",\"type\":\"js\",\"url\":\"/assetserver/8fc0b36b5ecb22f13021fb56baafba37abe9dcf2-knockout_punches.js\"}],\"type\":\"async_block\"})).then((imports) => handler.apply(this, imports));\n}\n"
            ],
            "observables": {
             "changes": {
              "id": "ob_02",
              "sync": false,
              "value": 0
             },
             "index": {
              "id": "ob_01",
              "sync": true,
              "value": 505
             }
            },
            "systemjs_options": null
           },
           "nodeType": "Scope",
           "props": {},
           "type": "node"
          }
         ],
         "instanceArgs": {
          "namespace": "html",
          "tag": "div"
         },
         "nodeType": "DOM",
         "props": {
          "className": "field interact-widget"
         },
         "type": "node"
        },
        {
         "children": [
          {
           "children": [],
           "instanceArgs": {
            "id": "ob_08",
            "name": "obs-node"
           },
           "nodeType": "ObservableNode",
           "props": {},
           "type": "node"
          }
         ],
         "instanceArgs": {
          "handlers": {},
          "id": "6827058195800644756",
          "imports": {
           "data": [],
           "type": "async_block"
          },
          "mount_callbacks": [],
          "observables": {
           "obs-node": {
            "id": "ob_08",
            "sync": false,
            "value": {
             "children": [
              {
               "children": [],
               "instanceArgs": {
                "namespace": "html",
                "tag": "div"
               },
               "nodeType": "DOM",
               "props": {
                "setInnerHtml": "<img src='data:image/png;base64,iVBORw0KGgoAAAANSUhEUgAAAj4AAAGxCAYAAABiPLw8AAAABHNCSVQICAgIfAhkiAAAAAlwSFlzAAAPYQAAD2EBqD+naQAAADh0RVh0U29mdHdhcmUAbWF0cGxvdGxpYiB2ZXJzaW9uMy4xLjEsIGh0dHA6Ly9tYXRwbG90bGliLm9yZy8QZhcZAAAgAElEQVR4nO2dfZBU1Zn/n25wWhyZCSzKOM4orLCrFsaK+AZRQbOClq+piu8vpIL+FldERLOK667ErQgaA2v5EmKcJbtqRFNK1CqNkjiBZQUFxBJfY4wDM4xTyEYHGGVGmPP7o9PN9OXe2+ee93Pv91PVpfR03z73nHPvee5zvs/z5BhjjAAAAAAAMkDedgMAAAAAAEwBwwcAAAAAmQGGDwAAAAAyAwwfAAAAAGQGGD4AAAAAyAwwfAAAAACQGWD4AAAAACAzDLbdANfo7++nzs5OGjp0KOVyOdvNAQAAAAAHjDHasWMHNTY2Uj4f7deB4ROgs7OTmpubbTcDAAAAAAK0t7dTU1NT5N9h+AQYOnQoERU7rq6uznJrAAAAAMDD9u3bqbm5ubyORwHDJ0Bpe6uurg6GDwAAAOAZ1WQqEDcDAAAAIDPA8AEAAABAZoDhAwAAAIDMAMMHAAAAAJkBhg8AAAAAMgMMHwAAAABkBhg+AAAAAMgMMHwAAAAAkBlg+AAAAAAgM8DwAQAAAEBmgOEDAAAAgMwAwwcAACLo6CBqbS3+FwCQDmD4AAAyB49B09JCdPjhRGecUfxvS4u59gEA9AHDBwCQKXgMmo4Oov/3/4j6+4v/7u8n+sd/hOcHgDQAwwcAYBWT20m8Bs1HH+39TIk9e4j+9Cf9bQQA6AWGDwDAGqa3k3gNmrFjifKBu+OgQURjxuhtHwBAPzB8AABWsLGdxGvQNDURPfJI8W+lz/z858X3AQB+A8MHAFCBqa0nG9tJSQya6dOJ2tqKfdHWVvw3AMB/BttuAADAHVpa9nph8vmikaBrwS95XwYaPya2k6ZPJ5o6tWhgjRkT78VpaoKXB4C0AY8PAICIzG892dxOamoimjwZRg0AWQQeHwAAEcVvPekyEErel9WriRgjmjiR/7sdHcU2jx2bPgMmzecGgG3g8QEAEJG9SKaXXya69FKiSy7hj+xKQ3LBKC1VGs4NAJfJMcaY7Ua4xPbt26m+vp66u7uprq7OdnMAMEpLS3F7a8+evVtPOkW9HR3FxT2o82lri/Z0iHzHNaK0VGk4NwBswbt+w+MDAChjOpJJJLLL9+SCcVoqk+eGOmQgq8DwAQBUYFL4K7K95ntywTjjxtS5YTsNZBkYPgAAa4hEdvmeXDDOuDFxbqhDBrIOND4BoPEBwDwdHXx5dWS/I9M+lVFW1bRUOs+ttbXo6Ql7f/Jktb8FgElSp/GZP38+nXDCCTR06FA6+OCD6cILL6QPP/yw4jO9vb10ww030IgRI6i2tpbOP/986sBjDADOI7K9ZmpLTnZbKExLU01LpfPcfN8qBEAWbwyfFStW0PXXX09r1qyh5cuX0+7du2nKlCnU09NT/szs2bNp2bJltHTpUlq1ahXt3LmTzj33XNqzZ4/FlgMAfEV2WyjOaLKVRNH3rUIAZPF2q+uzzz6jgw8+mFasWEGnnXYadXd300EHHUSPPfYYXXLJJURE1NnZSc3NzfTiiy/S1KlTQ4/T29tLvb295X9v376dmpubsdUFQIAsJtWT2RZyPTTd5FYhACZI3VZXkO7ubiIiGj58OBERrV+/nr7++muaMmVK+TONjY00btw4eu211yKPM3/+fKqvry+/mpub9TYcAA/Rsd3jAzLbQq6H3aNsB8gqXho+jDGaM2cOnXLKKTRu3DgiIurq6qKamhoaNmxYxWdHjhxJXV1dkceaO3cudXd3l1/t7e1a2w6Ab+jc7nEdmW0hn7Q0vhqmAIjgpeEzc+ZMevvtt+nJJ5+s+lnGGOVyuci/FwoFqqurq3gBAPYi47ngNZpcXnhFkzr6oqXx2TAFQATvDJ8bbriBnn/+eWptbaWmAXeQhoYG6uvro88//7zi81u3bqWRI0eabiYAqUH3do8PC6/otpDpTNhJEfXmuWyoAlANbwwfxhjNnDmTnn32WXr11Vdp9OjRFX8fP3487bfffrR8+fLye59++im98847NDFJyWcAQAU6t3uykEzPZS2NiDfPB0MVgDi8MXyuv/56evzxx+lXv/oVDR06lLq6uqirq4u++uorIiKqr6+n6dOn080330y///3vacOGDXTllVfSMcccQ//wD/9gufUAuEeSp3Zd2z2uC4DTTlJvXhYMVZB+vDF8fvazn1F3dzdNnjyZDjnkkPLrqaeeKn9m0aJFdOGFF9LFF19M3/72t+mAAw6gF154gQaV7roAACISe2rXsd3jkwBYBa5tESX15sFQBWnA2zw+ukDJCpB2wvLL5PNEmzbZ2Y6pVr5BJTZzEbW07PWW5PNFg8MVzQ9vTh/XcxOBbJP6PD4AADHCntr7+4nuv99Oe0wJgG1qU1zfIuL15vkSqQZAHPD4BIDHB6Sdjg6iww4jCl75aX5yF/FUqPQOpa0wKLI+AxeBxwcAEEpTE9HNN+/7fpq1Gkm1Kaq9Q2nTMrkcqQZANWD4AJBBbrzR/kJsUuibxPDQsS2FLSIA3AGGDwAZxPZCbFpvk+R8dUUuuZ7MEICsAI1PAGh8gKvoiEiyodWwGRnEc75hGqhcjmjzZnhoAHAZ3vV7sME2AQAE0RUK3dRkfjGP86jobovo+caU+wMAeAa2ugBwHNdDoZPiutD3o4/2jXjr70+v8BuArAHDBwDHSVu2XFl9kW5RtOuGGQBADhg+ADhO3ELsWgkEXkSFviZE0baF3ybxdf4AIAPEzQEgbgYuElbWgcjdEgg6UCGKTiIQT3uSPpdLaAAgAu/6DcMnAAwf4CoDF2Ki7NVMks1+jIV+LzYi62zWSQPZAJmbAfCAJFsNA7Plpk33w4OM9iZtAnFZTM+fqC1KbLUBG8DwAcASMnqVLApwZbQ3WTQUBxI0MEzOnyij8yc/sVc0FmQbGD4AWEDWAxFmBMyfX1zg0/z0LCqK9s1QVOkJCTOwRY1IkXZFGZ233goPHLADDB8ALKDCAzHQCFiwgOi227Lx9BwskMmzGPsUqSXqCQzrhzgDO6kRKdquMKMzn983V1KWPHDAMgxU0N3dzYiIdXd3224KSDHt7Yzl84wVb//F16BBxfdtHss3Hn1077nn88V/x9Hezlhrq7q+aW9n7NVX1R5PZCyj+uHVVyuPVXq1tppp18D2DRq093s/+Ul25yzQB+/6DY8PABZQuVVlW79iS6Aqsl0Y9BbJoCOnkMhYxvWDqi0+2TkW9C7dcos/HjiQPmD4AGAJVVtVNvUrpqusDzSybBp8uqLERMayWu0zFQaGijkWNDpRrR7YAoYPABZpaiouHjJCT1v6FdMh4kEja/16ewafLqNLZCyrGSUqDAxdc0ylBw4AXmD4AGAZ1UJnU0/Psu1OskUWZmTddlvRU2Zju0Snly3pWPIYJbwGRtyYwEMD0sJg2w0AIOuUFtFgFt2ki2hTk9knZ5l2J82iHGVknXBCcRFOWlpCNotwydgIlhFR1f9Jx3L6dKKpU+VKbPCMiek5BoAOULIiAEpWABuE1eLy4YlapN1JyiWUDJQDDyQ6+WQ1JRZUlq5ISz0vGyUsAFANSlYA4CBRWwlJtxFcSfUvsv3Bu0U2UNNz8slEV10lv62lWpeUFo1K1Jj8+tf25xgAqoHhA4AhqkVA8S6ispFUqo2mpIs/jz4mzEB5/HGi1avlNCa2Q/9dJWxMiIjmzEl/QkyQPWD4ACBAUuNBladB9jgqswKLwiPGjTJQenrkPCxRC/y6ddW/a9PLpvu3g2MyEJSTAGkDhg8ACRExHlR5GmSOI2o06cjVU22LTFfUVFNTMRIsyG23xfeD6XxFNn67NCYLF+77N9teMVe2dkE6gOEDQAJEjQdVC7nMcVRnBZYlbotMZ26i44/f9724fjCdr8jmbzc1EV10kdn8SNWMGptGJ0gnMHwASICoCFTVQi5zHNVZgXWjK29M0n6w2Qc2fttkQsxqRo1NoxOkF4SzB0A4O4gjLOy3BE9otKrwZ9HjxIWfh+W20RXmLJtHR5YkYfg2Q71t/7bOUH2ec2ttLRpFQVpbi95CAAbCvX4bKJjqFajOnl14K20PrDQdfPlQYTqsQnlclfNgZe1qFdCrkbSiui6SVGpX2QdJK7qr7n9X4KkcL1sVHmQL3vUbHp8A8Phkk6RJ7To6ittbc+bs+zffnkZ5nrxVeqp8TZSnog9Ekye6kihRpaeOdy7oSO5p2+MI9ACPjyDw+GQP0afKtDyN8jx5+/hbruH7fNHhqeP1ZiXxzvH8pgseR6Ae3vUb4maQeUQFpLaqoqtGZ8FNm7/lGj4nT9QlMuYVsKvKkA2xNCBCVBcAUotxGipWmzTg0mIsiuCz0afTaDNZ9sNn4xOoA4YPyDyyi3Ea6jWZNODSYCyKkGSeuZawz2ejbSBpOQ8gB8TNASBuzi6uCEh1AlGnfarNMxkBtM6x1SEy1klUf/h2HoAf3vUbhk8AGD4grYguqMAcolFvpsbWl4eDav3hy3mAZMDwEQSGT7ZJq0fE5zDyEq6PjYr2iSTsS8PYqgT9kV14129ofAD4K2muCeS7qNP1sZFp30A9j29lRVwE/QGqAcMHAFIX5uqaKLWEC6JO0b5xPQRZpn1Bg+nll5ML7WXG1oX5qroNLsx14DYwfAAgNU+JSZ76TS84tsPIZTwirj/Bi7YvymCaOjVZ1Jvo2Jr0okXNdx1tsD3XgQdoT6XoGcjc7C9JayAFvyuTVTfJ901kjo3qC5UZcJO0hbdvwtrtesZj0fapzmKdZGxN9mnUfNfdBhtzHdgFmZtBppB9cpR9SuR96jexbRPXFzZyDvH2TVS7XX+CF22f6i2ZJGNryosWN991tyEN+bWAHhDVFQBRXf6hMopDNMyVtw0iUTtJEOmLpNFIIp/nKYJqqlCqLkTaZyunjKnIp7j5PmYMoq+AWhDVBTKDyidH0adE3qd+1U/5Qe1E0r5I6ikT8azx9A1Pu11/gm9qKo7jRx/xe/BsZbE25UWLm+88bbAlvnZB9A00YmTjzSOg8fEPlzQgPLoC3orU1QjTTiTV0yTpNxU6qKi+MTGGshqwat/1seq3CR1Mtfke1QZb/enjOIIivOs3DJ8AMHz8hOfmKrro6UB2wYkzFHgNq6TiWtVi3CCqDMKoY4suZjzfdcn4tkG16yvpfLfVn1kfR9+B4SMIDB9/ce3JUSfVjBCehca0x4cHHR4ImXbzfle3UZgUk4a+juvLVn+6No4gGYjqApkjTAPievI7UapphXj0MEl1HiZ0ITp0PDIaMN7vupQ0z3R+Hh3Xl63+dGkcgT5g+IBU43ryO1FUGSFJxbW2xLgyyCxmvN91JeTetKGv6/qy1Z+ujCPQC8LZAyCcPV2oDtt1rVCm6yHeriATNp7ku7bHQ3e6hCC6w+Jt9aftcQRioDq7IDB80oeqXCktLXufpvP54pOhDx4PUERmMfNlIbRRmdxWLiIAgsDwEQSGTzqRXbhsLCggGtc8by5hwxDxxTAE6QYJDAEYgKxotpqWAQnPzGFSvKsannkiO5ds6LBK1xcRrgPgPjB8AOAgTuTq80LsGz5H6fHME1VzyUaWa5evAzyYgIHA8AGAg6hoDyJ/FmKTN39dv+VrlB6PweazUedy2102yIAdYPgAwEnYFoIvC7HJm7/O3/I1zwrPPPFlLoXhattdNsiAPWD4AJCA4BaCyYVY1Iti8uav+7dU5VkxvfXBM09sGHWq+sFU25O211WDDNgFhg/wDpf2600lPJPxopi8+Zv4LVnxro2tD555IjOXRK4Jlf1g4joQaa+vHkKgGe3FMzwDtbrcxtW6WzqrXKuoim6q8KLq31Jdc8p2EUreGmpJ5pLINaGrH3RdBzLt1Vn8FrgFanWB1OHyfr3OKBpZL4rJNPwqf0uHZ8b21gdvDTXeuSR6TegsNaHjOpBpb5iH0CWvMTAPDB/gDbYXLVuocNebzO2i4rfSVvxSBJ7FWfSa8KkfiOTbO9AgQ5QXgOEDvMG3m7UqVHlRVD+Nxy3MuhNGiuJLEUrexVn0mvClH0qoFLW76jUG5kDJigAoWeE23/8+0X/9195/T5tG9Mtf2mqNWVwqC6C7bllai1/ykPTcZUpUuNwPYci213QRV2CWVJasWLlyJZ133nnU2NhIuVyOfvOb31T8nTFG8+bNo8bGRhoyZAhNnjyZ3n33XUutBarp6CB67LHK9x5/PDtPazay8YaR5KlZVEuh2yNhui+T9ENSb5fM1qIrc4oX2fZm1WsMKvHK8Onp6aFjjz2WHnzwwdC/33vvvbRw4UJ68MEHae3atdTQ0EBnnnkm7dixw3BLgQ6yqvFRjaywk3ccZLUUslohmwLWgb+dtB+qLc5h5+WKAeO6aLipiWjBgr39K2NQu36uIAYTIWY6ICK2bNmy8r/7+/tZQ0MDW7BgQfm9Xbt2sfr6erZ48eLI4+zatYt1d3eXX+3t7QhndxTbochpQEU6AJ5xsD1WNtMeBH87l0veD1Eh2K6mc2DM7baVCLbxJz9RcxwXzzWL8Iazp8bw+fjjjxkRsTfffLPic+effz67+uqrI49z5513MiLa5wXDx01s5eRQnU/GBiqNkWrj8Oqrlb9TerW2KjmVWGwaXWG/LdoPwZw4to3JOFxuWwlVbfThXLNK5vL4dHV1ERHRyJEjK94fOXJk+W9hzJ07l7q7u8uv9vZ2re0EyQi6k02GZZfg3apw3fWtcquw2jjY1FLY3BIN++0gvP0Q3L4ydV4i89iHbWhVbfThXEE8qTF8SuRyuYp/M8b2eW8ghUKB6urqKl7ADaIMDpN6Bl4hrw+5QVQbI3HjICtOljEibRpdYb+dz6vRlJg4L9F5HNc2Vx4IVPUfBNL+kxrDp6GhgYhoH+/O1q1b9/ECAfdxJd8Gz9OdK22thuncLaLeOVkj0maOmrDffuQRok2b5L2Uus9LZh5Hte3ll915IFCZD8unHEggBDM7b+qhCHHzPffcU36vt7e3qrg5CGp1uYFNjchAePbzXWkrLzrrismiUj9h8zx1127TcWwV83hg21zVwqjqP5evo6zCu34Ptmx3JWLnzp30pwGP2p988gm99dZbNHz4cDrssMNo9uzZdPfdd9PYsWNp7NixdPfdd9MBBxxAl19+ucVWAxEOPJAolyveLkvYcCeXnu6CCeIGPt2VXN/BhHO8be3oKHqWxo4Nf2qs9vekNDW5+3Qa52ETeTK3dZ46f1vXsWXncbBtra3qxlIlqvrP5esIVMGQIaaE1tbW0AisadOmMcaKXp8777yTNTQ0sEKhwE477TS2cePGRL8Bj499BoaKDnxStBkyWu3pTjTarFpYbNbCZl31EgRJQ5RfGCqjJn0ZS5AeeNdvlKwIgJIVdglL15/PE61ZQ3TCCXp/V9arkjSdfrXSBLrLNriKTAkGE+gu12EblWUsqo2lam8myDapLFkB0k/YVkd/P1FPj77fVBWRlTTarJpw2uWwWZ2ROjZSFvDii5BdBpVRk3Fj6UMkJEgnMHyAU5gOFbW5kFU7V56+sBEqbGLBslGCgacvbRqjroSFJyVsLLNgQAJ3geEDnMJ0qKjNhazauVb7u40n5rQuWLx9aSuHS9q8Iy57M0H6gcYnADQ+bqBSZ1Dtd2zraKqda9jfbbW7tbW4+Ia9P3myvt/VSdK+NK1BMjHWprU2Llx3JoGWyQzQ+ACvMbXV4UIysmrnGvZ3W0/Macxam7QvTWuQXntN71jb8CapuO5Et/5MbxmmzVuXBuDxCQCPTzYx5WFShc0nZtejrpLisvdhYATZQFS1z/a5i153opF1JiLyBnp3iNydW2kEHh8AEmBDTCuDTU9VEo+HD4JcF7x+YQT1VCXyeXXts621EbnuRHVmJvRpQe/O/fdDy+QiMHwA8BSbYd88C5YKF78pw8nFEPqoSu9Ll6prH+/WpUsGrKixFvW91avVtCvMsFq0qJiBfiC+bw2nARg+AHiMbk+VjI5C9unatDbCNa9flFEyYYL4MYPjyePtck2jIqozC/seEdEll6g5pyjD6uab3fMmZh7tOaQ9AyUrQBJ8LV3A026ZchmyBS99L3egal6oLCERN55RJVlcHQeZEjGl76k+p7i+QkFTM/Cu3zB8AsDwST8qFyUf62jxtFt2wZP9vm8V7weiel6oWDRFx8PlcRDtl6ee0ndOKg1VkBwYPoLA8Ek3qhYlV5+Eq8HbbhULnswikPb+NY3oeIqej8ueUN1jBO+OPXjXb2h8QGZQGdVhMhpGpbCUt90q8vXICIZdjbSqhu0oqShEx1NkHHRoglReA7rnlmtaMRCCIUPMG+DxSS8q3famnux1bJvwttsFt72up2ddHglXPT6MyXvgeMZBx/nr2lKGZyZ9YKtLEBg+ZjHpEld9U9ZtGOhaRJO0O42Lg25tlgsGYxRJxzPp9alaE+SyIQncA4aPIDB8zGFDHCyyKMXd/HUaBjqFpb4ZNKoMZF0LabB9vvVvGCLXp+r+dVlcDdwDho8gMHzMYPNJLsmiZDNyC0+7RVSOgY6F1Nfovjhk5p5KjxeuAZAEiJuB09gUgfKKD02kuI/DV4GvSlSPgeoiq7bniC5krk+VWbBxDQAdwPABVvChyrcLEToullIwSdIxqBb9o3ohdWGO6ED2+lQZ2ZT1awCoB4YPsIKpJzmZMFhXjLMshccGxyvJGPCGUYsupGFzyZU5ohrXPC2uXAMu1SwDEhjaevMGaHzMolMEqkJ74XKETtqIGi+eMdCtBYmbSyrmiKsJ/9Ig0k5K1FikUcuVNnjX7xxjjNk2vlxi+/btVF9fT93d3VRXV2e7OUCQjo7iU//AbYhBg4pP+EmfGjs6ilsXY8bYf+J0jY6O4nbP2LFyfVNtvKqNQWtr0dMT9v7kyeLt4mlb6TOic6SlZa9OKJ8velqwnWOHqLFQeT8B+uBdv7HVBVKJSu2FK252WVS76VVm6K02XtXGQOeWE89cCraPt6/TKo5WjYktprixSKuWK6vA8AGpJK3aC1FUlxFwLdpKpyYladuS9LWrC6ouQ0PkuDpKYIQRNxa4n6QMIxtvHgGNT3rwUZ+jQ+uhQ/+iKx+OCq2MDk0Kb9uS9rWLeWp0aVlcSIgo81s+3k+yBhIYCgLDxy6qF36b4syk56JrwdFhpOjMgOyqmJanbSJ97dKCqnNcRY5rOnNztbFweX4CGD7CwPCxh69RE2EGTtJz0flk60LNLxXojnxScXzRvnZlQdVlaIge14ZHzJWxAMmB4SMIDB87uOjy5yHMwBE5F56FQWZh1mWkmFokqhmSskaLSqPbJQ9OUlzz+DDmd38Cs8DwEQSGjx18LEYYdTN/6qnk58KjL5BdmH19ktXdNzoWe5G+diWXjy5DQ+a4vs5dYBbU6gJeoSpqwmRm1agokFwu+bnERSWpiqCyHZYvOjZx0TYq+kZHZFXSvjYVucSDrhIRMse1PXdBuoDhA5xARTiy6cUjylibMEHsXKIWBt0hzyaMRZmxiTOKVfSN7VBlF3P56DI0VBwXZSOANIY8UN6ArS67iLq0bWmE4tz3qtzzOs/NhKBcRfuj+llV39jUkfi4zWsLXwMggBlQskIQlKzwE9mSBTKlF0yUtGhpKXoB9uzZ60GS3YIwlYZfVTmJqH5W1Te2SpOgHAIfqsvQqCi1AtwCJStAppDZrpDdIlO9LRDmytehuzCVNVjVVlJUP6vqG1s6EtcqobuKqvnqkp4K2AEenwDw+PiLyJO/qqdIVU+QJgtWmvQ06PBYpQ2THicfPR4q5mvcMYji+8THPssa3Ou3gW03r4DGx2+S6mpU6CtU6Q5s6JRMalsQkiyG6jB3n3UysvM16nq/5Zb4PvG5z7IEND6CwONjDxtPVLJPkSq9Jqq0MEmxpW3RRZqezFV7ANOgJ5KZr1Hn399fNIEGvlfqkzT0WVaAxgdYJ0nYqa19d1l9hUqdjK2w6jTlSEmTfkNHmLur1eCTIDNfw673m26qNHqIKvvERJ8hRN8sMHyAFpIsQLbzmMiIY1UaKxC5ymF7HvHCu8jpWHBVG9c+LtjB6/3GG+P7RPcDSZqMdW8wsvHmEdD4yJNUq6Izj4mJMgCqdTJxWhhXyhq4iA/5cJJoRVwvLpsm3Uu1PtFZ687HGoWuglpdgsDwkSfpAqTzBm/qxmxCuJumhSYOUePO9UWkWvvCztvV4rI+9HXSOVStT3Rc4z4Y6z4Bw0cQGD7yiNwUdXhNXL4xJyVt5xOFrHHnciXvuEUu7rxdjIZzecH26QEhK9e1KVCkFFhDRKuiOkFfGkScA0nb+YShQqOjq8CmCqK0IrW18eftovhcpe5FpU7ItM5Ltu3Q9dkBhg/QgsgCpPIGb7vwpGrSdj5hqDLuXDQUiKIXuZ07/TNqeRfsaoaBamGvyQcEVW132VhPK8jjEwB5fNJD2rIF85yPzzlsspIvJZiHxufzjsupUy0HkY7zNtWXPo9ZmkEeH5B5XHmSUuXKr3Y+usNidYcuZ8XtH/RI+XzeUd41ni0nHd4ZU32Zha3nNAOPTwB4fIBKTNXe0v0EarqGWFxmXp+9WnG4nEE7aZ/zZCHXOWd19yU8Pm4Cjw8AljEptNT5BGpaMBqn0UlzsjdXtUkifc6jSdPpndHdlz576QAMHwC0beGYdIfrFD+74tb3JTMzkd2Mxi5ESfEaBq5sR4ugo+0+ZsL2ERg+wBouXOQ6PQgmI7F0PoEmOQ+dY+qKAVYNm14pl6KkeA0DVz1dPKhse5q9mc5hIKeQVyCBoRlcSDJmInmY6YR6KpLdiWYQFhnTJBl2fUj2ZrONKn+7NC5vvJHsmCipIoYPc9sHkLlZEBg++nHlIjeVfdbFzLtRiGYQFs3WndRQsmFIJlnIbWY0VvXbwXGZNo2vz114mPEVlzNh+wTv+o2orgCI6tIPT8SHCRCZUYlMfyQdU5nfMhX9JBLJZnNOxf02EV9UVtQxVq8m6umJj7TDtSQO+k8NiOoCzs9ffGsAACAASURBVOJKFmJEZlQio+dIOqYyv2VCE6Jb1KuDqN9++WV+7UjUuPT0xPe5L/orFymlCliwAPciUwy23QCQPUo36GAWYhW5O5Lmd5k+nWjq1HAPQlrzxURRMl6CT508BmnSMZX5raSIjGPcQl7tGHFzSjfB3yaq9CSUDLipU8PbJTouJsczDt+u2aBX8Z57iI4/3s1cTqnCyMabR0DjYw6V2hfV+oKs6hVkNTRJxtSEXqeaZilKv+OKDk0WEe2I6LiY1l+F/b6ua1aHaDstc8wlIG4WBIaPf6i+gSQ9XtoiWUyKsXX+Vtw48iySthdyFYheG6LjYkvIr9OI0GVQQdCsHt71Gxof4D2q9QVJjpfG3Bsm86ro/K2ocVy9mk+/43NyvRKimiPRcbGVk0eXxkhn0kxXtI5ZBIYPcAqRBHiqbyC8x/Mpk3AWiRpHxvgXSZ+T65VIgwFXDV1GhE7RNoIr7AHDBziDqPdE9Q2E93hZj2RxIfN2HFHjOHFi9p6002DABRk4/3QZEbq9MlkwSl0EeXwCII+PHVTksVCd34WnSnhWc2+YrNYuS9g4trTsG4HmWvt9i1AySdT805HjyYe5Aorwrt8wfALA8LGDK0kNk+LyTVHXwumKwSd7fqYSIYrgk2FpGhvzz+W5AvbCu35L5fHZvXs3ffjhh/TOO++UX8uWLZM5JMgoruQBSYrNnC1x6Fw4ZXLcqELF+TU1uTNeA4nSjkXl3lH5uz54mEzMv2BfuDpXgBjchs+f//xn2rhxY4WR88c//pF2795NNTU1dNRRR9Exxxyjs63AcWRunLqSGprAtZui7oXTtpFqyzAwhQ3D0kUPU9T9RPf8c7EvgGJ4YuOvuOIKls/n2aBBg9jQoUNZPp9n5513Hnv66afZ+++/z3bv3i0df6+Shx56iI0aNYoVCgV23HHHsZUrV3J/F3l8xFCV68Kngp6uYiI/iM0cN2nPf2I6sZ2LifSq3U90zT8X+wLwozSBYaFQYA899BD76quv2I4dO9isWbNYoVBgP/zhD9mXX36ppMGqWLp0Kdtvv/3YL37xC/bee++xG2+8kdXW1rJNmzZxfR+GT3Jkbha8yf9UJgksHeuNN8wkHuRpe/AzMv0iMh4i/ctjpCY9Lm9fubY4RbVbdN6qWth5fl+HISlzvfKOr46HJBV9IXvuaUqGahqlhs8dd9zBduzYUfHeunXr2PHHH89GjRrFXnrpJfGWKubEE09kM2bMqHjvyCOPZLfddhvX92H4JEf0ZsHrJVKZOXXgsUovnSUpeDMED/zMtGny/ZJk4dSVmTbpcZN83qWsylHtlu1X2YWd9/dVG5Ky523ToyfbFzLnntUyOSoxUrKiv7+f/cd//Aerq6tjl112Gdu6davM4aTp7e1lgwYNYs8++2zF+7NmzWKnnXZa6Hd27drFuru7y6/29nYYPgkR9TDwPtWpuimHHUunx4Cn7XFtku0XXo+MDu+JSNkPkTlke1s0qt1vvGHXK5W0P1V6mGTP27ZHT7QvZD3frnkxfcRIyYpcLkc33ngjvf/++9Tb20tHHnmkrORIim3bttGePXto5MiRFe+PHDmSurq6Qr8zf/58qq+vL7+am5tNNDVVNDURXXVV5XtXXhkvxORN/qcySWDYsWSPmfT3gr8T16a4tvEcmydpna4kjEmPK9IOF5LyRbV71Sq7yS2T9uf06cVSHgsXFv8rKuZVMZ9E7icqEe0LmXPPejJU03AZPm1tbbRy5Up64YUX6IMPPqDHHnuMJk2aREOGDKGDDjqInn/+eXrmmWfov//7v3W3l4tcLlfxb8bYPu+VmDt3LnV3d5df7e3tJpqYKjo6iB57rPK9xx+Pz+jLmxFVZebUsGPJHjPp7wV/J65NcW3jOTZPZmVdmWmTHlekHS5kjo5q9ymnyPerzPkl7c+WFqKTTyaaM6f4X9Gacyrmk8j9RCWifSFz7qjbZRge91FfXx/75je/yW699VaWz+dZLpdjNTU17OKLL2aLFy9ms2fPZtOmTbMe3SWy1RUEGp/kyGh8eFzKKvUcA4810KWsU+NTre3Bz0ybJt8vLuhlkh7XBV2SCFHtlulXFefH+/s6ND4y88l3jY/MmLuiW/MV3vWbK3Nze3s7jRo1ijo7O2nXrl300Ucf0bHHHksHHXRQ+TNPPPEEbdy4kRYsWKDRTKvOSSedROPHj6eHH364/N7RRx9NF1xwAc2fP7/q95G5OTkymVSDGVGjcneozJxaOlZtLVFPj/7EgzxtD+sHnvMN+5zIeIj0L0/epqTH5e0rFzJHB9sU1m7RflV1fjy/ryNrusz1ynv+OhIuqugL2XN3LRmqT3Cv3zxW1C9+8QuWz+fZp59+GvmZzs5OVldXl8Q400IpnL2lpYW99957bPbs2ay2tpa1tbVxfR8eHzFUPK249BTvM6by+Ngaq7Tn8TF9fi4Ka6vdT3TNPxf7AvCjNKrr2muvZWPGjIn9zKxZs9iBBx7Ivv76a/5WauKhhx5ihx9+OKupqWHHHXccW7FiBfd3YfiIIxNlgxuOOnT3pe2xsv37urFxfi5us0TdT3T3j4t9AfhQGtU1aNAgOvvssyP//vnnn9PixYtpzpw5NHiwVPkvJfzTP/0TtbW1UW9vL61fv55OO+00203KBDJRNj5HNbggsh1IqfzHoEHFf6su/2F7rHSfn21snN/06cWtpNbW4n9dKNEQdT/RPf9c7AugFi6Nz4svvkhr1qyhu+66K/Tv27Zto4MPPpj+7//+j4YNG6a8kSaBxscOruo2qmkIXK7ro0sv4MpYyZ6f60U5ofcIx1Z1dpfnCiiiVOPDGGOvvvpq7N8vueQS9pe//IX3cM6CrS57yLqYVaZ759EQpH3LJQ6ftgPC5gX0ZH4TNf90lHzQPVdQpkIdRjI3B3GtbpcIMHzsIqoTUnlz4jVo0i6yrYYLmZOrETYvsmiwpnFxDc4/HQaKCT0RDHB1KA1nzxLY6vIP1a5v3pBWV7Z8QDhR4/OrXxFdcsm+n5cJ33YZl7djVaHrWtQR6l8C9w/18K7fUiUrAHAB1WJH3iyqaRXZuibWFiVqXuRy/Flyfe+Ljo69Rg9R8b//+I/+nk8UugTPOjMq2w4SyDIwfID3qL45JTFo0hYB0tJSfAo944zif0VLF/Ci07CImhcTJvCNr+m+0IHo4io6LrYMRV0Gis6HG5SpsIiRjTePgMbHHKrFyKrFtj5oWFSiqrI275ia0DfEzYu48U2LDkjkPETHxbZeRafgXte9wKcgAR+wIm5OAzB8zKBLiChyc0qj8FMEWbF2kjE1aViIzAvZvrA5p4K/nWRxFR0XVwxFHx9WBrYZ9yI5YPgIAsNHP67cJBmz/5TqEjLjkvS7rkfEyfSFzTkV9du8BkHUuDz9dPyC7Pp4+gDuRfLA8BEEho9+XLlJumSAuYKo6z3pmMoaWSaeikX6wuacUrVVGTxGPs9YLoecVjpB/6lBackKAFTiiqjPVFSFT5FBcWLtuPNIOqaiolGTgmMR4brNSB0Vvx02LqWlmCg6KiytEY6mQISXYQwZYt4Aj48ZXBD1mXjKMu2+1uUN4TkPUQ8JrybDh6di3z0+A4/V2srYU08l9+T5prFxAR/mtg9gq0sQGD7mcOEmqTsSxOTNTJeRleQ8dI6pK1uk1bBp1Kv+bdk5zGOI+yzodT0yNWvA8BEEhk/20LVYm1yodRpZrhgcPj0V2zTqVf+26ILM6yX0VdDrUmQqKIKSFYKgZAVQhcmU9FlJrd/SUtSY7NmzV0fie9JIH0haKZ5nzuicV7qrqbt0TYC9oGQFAJYxKfjUKRg3LVyNE1GnLVP2QFwWwTc1FQ1o3jHnEevqEvSaEMBDjOw38PgEgMcnXeh+8uNtQ5Kn5WrHijof3d4QlecRRRYKaoaRtvO25fEx5YmBx8dNuNdvA9tuXgGNT3rwWT8QBs/5+KwR8EnDI0NQEOvzeceJe3m0QaoFvSb1aBAjuwc0PoLA46MOm96WtD2Rpe18wtCpU3KFMM/O3/6tn+fN46Xi8RKq9oiavE5Utd0Fz3QagMYHWEVkn12lxiFte/BpO58wVOmUXNXKdHTsNRSI9iYDPPBANxJ6JiHqXMISG1bTBiXVD8VhWo+mou0mk3KCIjB8gHJ4b4oDUX3xu5IdWhVpO58wVCxaLi8iUcZrT0/8ebtoyLlsiPskgBe5VwJ5YPgA5SS9Keq4+F2KRFJBVkoCyCxari8iccZr1HnrMuRk56vrhriIJ6Zan+i4xl02IFONEcWRR0DcLI9LlbpNiH1Vi6jjBKM+i5d140qixTiSCGJ1iZ5Vzdc0iXur9YkLWdFBdZC5WRAYPmpw4QafBNHU86rbnrZINJO4MI944DVedRhyqvvIV0N84PVerU90z6s0GZC2QXV2YJUkWxa2t3FkthNUuqpd36pxHdvziBfebRgd20mqt1ZUCpNNEbze778/vk90b0f5pElKCwhnD4BwdnuYSJAX9psy4a8qw2dthXObCqU1+Tum55EuVCelTENaBJl5FHX+/f1FX87A90p9koY+ywoIZwfeoeLpMakAUfZpTqWXwYZg1FQUlMloKx+9EFGo9gb44hWLQnYeRV3vN98c3Se+9xnYF3h8AsDj4y8iaf9VPc2p8jKYLMKZpvT+aUgAZ/IcfPSKqZhHcccgiu8TH/ssa8DjAzKFqD5G1dOcKi9D3BO+6nBaU6G0un9HlTfJZr4c0/mHfPSKqZhHcdd7tT7xsc9AOPD4BIDHx09k9TEyT3NRT+oqn+B1FLH0zeMT1p+qjm2zSCg0JHyo7Cd4b9IJPD7AS0SfumX1MaJPc1FP6iqf4HVFe5nSLujMyKzCC2A7mg5J7PhQOV/hvck28PgEgMfHHrJP3Sb1MUTRT6CrVxOdfLLYk2mYV0N3tJepp1/R36mmy5D1AtgujgqPTzLgrQFRwOMDvELFU7fpfBhRT+qrVok9wUd5NXRHe5l6+hX9nTiPiAovgI7+TeK5dDFqSJfeScVx4a0B0mhOpOgdyNxsBx/KDQSJyuj6xhvJM71Wyw6rIruraHZq08cM+41q/SmbQVhl9lzR7NuuZEHWlT1c5rgm5hnwH5SsEASGjx18KTcQJGrBTLqQ8hh+MgujjsXMZHkNE2n9VRgevs7jErraL3NclHEBvPCu39D4BIDGxx6mNTqqiNIcJNEi6NR56Di2DV2KD9oOUb2QK3mIdOmdZPrFxjyLGgtXxgmEA40P8A4dGh0TuVmiNAdJtAg6dR46ooZ0RSLFjZdtbQfPXBLRC5nO4ROHLj2Z6HFNR7zFjYVL4wQkMeJ/8ghsdaUHH13kOnQeOrYvdBxTxXjp0oIkaVuSbTkXt8Z0bSuKHNdk/8T9lovjBPYFGh9BYPikA9yoKtGxmKk8porx0mXoirSN14B1VdSvS2gtclwT+i7G4sfC1XEClUDjIwg0PulApVYhLfv6OjQyqo6pIvO2Li2Izjw/yOHDhwl9l+58UUA/0PiATKNKq5CmfX0dGhlVx6w2XtX0NTq1IDxzSVRL5mIOHxcxoe+qVscL45QijPifPAJbXWbRmZ9D1kWO7TKzxKUGqLaFpXus4uaSKm2SCzl8gmQxf07cWLg6TqAItroEwVaXOUwUhpRxkdsuZZBFguOVZCsoSToEke3LsLmU5q0qm4VbARCBd/2G4RMAho8ZfFgwXGljWjRGIiQ1PnkMXZULelqNY9m5r3rOZvkaAPxA4wOcxoeK1C7s66dJYyRCUq1WNS2I6krsuuuo2ULm+lQ9Z7N+DQD1wPABVrC5YCQRopoufDoQ1Yu0j6g2PlUb3C4YxzoQvT5Vz1lcA0AHMHyAFWwtGCJPj3FeBJ2ZoXV6xUxktFaFSuNTh8Ed1j6f+jcM0etT9Zz1wTMMPMSA0NorENVlFpNREqojf3RnhtYVqZSk3WmM6tGdEM/ljOFJxzPp9al6ziKyEiQBmZsFgeGTXlRmXzV1Q1a9SCdptwsLuC7DS2dmYlcXapnxTDIOquesLkM1jUZ91oHhIwgMn/SiclEymcJe5SLN225VfSWzuLhgeCXF1dIGMuMpMg6qDUvVx9M5t2BQ2QOGjyAwfNKNqqdHl5/s4+Btt4oFXNbDkOb+TXpM2YVUdDx9HYc43niDsVxOzzn5aKynCd71G+JmkClUCWV9jebhbbesCFg2GsdXUavqeaEqlFt0PF0eBxEBeUsL0cknF82dgag4J0SgeYQhQ8wb4PEBSfA1hT1Pu2W8Y7IeI989DSrmhQ4xftR4RnmVXB0H0e234LmoPKe4OY/tLzNgq0sQGD4A7EV0AVexYOqOvnIdHXqhsPGsZkS4Ng6icyuqP1VtSUW16957sf1lCtTqEgQlK4BPuJzKP0ntrChkaq0lxbW+DCsbkc8TrVlDdMIJ+n4jrDSFyXGohmiZEBP9GZzzCxYQ3Xqr/bI3WQElKwBIOTZT+fPoK1ToqaqVoFCFi2URgnohouICevLJ6trHq+HRNQ4iOh1RvVKY/uqRR9QZPUT7zvnx493VSGUZeHwCwOOTTVx72q+GzQKqaava7Uox2ijWriU66aRKQa6q9vk6j2S8iaa9iC7PrbQBjw8AnLj4tF8NW9E2aYxcEelLkyUpdu7UE4VEZC86UXYeyXgTTXkRS7/lY/Rn2oHhA5zE1MLiwkJe7VzD/m6ryKvL4c2iJO1L04ay7rG2UYhXxTwyacDIYLPQMQgHhg9wDpMLi+2FvNq5Rv3d1pOkLYNLJ0n60oahbGKsTRsRaZxHcfhipGUFaHwCQONjF9N74jb34Kv9Nk/bbETbqIjWchGevhSNKFKBS5FVKkjrPAL24F2/BxtsEwBVifPA6LjZl56mgzdgkd9KKpCudq48fdHUZH4RnD6daOpUvYuwDbE5T1+WPBVBY9SEp8LGWKsgaixNzCMAwsBWF3CKMBd4Pk9UW6vvN1XswYtsz1Vz97u8HaDTde+y2DwLYlWV+rpqY4ktIGAF7akUPQOZm+0zMFOs6uyqosSlnJetfB2XFde1rLm6cbVEQhBfS5VUQ2WRTV/GEqQHFCkF3jJ9OtHq1US53N73bIZNV3tqlRFIV/M2ZS0ixLbYnJdqngqT4e6qUC3c9mUsQfbwxvD58Y9/TBMnTqQDDjiAvvGNb4R+ZvPmzXTeeedRbW0tjRgxgmbNmkV9fX2GWwpUoDN3SRJ4FgPZLalqi6jq7QCXF2WV23u2zlP3Vp2u81JhqAxsm6tbtar6z+XrCMTjjeHT19dHF110EV133XWhf9+zZw+dc8451NPTQ6tWraKlS5fSM888QzfffLPhlgIVuHLT5FkMfNJ9mNbPJF0cVPWlLZ1QlKG8dq2aRVLneclec8G2vfyye9eFqv5zWYcGODC09aaMJUuWsPr6+n3ef/HFF1k+n2dbtmwpv/fkk0+yQqGQSK8DjY87uKBvSaJTcF33YVpzIaMXkelLm9qSqArguZy8bsbEeYlec3Ftc+W6UNV/0C65S+Y0PqtXr6Zx48ZRY2Nj+b2pU6dSb28vrV+/PvJ7vb29tH379ooXcIMofYtJF3MSD4TrESqqNRdx4yCrF5HpS5vakjCvCdHebdsk/RDsXxPnJaopq5Z6wYXrQlX/QbvkP6kxfLq6umjkyJEV7w0bNoxqamqoq6sr8nvz58+n+vr68qu5uVl3U0ECgjdNGy7mtAiMVW4f6hR8y2JzmzRoKIcZQTz9ENa/ps5LxFBxZWs6DlVt9OFcQTxWDZ958+ZRLpeLfa1bt477eLmBYUB/hTEW+n6JuXPnUnd3d/nV3t4udC5APzbrarny1CqDKv2MCcG3DLY1VwMN5TVrkvdDVP8SuaeZKWG7z3kIM0oXLEjeRh/OFcRjNXPzzJkz6dJLL439zKhRo7iO1dDQQK+//nrFe59//jl9/fXX+3iCBlIoFKhQKHD9BrCL6azOaURFtlzejNIqMmKLZnC2nRV4YJblpP0Q17+2zysOl9tWYvp0or/8hejWW4t9fOutRMOGJffi+nCuIBrvanX98pe/pNmzZ9MXX3xR8f5LL71E5557LnV0dNAhhxxCRERPPfUUTZs2jbZu3cpddwu1utylo4PosMMqw9zzeaJNm3DjMUmS+mYy9aVaWvZ6PvL5ogGhapvRdEmMJP0gUj/ORokPH7FZmw/oh3f99kbjs3nzZnrrrbdo8+bNtGfPHnrrrbforbfeop07dxIR0ZQpU+joo4+mq666ijZs2EC///3v6ZZbbqFrr70WBkyK8ctsl8OVvCEmBN86tzVt6MSS9EPSrRSZ83FlTvEi214IkwER+RPOPm3aNEZE+7xaW1vLn9m0aRM755xz2JAhQ9jw4cPZzJkz2a5duxL9DsLZ3SUqVHjAFEgtKkoJxJXdEEFnmLKusfYpFJmnf2XLpagqT2ECVdeAL+MPksO7fnu31aUbbHW5S1bd1CrOW+e2URiyWy+6xrq1tegZCXt/8mTx49pC9Hx8u5ZUtrelZV/Nla+RmqCS1G11AZDVaApZ97zpaDgVW0m6xjptocii5+Pblo+Ka6C0RZaW9BRAHBg+wCtcvWnp1ErILtYmFzmVRpaOsbZtPPPMkyRzSfR8dBmAuq4DmfaGGeJpSE8BJDCy8eYR0PiApJjQSsiU7zCpazClw5LVK9koo8AzT0Tnksj5qC4Jo/s6EGkvND3ZAhofQaDxAUkwqZWQDQ03oWsw0R+m9Uoq4OkXG7obmTkVPI6Jtidtb9o0XSAeaHwA0ICN+kklZNzzprYIdW8l2czeLQPPPLGhu1G15WOq7UnbmzZNF1ADDB8AOLFZP0kFpnQNOo0s30S5JXjmiU9zKYirbbet6QJuAsMHAA58rJ9kE11GlqsLbDV4FmCfF2mX2+5qQASwBzQ+AaDxAWFU0wqo0kqA6vich4VnnqiYS7ZKWOA6ADbhXb9h+ASA4ZNOXE2oB8TAAhuNDfE3aoUBF4C4GYC/4nJCPSCGyFaaTI4Z3u/arn1lQ/yts/aZ7f4E6QSGD0g1rifUkwULAx8yizPvd20UPw1iWvydtmKyJXBdpRsYPiDVqF4IXMr4qmphSHqT921RkFmceb/rSpi9afG3LkPLZn+6YMACvcDwAanG1yigaqhaGJLe5H1cFGQWZ97vuhJmb3pLVtf1Zas/XTFggV5g+IDUEOaJSKs2p9rCwFsTKslN3sSioMObJLM4837XJQPb5JZs2orJumLAAr3A8AGpIM4TYXIhMCWCjVsYeL0ySW/yKitkh6HLmySzOPN+1zUD2+SWLM/1lXS+2+pPlwxYoBHtVcM8A0VK/cOVQoS8RRpVFXMMK9qYpC+S9ptMP1c7ZxNjKFOYlPe7NoqfyiBb7JUHnrGPaoOtYrIqi7cCc/Cu3zB8AsDw8Q9TFcHj4F24VS/wwYUhaV8kvcnrqpDtwhjKImpEmDA+wtBdTZ2x6mNvog0i+GbAgiK86ze2uoD3qHRPi25B2RLBBrc0kvZF0m1AkW1DnnPmabfL0WSi23S2xOKmRLxxY++ykNil6E2gHhg+wHtU6QFkFiFXRLAifZH0Jq+jQna1drscTSa6gNtc+E2JeOPGHkJiYA1DHihvwFaXv8hqOGS3oHi3gUxoCKL6wua2Cs85h7XbFQ1XFKLbdKq395KMrck+jRp73W2wNdeBPaDxEQSGTzZRtQi5LIK1racQPWfX9T+iC3jc95Iu2iJja1LEGzX2utpge64DO/Cu3yhSGgBFSrNJ2ouQ+nx+PrRdtGJ82PeIkhUZlekfF4q9qm6DD/MF6AFFSgFIgGt5WFTjs57Ch7ERzRUV/N7Uqcl1PzJj64KIV3UbfJ7rwAyDbTcAAFeYPr248Nh+AtZBSWQafAr2JTGbD2PT1CTWroHfa22NXrSjju372KoG/QGqAY8PAANw4QlYBz54TaqR1rEZiEjUn8mxdTmlQAme/vDhPIA+oPEJAI1PdunoKLrJx45N7+LqgqYj61SbZ6J6Id1j29KSTHtkm6j+8O08AD+86zcMnwAwfLIJboZmDb8sGJlh8M4z1wzUtAiG03IeIByImwHgRDaRXBrc5iYTBLqcjFAnSeaZa9t6aREMp+U8gBwwfEDmkbkZpmERN5lB2OUyBbrxedHVmXHc5IMDqq8DIhg+AAjfDNOyiPMsyKoWJ58Xf1l8XnR1Cah5HxxUzb80iPyBPDB8QOYRuRl2dBA9/XQ6FvFqC7JKr5bPi7/s4iuz6LqwnSqaqygK3gcH1V5V1ecBPER7DmnPQMmK7MJbUmFgOvzgy6UaUlGElUMwWU/JZKmEOJKUhVBZAiFp6Y60ll/gKUXiep024Bao1SUIDB8QR9iNeOANudqipKpwouhx4hbRsAVZV50sG7XKBpLEmLC5+Nr+bZ1FPnnOzfU6bcAteNdvbHUBkIAwjQoR0aJF1d3mqlz2oseptrUQFkmka2uKN2pJxxZPUm2WTV2Srd82Idrn2frzeWsUuAsMHwASEHUj/t73qmuCVAihZY4jsojaFIPqWnzvvz9ZP9hcfE3/dkm7Zkq0X01vAzEy0AEMHwASIHojVvXkLnMc0UVUlxg0zpujK2Kuo4Popz/d9/24frC5+Jr87ZKhecklZr1M1bx/ECMD1aBIKQAJESmYqapwosxxSotosBwCT/tFC3BGUS2DcZyBJ9OOjz4qqkSC3HRT/HFtFkk18dtBQzOI7e0l1fMPZBuUrAiAkhVAF6I1mFQfx3Y5BJ6yAVGfWb2aaOdO8VIXYcfN54k2bcr2wtraWtxSDENmrgJgEpSsAMAxqrnseYW8sq5/1eUQkgqQebbrwrZ4rryS6OST5TQ/Ycd95JFsGz1E4dug+XxR74PtJZA24PEJAI8PsIGvRVJF2p2kUGTJO1VbWzR6VBWXVOX1cqnYqmxbVHkkAbAFqrMLAsMHmMbXitEy7U66yEZtxbS2Fo0XG8aHS8aqqrbYxv2rPwAAFYJJREFU3gYFQAZsdQHgCaoivkyXNZBpd9LtuqiItLVr7RSJ1V2nLclYqmxLtW1QF0pnACALDB8ALKMiV4uNKvGy7U6iNQrT5ixYQHTbbXaKxOpMLJh0LE0VmbUxxwDQAQwfACxS0mXcc494rhZbVeJN57cJeonGj7eXUVlXYkGRsTRRZFZnXiV4kIBpYPgAYImBC9KttxLNny8WqWWzpILp5HIDvUQ2MyrrMvpUZ9dWZbComGNBIwceJGALiJsDQNwMTKBS0OyrOFoFSUXSqqOwVIuBZcYyrC1xovDJk820i2hf8fU99xSN/SzOWaAPiJsBcBiVgmbZrTKfSeJx0uFhUJ0TScaTJFJklnerSaZdYV6noNFDZM5LCQA8PgHg8QEmUOGlCT5FL1hAdMIJ6Q9FFvHa+OYVU+lJivKKieZgStquKK9TLldZPsTl8QB+AI8PAA4jqxEJe4qeOzf9Ro+o18amDkoElZ6kMK+YqPZHpF1RXqeseimBfWD4AGAJGWGwbwu5CmSEujaF0C4QNFhMzp8oI/+HP0TVdWAHVGcHwCJJqk4P3OJRVe3dJ2QqtstUpk8jpudPVIV5VF0HNoDHBwAPCG7xvPyy2Rw6LiDrtUnqYUtzjhnTOZhKv6lSCA6AKBA3B4C4GbhGnDCXyN/aSiIiZVOFNF2qw6UT1OYCaQJFSgWB4QNcQ1UuFpeQMSx0L9a+RYABAIogqguAlJA2Ya5sNmHdWyZZFI4DkCVg+ADgODb0GDpx3bA48MDw92trzbYDAKAHRHUB4AFRUTGyqC7hwIPNiDSe8925M/z9nh597QIAmAMeHwA8QfUWj60ikbY8WLznq3NrMc2RYgD4AsTNASBuBlnABQGvyYiipOerI3osK5FiANgC4mYAQCT3329fZ2Myr0tSXZFMVu0wZAXdrgHPFfAZGD4AZIyODqKf/nTf932OFKuGyPaVSsPMdUF3EmxtkQKgChg+AGSMjz6qrIpd4qab7EWK6fYg2I6MS0tKgrR5rkA2geEDQMYIW4TzeaIbb7TTHlMeBNXbV0mwbXhVg9fwTJPnCmQXiJsDQNwMsoCp0g8losLIXRBZm8TFEhFJRNdZGy/gFxA3AwAiEfF+iG5HxXl0suZBcK1QZ9KtK9c9VwDw4IXh09bWRtOnT6fRo0fTkCFD6IgjjqA777yT+vr6Kj63ceNGmjRpEg0ZMoQOPfRQuuuuuwgOLQDCSbIIi25HVVtY06J9icPlCCgRw9PmliEAKvDC8Pnggw+ov7+ffv7zn9O7775LixYtosWLF9Ptt99e/sz27dvpzDPPpMbGRlq7di098MADdN9999HChQstthwA/5ERtFZbWH3xIOjwdrmAqOHpmucKgEQwT7n33nvZ6NGjy/9++OGHWX19Pdu1a1f5vfnz57PGxkbW398feZxdu3ax7u7u8qu9vZ0REevu7tbafgB84dVXGSvGgVW+Wlurf7e9nbF8vvJ7gwYV3w9+rrV13/dd4NFH955DPl/8Nw+8526bRx8ttqvUPt7zA8A1uru7udZvLzw+YXR3d9Pw4cPL/169ejVNmjSJCoVC+b2pU6dSZ2cntbW1RR5n/vz5VF9fX341NzfrbDYA3iGzHcXr0XHVg6DT2+UK2LoCWcNLw+fjjz+mBx54gGbMmFF+r6uri0aOHFnxudK/u7q6Io81d+5c6u7uLr/a29v1NBoAT5HdjvJ5YZUxXlzXLw3cvnPV8ARAB1YNn3nz5lEul4t9rVu3ruI7nZ2ddNZZZ9FFF11E11xzTcXfcrlcxb/ZX4XNwfcHUigUqK6uruIFAKhE1njxdWE14e2ygevaIwB0YjWPz7Zt22jbtm2xnxk1ahTtv//+RFQ0ek4//XQ66aST6Je//CXlB9yRrr76auru7qbnnnuu/N6GDRvouOOOoz//+c80evRorjYhjw8AYCCyOY9cy92DXDwgrfCu34MNtmkfRowYQSNGjOD67JYtW+j000+n8ePH05IlSyqMHiKiCRMm0O233059fX1UU1NDRESvvPIKNTY20qhRo1Q3HQCQEaZPJ5o6Vdx4aWoK/05UUkfdxG3fwfABWcALjU9nZydNnjyZmpub6b777qPPPvuMurq6KrQ7l19+ORUKBfr+979P77zzDi1btozuvvtumjNnTuxWFwDAPiLh4ibz46jeqqu21aTz3FzXHgGgHRMhZrIsWbKEEVHoayBvv/02O/XUU1mhUGANDQ1s3rx5saHsYfCGwwEA1CASLi4aYu4C1cLcTZwbQthBGuFdv1GrKwA0PgCYQ0Rv4rtGpbW16OkJe3/MGHPn5pr2CABZUKsLACCEyS0kkXBxX/LjRBG31WTy3HyNtANAFhg+AIAypsOcRfQmvmtU4sLcfT83AHwAhg8AgIjkshSLIpLrxuX8OLxE5UVKw7kB4DrQ+ASAxgdklTjtyeTJ+n63o4PotdeIcjmiCRP4F/k0a1TSfG4A6MKLPD4AAHcobbMEhbU6t1laWvZ6mfL5oreDNzlgVH4cHmzl0OFF5twAAPFgqwsAQETmt1lsbK0RoVwDAFkHhg8AoIzJgqI2orOSGlsmI9wAAGaA4QMAqMBUmLONCKYkxhY8QwCkExg+AAAr2Ihg4jW2bG3DAQD0A8MHAGANk1trRPzGlu9JEgEA0SCqCwBgFdMRTDzV1m1EuAEAzACPDwAgc1TTMSGRIADpBR4fAAAIgcczBADwDxg+AAAQARIJApA+sNUFAAAAgMwAwwcAAAAAmQGGDwAAAAAyAwwfAAAAAGQGGD4AAAAAyAwwfAAAAACQGWD4AAAAACAzwPABAAAAQGaA4QMAAACAzADDBwAAAACZAYYPAAAAADIDanUFYIwREdH27dsttwQAAAAAvJTW7dI6HgUMnwA7duwgIqLm5mbLLQEAAABAUnbs2EH19fWRf8+xaqZRxujv76fOzk4aOnQo5XI5Jcfcvn07NTc3U3t7O9XV1Sk5ZppBfyUD/ZUM9Bc/6KtkoL+Sobq/GGO0Y8cOamxspHw+WskDj0+AfD5PTU1NWo5dV1eHiyEB6K9koL+Sgf7iB32VDPRXMlT2V5ynpwTEzQAAAADIDDB8AAAAAJAZBs2bN2+e7UZkgUGDBtHkyZNp8GDsLvKA/koG+isZ6C9+0FfJQH8lw0Z/QdwMAAAAgMyArS4AAAAAZAYYPgAAAADIDDB8AAAAAJAZYPgAAAAAIDPA8NHM+eefT4cddhjtv//+dMghh9BVV11FnZ2dFZ/ZuHEjTZo0iYYMGUKHHnoo3XXXXVVrjaSRtrY2mj59Oo0ePZqGDBlCRxxxBN15553U19dX8Tn0115+/OMf08SJE+mAAw6gb3zjG6Gf2bx5M5133nlUW1tLI0aMoFmzZu3Tp1nh4YcfptGjR9P+++9P48ePp//5n/+x3SQnWLlyJZ133nnU2NhIuVyOfvOb31T8nTFG8+bNo8bGRhoyZAhNnjyZ3n33XUuttc/8+fPphBNOoKFDh9LBBx9MF154IX344YcVn+nt7aUbbriBRowYQbW1tXT++edTR0eHpRbb42c/+xl985vfLCcpnDBhAr300kvlv9voJxg+mjn99NPp6aefpg8//JCeeeYZ+vjjj+l73/te+e/bt2+nM888kxobG2nt2rX0wAMP0H333UcLFy602Go7fPDBB9Tf308///nP6d1336VFixbR4sWL6fbbby9/Bv1VSV9fH1100UV03XXXhf59z549dM4551BPTw+tWrWKli5dSs888wzdfPPNhltqn6eeeopmz55N//Iv/0IbNmygU089lc4++2zavHmz7aZZp6enh4499lh68MEHQ/9+77330sKFC+nBBx+ktWvXUkNDA5155pnl2oZZY8WKFXT99dfTmjVraPny5bR7926aMmUK9fT0lD8ze/ZsWrZsGS1dupRWrVpFO3fupHPPPZf27NljseXmaWpqogULFtC6deto3bp1dMYZZ9AFF1xQNpyt9BMDRnnuuedYLpdjfX19jDHGHn74YVZfX8927dpV/sz8+fNZY2Mj6+/vt9VMZ7j33nvZ6NGjy/9Gf4WzZMkSVl9fv8/7L774Isvn82zLli3l95588klWKBRYd3e3ySZa58QTT2QzZsyoeO/II49kt912m6UWuQkRsWXLlpX/3d/fzxoaGtiCBQvK7+3atYvV19ezxYsX22iic2zdupUREVuxYgVjjLEvvviC7bfffmzp0qXlz2zZsoXl83n229/+1lYznWHYsGHs0UcftdZP8PgY5C9/+Qs98cQTNHHiRNpvv/2IiGj16tU0adIkKhQK5c9NnTqVOjs7qa2tzVJL3aG7u5uGDx9e/jf6KxmrV6+mcePGUWNjY/m9qVOnUm9vL61fv95iy8zS19dH69evpylTplS8P2XKFHrttdcstcoPPvnkE+rq6qrou0KhQJMmTULf/ZXu7m4iovK9av369fT1119X9FljYyONGzcu0322Z88eWrp0KfX09NCECROs9RMMHwPceuutVFtbS3/zN39Dmzdvpueee678t66uLho5cmTF50v/7urqMtpO1/j444/pgQceoBkzZpTfQ38lI6y/hg0bRjU1NZnqr23bttGePXtC506W+kGEUv+g78JhjNGcOXPolFNOoXHjxhFRsc9qampo2LBhFZ/Nap9t3LiRDjzwQCoUCjRjxgxatmwZHX300db6CYaPAPPmzaNcLhf7WrduXfnzP/zhD2nDhg30yiuv0KBBg+jqq6+uEOPmcrmK45f+FnzfV5L2FxFRZ2cnnXXWWXTRRRfRNddcU/E39Ne+/RVHWL8wxlLTX0kImztZ7AcR0HfhzJw5k95++2168sknq342q33293//9/TWW2/RmjVr6LrrrqNp06bRe++9F/l53f2EYiICzJw5ky699NLYz4waNar8/yNGjKARI0bQ3/3d39FRRx1Fzc3NtGbNGpowYQI1NDTsY9lu3bqViPZ9wvKVpP3V2dlJp59+Ok2YMIEeeeSRis+hv4oM7K84Ghoa6PXXX6947/PPP6evv/46Nf3Fw4gRI2jQoEGhcydL/SBCQ0MDERW9GIccckj5ffQd0Q033EDPP/88rVy5kpqamsrvNzQ0UF9fH33++ecV3oytW7fSxIkTbTTVKjU1NTRmzBgiIjr++ONp7dq1dP/999Mll1xipZ9g+AhQMmREKHknent7iYhowoQJdPvtt1NfXx/V1NQQEdErr7xCjY2N3Iub6yTpry1bttDpp59O48ePpyVLllA+X+mURH8lY8KECfTjH/+YPv300/Ki9corr1ChUKDx48cr+Q0fqKmpofHjx9Py5cvpu9/9bvn95cuX0wUXXGCxZe4zevRoamhooOXLl9O3vvUtIipqplasWEH33HOP5dbZgTFGN9xwAy1btoz+8Ic/0OjRoyv+Pn78eNpvv/1o+fLldPHFFxMR0aeffkrvvPMO3XvvvTaa7BSMMert7bXXT9pk04C9/vrr7IEHHmAbNmxgbW1t7NVXX2WnnHIKO+KII8pRSV988QUbOXIku+yyy9jGjRvZs88+y+rq6th9991nufXm2bJlCxszZgw744wzWEdHB/v000/LrxLor0o2bdrENmzYwH70ox+xAw88kG3YsIFt2LCB7dixgzHG2O7du9m4cePYd77zHfbmm2+y3/3ud6ypqYnNnDnTcsvNs3TpUrbffvuxlpYW9t5777HZs2ez2tpa1tbWZrtp1tmxY0d57hARW7hwIduwYQPbtGkTY4yxBQsWsPr6evbss8+yjRs3sssuu4wdcsghbPv27ZZbbofrrruO1dfXsz/84Q8V96kvv/yy/JkZM2awpqYm9rvf/Y69+eab7IwzzmDHHnss2717t8WWm2fu3Lls5cqV7JNPPmFvv/02u/3221k+n2evvPIKY8xOP8Hw0cjbb7/NTj/9dDZ8+HBWKBTYqFGj2IwZM1hHR8c+nzv11FNZoVBgDQ0NbN68eZkMzV6yZAkjotDXQNBfe5k2bVpof7W2tpY/s2nTJnbOOeewIUOGsOHDh7OZM2dWpAPIEg899BA7/PDDWU1NDTvuuOPK4cdZp7W1NXQeTZs2jTFWDGm/8847WUNDAysUCuy0005jGzdutNtoi0Tdp5YsWVL+zFdffcVmzpzJhg8fzoYMGcLOPfdctnnzZnuNtsQPfvCD8jV30EEHse985ztlo4cxO/2UYyyjKW8BAAAAkDkQ1QUAAACAzADDBwAAAACZAYYPAAAAADIDDB8AAAAAZAYYPgAAAADIDDB8AAAAAJAZYPgAAAAAIDPA8AEAAABAZoDhAwAAAIDMAMMHAJBp7rjjDioUCnT55ZfbbgoAwAAwfAAAqeKnP/0pjRw5kg4//HD69a9/Td3d3bRo0SL61re+RQcccMA+FcX/+Z//mRYuXEhPPvkk/elPf7LUagCAKWD4AABSw//+7//Su+++S21tbXTllVfSFVdcQddccw0de+yxtGbNGho/fjw98cQTFd+pq6ujH/zgB5TP52njxo2WWg4AMAUMHwBAali7di3NmTOHhgwZQrfccgt9/fXXdOmll9IZZ5xBhUKBRo0aRVOmTNnne7t376YDDjiA3nnnHQutBgCYBIYPACA1nHDCCbR8+XIiIho2bBgREe3YsYOIiDZv3kzbtm2jH/3oR/t874477qCdO3fC8AEgA8DwAQCkhm9/+9tERPTv//7v5ff6+vpoyZIldPLJJ9OXX35JgwcPrvjO+vXrafHixXTOOefA8AEgA+QYY8x2IwAAQAe5XI4mTpxIN910E73//vv0b//2b/TSSy/RWWedRURE/f39dOKJJ9KkSZPopJNOoiuuuIJ6enqopqbGcssBALqAxwcAkGquvfZa+t73vkezZ8+mXC5Hf/zjH8t/e+CBB+izzz6ju+66i4455hjavXs3ffjhhxZbCwDQDQwfAEBq+OCDD2jVqlVERPTll18SEVF9fT0REQ0dOpSGDh1KmzdvJiKiLVu20L/+67/Sww8/TLW1tTR27FgqFArY7gIg5Qyu/hEAAPCDxsZGWrRoEZ1yyin0wgsvUKFQoBNPPLH898MOO4x++9vfUm9vL3V2dtLZZ59N55xzDhERDR48mI466igYPgCkHBg+AIDUUFdXR9/97nfpvPPOo3fffZf+8z//kw499NDy3y+99FL68ssv6cgjj6RZs2bR+++/X/H9Y445BoYPACkH4mYAAAAAZAZofAAAAACQGWD4AAAAACAzwPABAAAAQGaA4QMAAACAzADDBwAAAACZAYYPAAAAADIDDB8AAAAAZAYYPgAAAADIDDB8AAAAAJAZYPgAAAAAIDPA8AEAAABAZvj/CwNTkFTqdXUAAAAASUVORK5CYII='></img>"
               },
               "type": "node"
              }
             ],
             "instanceArgs": {
              "namespace": "html",
              "tag": "div"
             },
             "nodeType": "DOM",
             "props": {
              "className": "interact-flex-row interact-widget"
             },
             "type": "node"
            }
           }
          },
          "systemjs_options": null
         },
         "nodeType": "Scope",
         "props": {},
         "type": "node"
        }
       ],
       "instanceArgs": {
        "namespace": "html",
        "tag": "div"
       },
       "nodeType": "DOM",
       "props": {},
       "type": "node"
      },
      "text/html": [
       "<div\n",
       "    class=\"webio-mountpoint\"\n",
       "    data-webio-mountpoint=\"9452755685718864879\"\n",
       ">\n",
       "    <script>\n",
       "    if (window.require && require.defined && require.defined(\"nbextensions/webio-jupyter-notebook\")) {\n",
       "        console.log(\"Jupyter WebIO extension detected, not mounting.\");\n",
       "    } else if (window.WebIO) {\n",
       "        WebIO.mount(\n",
       "            document.querySelector('[data-webio-mountpoint=\"9452755685718864879\"]'),\n",
       "            {\"props\":{},\"nodeType\":\"DOM\",\"type\":\"node\",\"instanceArgs\":{\"namespace\":\"html\",\"tag\":\"div\"},\"children\":[{\"props\":{\"className\":\"field interact-widget\"},\"nodeType\":\"DOM\",\"type\":\"node\",\"instanceArgs\":{\"namespace\":\"html\",\"tag\":\"div\"},\"children\":[{\"props\":{},\"nodeType\":\"Scope\",\"type\":\"node\",\"instanceArgs\":{\"imports\":{\"data\":[{\"name\":\"knockout\",\"type\":\"js\",\"url\":\"\\/assetserver\\/a640663e3908763889bbe9bde6d9d61565df4a62-knockout.js\"},{\"name\":\"knockout_punches\",\"type\":\"js\",\"url\":\"\\/assetserver\\/8fc0b36b5ecb22f13021fb56baafba37abe9dcf2-knockout_punches.js\"},{\"name\":null,\"type\":\"js\",\"url\":\"\\/assetserver\\/87a645b15dc699eca506abf5a296a5295d5c1bb2-all.js\"},{\"name\":null,\"type\":\"css\",\"url\":\"\\/assetserver\\/1ec5ee9823d90485f11267898d87fd061c8884f5-style.css\"},{\"name\":null,\"type\":\"css\",\"url\":\"\\/assetserver\\/e5e03f73eee90cc09eab8f0f2b41d76ab5b4a42f-bulma_confined.min.css\"}],\"type\":\"async_block\"},\"id\":\"2476525296645436800\",\"handlers\":{\"changes\":[\"(function (val){return (val!=this.model[\\\"changes\\\"]()) ? (this.valueFromJulia[\\\"changes\\\"]=true, this.model[\\\"changes\\\"](val)) : undefined})\"],\"index\":[\"(function (val){return (val!=this.model[\\\"index\\\"]()) ? (this.valueFromJulia[\\\"index\\\"]=true, this.model[\\\"index\\\"](val)) : undefined})\"]},\"systemjs_options\":null,\"mount_callbacks\":[\"function () {\\n    var handler = (function (ko, koPunches) {\\n    ko.punches.enableAll();\\n    ko.bindingHandlers.numericValue = {\\n        init: function(element, valueAccessor, allBindings, data, context) {\\n            var stringified = ko.observable(ko.unwrap(valueAccessor()));\\n            stringified.subscribe(function(value) {\\n                var val = parseFloat(value);\\n                if (!isNaN(val)) {\\n                    valueAccessor()(val);\\n                }\\n            });\\n            valueAccessor().subscribe(function(value) {\\n                var str = JSON.stringify(value);\\n                if ((str == \\\"0\\\") && ([\\\"-0\\\", \\\"-0.\\\"].indexOf(stringified()) >= 0))\\n                     return;\\n                 if ([\\\"null\\\", \\\"\\\"].indexOf(str) >= 0)\\n                     return;\\n                stringified(str);\\n            });\\n            ko.applyBindingsToNode(\\n                element,\\n                {\\n                    value: stringified,\\n                    valueUpdate: allBindings.get('valueUpdate'),\\n                },\\n                context,\\n            );\\n        }\\n    };\\n    var json_data = {\\\"formatted_vals\\\":[\\\"10\\\",\\\"11\\\",\\\"12\\\",\\\"13\\\",\\\"14\\\",\\\"15\\\",\\\"16\\\",\\\"17\\\",\\\"18\\\",\\\"19\\\",\\\"20\\\",\\\"21\\\",\\\"22\\\",\\\"23\\\",\\\"24\\\",\\\"25\\\",\\\"26\\\",\\\"27\\\",\\\"28\\\",\\\"29\\\",\\\"30\\\",\\\"31\\\",\\\"32\\\",\\\"33\\\",\\\"34\\\",\\\"35\\\",\\\"36\\\",\\\"37\\\",\\\"38\\\",\\\"39\\\",\\\"40\\\",\\\"41\\\",\\\"42\\\",\\\"43\\\",\\\"44\\\",\\\"45\\\",\\\"46\\\",\\\"47\\\",\\\"48\\\",\\\"49\\\",\\\"50\\\",\\\"51\\\",\\\"52\\\",\\\"53\\\",\\\"54\\\",\\\"55\\\",\\\"56\\\",\\\"57\\\",\\\"58\\\",\\\"59\\\",\\\"60\\\",\\\"61\\\",\\\"62\\\",\\\"63\\\",\\\"64\\\",\\\"65\\\",\\\"66\\\",\\\"67\\\",\\\"68\\\",\\\"69\\\",\\\"70\\\",\\\"71\\\",\\\"72\\\",\\\"73\\\",\\\"74\\\",\\\"75\\\",\\\"76\\\",\\\"77\\\",\\\"78\\\",\\\"79\\\",\\\"80\\\",\\\"81\\\",\\\"82\\\",\\\"83\\\",\\\"84\\\",\\\"85\\\",\\\"86\\\",\\\"87\\\",\\\"88\\\",\\\"89\\\",\\\"90\\\",\\\"91\\\",\\\"92\\\",\\\"93\\\",\\\"94\\\",\\\"95\\\",\\\"96\\\",\\\"97\\\",\\\"98\\\",\\\"99\\\",\\\"100\\\",\\\"101\\\",\\\"102\\\",\\\"103\\\",\\\"104\\\",\\\"105\\\",\\\"106\\\",\\\"107\\\",\\\"108\\\",\\\"109\\\",\\\"110\\\",\\\"111\\\",\\\"112\\\",\\\"113\\\",\\\"114\\\",\\\"115\\\",\\\"116\\\",\\\"117\\\",\\\"118\\\",\\\"119\\\",\\\"120\\\",\\\"121\\\",\\\"122\\\",\\\"123\\\",\\\"124\\\",\\\"125\\\",\\\"126\\\",\\\"127\\\",\\\"128\\\",\\\"129\\\",\\\"130\\\",\\\"131\\\",\\\"132\\\",\\\"133\\\",\\\"134\\\",\\\"135\\\",\\\"136\\\",\\\"137\\\",\\\"138\\\",\\\"139\\\",\\\"140\\\",\\\"141\\\",\\\"142\\\",\\\"143\\\",\\\"144\\\",\\\"145\\\",\\\"146\\\",\\\"147\\\",\\\"148\\\",\\\"149\\\",\\\"150\\\",\\\"151\\\",\\\"152\\\",\\\"153\\\",\\\"154\\\",\\\"155\\\",\\\"156\\\",\\\"157\\\",\\\"158\\\",\\\"159\\\",\\\"160\\\",\\\"161\\\",\\\"162\\\",\\\"163\\\",\\\"164\\\",\\\"165\\\",\\\"166\\\",\\\"167\\\",\\\"168\\\",\\\"169\\\",\\\"170\\\",\\\"171\\\",\\\"172\\\",\\\"173\\\",\\\"174\\\",\\\"175\\\",\\\"176\\\",\\\"177\\\",\\\"178\\\",\\\"179\\\",\\\"180\\\",\\\"181\\\",\\\"182\\\",\\\"183\\\",\\\"184\\\",\\\"185\\\",\\\"186\\\",\\\"187\\\",\\\"188\\\",\\\"189\\\",\\\"190\\\",\\\"191\\\",\\\"192\\\",\\\"193\\\",\\\"194\\\",\\\"195\\\",\\\"196\\\",\\\"197\\\",\\\"198\\\",\\\"199\\\",\\\"200\\\",\\\"201\\\",\\\"202\\\",\\\"203\\\",\\\"204\\\",\\\"205\\\",\\\"206\\\",\\\"207\\\",\\\"208\\\",\\\"209\\\",\\\"210\\\",\\\"211\\\",\\\"212\\\",\\\"213\\\",\\\"214\\\",\\\"215\\\",\\\"216\\\",\\\"217\\\",\\\"218\\\",\\\"219\\\",\\\"220\\\",\\\"221\\\",\\\"222\\\",\\\"223\\\",\\\"224\\\",\\\"225\\\",\\\"226\\\",\\\"227\\\",\\\"228\\\",\\\"229\\\",\\\"230\\\",\\\"231\\\",\\\"232\\\",\\\"233\\\",\\\"234\\\",\\\"235\\\",\\\"236\\\",\\\"237\\\",\\\"238\\\",\\\"239\\\",\\\"240\\\",\\\"241\\\",\\\"242\\\",\\\"243\\\",\\\"244\\\",\\\"245\\\",\\\"246\\\",\\\"247\\\",\\\"248\\\",\\\"249\\\",\\\"250\\\",\\\"251\\\",\\\"252\\\",\\\"253\\\",\\\"254\\\",\\\"255\\\",\\\"256\\\",\\\"257\\\",\\\"258\\\",\\\"259\\\",\\\"260\\\",\\\"261\\\",\\\"262\\\",\\\"263\\\",\\\"264\\\",\\\"265\\\",\\\"266\\\",\\\"267\\\",\\\"268\\\",\\\"269\\\",\\\"270\\\",\\\"271\\\",\\\"272\\\",\\\"273\\\",\\\"274\\\",\\\"275\\\",\\\"276\\\",\\\"277\\\",\\\"278\\\",\\\"279\\\",\\\"280\\\",\\\"281\\\",\\\"282\\\",\\\"283\\\",\\\"284\\\",\\\"285\\\",\\\"286\\\",\\\"287\\\",\\\"288\\\",\\\"289\\\",\\\"290\\\",\\\"291\\\",\\\"292\\\",\\\"293\\\",\\\"294\\\",\\\"295\\\",\\\"296\\\",\\\"297\\\",\\\"298\\\",\\\"299\\\",\\\"300\\\",\\\"301\\\",\\\"302\\\",\\\"303\\\",\\\"304\\\",\\\"305\\\",\\\"306\\\",\\\"307\\\",\\\"308\\\",\\\"309\\\",\\\"310\\\",\\\"311\\\",\\\"312\\\",\\\"313\\\",\\\"314\\\",\\\"315\\\",\\\"316\\\",\\\"317\\\",\\\"318\\\",\\\"319\\\",\\\"320\\\",\\\"321\\\",\\\"322\\\",\\\"323\\\",\\\"324\\\",\\\"325\\\",\\\"326\\\",\\\"327\\\",\\\"328\\\",\\\"329\\\",\\\"330\\\",\\\"331\\\",\\\"332\\\",\\\"333\\\",\\\"334\\\",\\\"335\\\",\\\"336\\\",\\\"337\\\",\\\"338\\\",\\\"339\\\",\\\"340\\\",\\\"341\\\",\\\"342\\\",\\\"343\\\",\\\"344\\\",\\\"345\\\",\\\"346\\\",\\\"347\\\",\\\"348\\\",\\\"349\\\",\\\"350\\\",\\\"351\\\",\\\"352\\\",\\\"353\\\",\\\"354\\\",\\\"355\\\",\\\"356\\\",\\\"357\\\",\\\"358\\\",\\\"359\\\",\\\"360\\\",\\\"361\\\",\\\"362\\\",\\\"363\\\",\\\"364\\\",\\\"365\\\",\\\"366\\\",\\\"367\\\",\\\"368\\\",\\\"369\\\",\\\"370\\\",\\\"371\\\",\\\"372\\\",\\\"373\\\",\\\"374\\\",\\\"375\\\",\\\"376\\\",\\\"377\\\",\\\"378\\\",\\\"379\\\",\\\"380\\\",\\\"381\\\",\\\"382\\\",\\\"383\\\",\\\"384\\\",\\\"385\\\",\\\"386\\\",\\\"387\\\",\\\"388\\\",\\\"389\\\",\\\"390\\\",\\\"391\\\",\\\"392\\\",\\\"393\\\",\\\"394\\\",\\\"395\\\",\\\"396\\\",\\\"397\\\",\\\"398\\\",\\\"399\\\",\\\"400\\\",\\\"401\\\",\\\"402\\\",\\\"403\\\",\\\"404\\\",\\\"405\\\",\\\"406\\\",\\\"407\\\",\\\"408\\\",\\\"409\\\",\\\"410\\\",\\\"411\\\",\\\"412\\\",\\\"413\\\",\\\"414\\\",\\\"415\\\",\\\"416\\\",\\\"417\\\",\\\"418\\\",\\\"419\\\",\\\"420\\\",\\\"421\\\",\\\"422\\\",\\\"423\\\",\\\"424\\\",\\\"425\\\",\\\"426\\\",\\\"427\\\",\\\"428\\\",\\\"429\\\",\\\"430\\\",\\\"431\\\",\\\"432\\\",\\\"433\\\",\\\"434\\\",\\\"435\\\",\\\"436\\\",\\\"437\\\",\\\"438\\\",\\\"439\\\",\\\"440\\\",\\\"441\\\",\\\"442\\\",\\\"443\\\",\\\"444\\\",\\\"445\\\",\\\"446\\\",\\\"447\\\",\\\"448\\\",\\\"449\\\",\\\"450\\\",\\\"451\\\",\\\"452\\\",\\\"453\\\",\\\"454\\\",\\\"455\\\",\\\"456\\\",\\\"457\\\",\\\"458\\\",\\\"459\\\",\\\"460\\\",\\\"461\\\",\\\"462\\\",\\\"463\\\",\\\"464\\\",\\\"465\\\",\\\"466\\\",\\\"467\\\",\\\"468\\\",\\\"469\\\",\\\"470\\\",\\\"471\\\",\\\"472\\\",\\\"473\\\",\\\"474\\\",\\\"475\\\",\\\"476\\\",\\\"477\\\",\\\"478\\\",\\\"479\\\",\\\"480\\\",\\\"481\\\",\\\"482\\\",\\\"483\\\",\\\"484\\\",\\\"485\\\",\\\"486\\\",\\\"487\\\",\\\"488\\\",\\\"489\\\",\\\"490\\\",\\\"491\\\",\\\"492\\\",\\\"493\\\",\\\"494\\\",\\\"495\\\",\\\"496\\\",\\\"497\\\",\\\"498\\\",\\\"499\\\",\\\"500\\\",\\\"501\\\",\\\"502\\\",\\\"503\\\",\\\"504\\\",\\\"505\\\",\\\"506\\\",\\\"507\\\",\\\"508\\\",\\\"509\\\",\\\"510\\\",\\\"511\\\",\\\"512\\\",\\\"513\\\",\\\"514\\\",\\\"515\\\",\\\"516\\\",\\\"517\\\",\\\"518\\\",\\\"519\\\",\\\"520\\\",\\\"521\\\",\\\"522\\\",\\\"523\\\",\\\"524\\\",\\\"525\\\",\\\"526\\\",\\\"527\\\",\\\"528\\\",\\\"529\\\",\\\"530\\\",\\\"531\\\",\\\"532\\\",\\\"533\\\",\\\"534\\\",\\\"535\\\",\\\"536\\\",\\\"537\\\",\\\"538\\\",\\\"539\\\",\\\"540\\\",\\\"541\\\",\\\"542\\\",\\\"543\\\",\\\"544\\\",\\\"545\\\",\\\"546\\\",\\\"547\\\",\\\"548\\\",\\\"549\\\",\\\"550\\\",\\\"551\\\",\\\"552\\\",\\\"553\\\",\\\"554\\\",\\\"555\\\",\\\"556\\\",\\\"557\\\",\\\"558\\\",\\\"559\\\",\\\"560\\\",\\\"561\\\",\\\"562\\\",\\\"563\\\",\\\"564\\\",\\\"565\\\",\\\"566\\\",\\\"567\\\",\\\"568\\\",\\\"569\\\",\\\"570\\\",\\\"571\\\",\\\"572\\\",\\\"573\\\",\\\"574\\\",\\\"575\\\",\\\"576\\\",\\\"577\\\",\\\"578\\\",\\\"579\\\",\\\"580\\\",\\\"581\\\",\\\"582\\\",\\\"583\\\",\\\"584\\\",\\\"585\\\",\\\"586\\\",\\\"587\\\",\\\"588\\\",\\\"589\\\",\\\"590\\\",\\\"591\\\",\\\"592\\\",\\\"593\\\",\\\"594\\\",\\\"595\\\",\\\"596\\\",\\\"597\\\",\\\"598\\\",\\\"599\\\",\\\"600\\\",\\\"601\\\",\\\"602\\\",\\\"603\\\",\\\"604\\\",\\\"605\\\",\\\"606\\\",\\\"607\\\",\\\"608\\\",\\\"609\\\",\\\"610\\\",\\\"611\\\",\\\"612\\\",\\\"613\\\",\\\"614\\\",\\\"615\\\",\\\"616\\\",\\\"617\\\",\\\"618\\\",\\\"619\\\",\\\"620\\\",\\\"621\\\",\\\"622\\\",\\\"623\\\",\\\"624\\\",\\\"625\\\",\\\"626\\\",\\\"627\\\",\\\"628\\\",\\\"629\\\",\\\"630\\\",\\\"631\\\",\\\"632\\\",\\\"633\\\",\\\"634\\\",\\\"635\\\",\\\"636\\\",\\\"637\\\",\\\"638\\\",\\\"639\\\",\\\"640\\\",\\\"641\\\",\\\"642\\\",\\\"643\\\",\\\"644\\\",\\\"645\\\",\\\"646\\\",\\\"647\\\",\\\"648\\\",\\\"649\\\",\\\"650\\\",\\\"651\\\",\\\"652\\\",\\\"653\\\",\\\"654\\\",\\\"655\\\",\\\"656\\\",\\\"657\\\",\\\"658\\\",\\\"659\\\",\\\"660\\\",\\\"661\\\",\\\"662\\\",\\\"663\\\",\\\"664\\\",\\\"665\\\",\\\"666\\\",\\\"667\\\",\\\"668\\\",\\\"669\\\",\\\"670\\\",\\\"671\\\",\\\"672\\\",\\\"673\\\",\\\"674\\\",\\\"675\\\",\\\"676\\\",\\\"677\\\",\\\"678\\\",\\\"679\\\",\\\"680\\\",\\\"681\\\",\\\"682\\\",\\\"683\\\",\\\"684\\\",\\\"685\\\",\\\"686\\\",\\\"687\\\",\\\"688\\\",\\\"689\\\",\\\"690\\\",\\\"691\\\",\\\"692\\\",\\\"693\\\",\\\"694\\\",\\\"695\\\",\\\"696\\\",\\\"697\\\",\\\"698\\\",\\\"699\\\",\\\"700\\\",\\\"701\\\",\\\"702\\\",\\\"703\\\",\\\"704\\\",\\\"705\\\",\\\"706\\\",\\\"707\\\",\\\"708\\\",\\\"709\\\",\\\"710\\\",\\\"711\\\",\\\"712\\\",\\\"713\\\",\\\"714\\\",\\\"715\\\",\\\"716\\\",\\\"717\\\",\\\"718\\\",\\\"719\\\",\\\"720\\\",\\\"721\\\",\\\"722\\\",\\\"723\\\",\\\"724\\\",\\\"725\\\",\\\"726\\\",\\\"727\\\",\\\"728\\\",\\\"729\\\",\\\"730\\\",\\\"731\\\",\\\"732\\\",\\\"733\\\",\\\"734\\\",\\\"735\\\",\\\"736\\\",\\\"737\\\",\\\"738\\\",\\\"739\\\",\\\"740\\\",\\\"741\\\",\\\"742\\\",\\\"743\\\",\\\"744\\\",\\\"745\\\",\\\"746\\\",\\\"747\\\",\\\"748\\\",\\\"749\\\",\\\"750\\\",\\\"751\\\",\\\"752\\\",\\\"753\\\",\\\"754\\\",\\\"755\\\",\\\"756\\\",\\\"757\\\",\\\"758\\\",\\\"759\\\",\\\"760\\\",\\\"761\\\",\\\"762\\\",\\\"763\\\",\\\"764\\\",\\\"765\\\",\\\"766\\\",\\\"767\\\",\\\"768\\\",\\\"769\\\",\\\"770\\\",\\\"771\\\",\\\"772\\\",\\\"773\\\",\\\"774\\\",\\\"775\\\",\\\"776\\\",\\\"777\\\",\\\"778\\\",\\\"779\\\",\\\"780\\\",\\\"781\\\",\\\"782\\\",\\\"783\\\",\\\"784\\\",\\\"785\\\",\\\"786\\\",\\\"787\\\",\\\"788\\\",\\\"789\\\",\\\"790\\\",\\\"791\\\",\\\"792\\\",\\\"793\\\",\\\"794\\\",\\\"795\\\",\\\"796\\\",\\\"797\\\",\\\"798\\\",\\\"799\\\",\\\"800\\\",\\\"801\\\",\\\"802\\\",\\\"803\\\",\\\"804\\\",\\\"805\\\",\\\"806\\\",\\\"807\\\",\\\"808\\\",\\\"809\\\",\\\"810\\\",\\\"811\\\",\\\"812\\\",\\\"813\\\",\\\"814\\\",\\\"815\\\",\\\"816\\\",\\\"817\\\",\\\"818\\\",\\\"819\\\",\\\"820\\\",\\\"821\\\",\\\"822\\\",\\\"823\\\",\\\"824\\\",\\\"825\\\",\\\"826\\\",\\\"827\\\",\\\"828\\\",\\\"829\\\",\\\"830\\\",\\\"831\\\",\\\"832\\\",\\\"833\\\",\\\"834\\\",\\\"835\\\",\\\"836\\\",\\\"837\\\",\\\"838\\\",\\\"839\\\",\\\"840\\\",\\\"841\\\",\\\"842\\\",\\\"843\\\",\\\"844\\\",\\\"845\\\",\\\"846\\\",\\\"847\\\",\\\"848\\\",\\\"849\\\",\\\"850\\\",\\\"851\\\",\\\"852\\\",\\\"853\\\",\\\"854\\\",\\\"855\\\",\\\"856\\\",\\\"857\\\",\\\"858\\\",\\\"859\\\",\\\"860\\\",\\\"861\\\",\\\"862\\\",\\\"863\\\",\\\"864\\\",\\\"865\\\",\\\"866\\\",\\\"867\\\",\\\"868\\\",\\\"869\\\",\\\"870\\\",\\\"871\\\",\\\"872\\\",\\\"873\\\",\\\"874\\\",\\\"875\\\",\\\"876\\\",\\\"877\\\",\\\"878\\\",\\\"879\\\",\\\"880\\\",\\\"881\\\",\\\"882\\\",\\\"883\\\",\\\"884\\\",\\\"885\\\",\\\"886\\\",\\\"887\\\",\\\"888\\\",\\\"889\\\",\\\"890\\\",\\\"891\\\",\\\"892\\\",\\\"893\\\",\\\"894\\\",\\\"895\\\",\\\"896\\\",\\\"897\\\",\\\"898\\\",\\\"899\\\",\\\"900\\\",\\\"901\\\",\\\"902\\\",\\\"903\\\",\\\"904\\\",\\\"905\\\",\\\"906\\\",\\\"907\\\",\\\"908\\\",\\\"909\\\",\\\"910\\\",\\\"911\\\",\\\"912\\\",\\\"913\\\",\\\"914\\\",\\\"915\\\",\\\"916\\\",\\\"917\\\",\\\"918\\\",\\\"919\\\",\\\"920\\\",\\\"921\\\",\\\"922\\\",\\\"923\\\",\\\"924\\\",\\\"925\\\",\\\"926\\\",\\\"927\\\",\\\"928\\\",\\\"929\\\",\\\"930\\\",\\\"931\\\",\\\"932\\\",\\\"933\\\",\\\"934\\\",\\\"935\\\",\\\"936\\\",\\\"937\\\",\\\"938\\\",\\\"939\\\",\\\"940\\\",\\\"941\\\",\\\"942\\\",\\\"943\\\",\\\"944\\\",\\\"945\\\",\\\"946\\\",\\\"947\\\",\\\"948\\\",\\\"949\\\",\\\"950\\\",\\\"951\\\",\\\"952\\\",\\\"953\\\",\\\"954\\\",\\\"955\\\",\\\"956\\\",\\\"957\\\",\\\"958\\\",\\\"959\\\",\\\"960\\\",\\\"961\\\",\\\"962\\\",\\\"963\\\",\\\"964\\\",\\\"965\\\",\\\"966\\\",\\\"967\\\",\\\"968\\\",\\\"969\\\",\\\"970\\\",\\\"971\\\",\\\"972\\\",\\\"973\\\",\\\"974\\\",\\\"975\\\",\\\"976\\\",\\\"977\\\",\\\"978\\\",\\\"979\\\",\\\"980\\\",\\\"981\\\",\\\"982\\\",\\\"983\\\",\\\"984\\\",\\\"985\\\",\\\"986\\\",\\\"987\\\",\\\"988\\\",\\\"989\\\",\\\"990\\\",\\\"991\\\",\\\"992\\\",\\\"993\\\",\\\"994\\\",\\\"995\\\",\\\"996\\\",\\\"997\\\",\\\"998\\\",\\\"999\\\",\\\"1000\\\"],\\\"changes\\\":WebIO.getval({\\\"name\\\":\\\"changes\\\",\\\"scope\\\":\\\"2476525296645436800\\\",\\\"id\\\":\\\"ob_02\\\",\\\"type\\\":\\\"observable\\\"}),\\\"index\\\":WebIO.getval({\\\"name\\\":\\\"index\\\",\\\"scope\\\":\\\"2476525296645436800\\\",\\\"id\\\":\\\"ob_01\\\",\\\"type\\\":\\\"observable\\\"})};\\n    var self = this;\\n    function AppViewModel() {\\n        for (var key in json_data) {\\n            var el = json_data[key];\\n            this[key] = Array.isArray(el) ? ko.observableArray(el) : ko.observable(el);\\n        }\\n        \\n        [this[\\\"formatted_val\\\"]=ko.computed(    function(){\\n        return this.formatted_vals()[parseInt(this.index())-(10)];\\n    }\\n,this)]\\n        [this[\\\"changes\\\"].subscribe((function (val){!(this.valueFromJulia[\\\"changes\\\"]) ? (WebIO.setval({\\\"name\\\":\\\"changes\\\",\\\"scope\\\":\\\"2476525296645436800\\\",\\\"id\\\":\\\"ob_02\\\",\\\"type\\\":\\\"observable\\\"},val)) : undefined; return this.valueFromJulia[\\\"changes\\\"]=false}),self),this[\\\"index\\\"].subscribe((function (val){!(this.valueFromJulia[\\\"index\\\"]) ? (WebIO.setval({\\\"name\\\":\\\"index\\\",\\\"scope\\\":\\\"2476525296645436800\\\",\\\"id\\\":\\\"ob_01\\\",\\\"type\\\":\\\"observable\\\"},val)) : undefined; return this.valueFromJulia[\\\"index\\\"]=false}),self)]\\n        \\n    }\\n    self.model = new AppViewModel();\\n    self.valueFromJulia = {};\\n    for (var key in json_data) {\\n        self.valueFromJulia[key] = false;\\n    }\\n    ko.applyBindings(self.model, self.dom);\\n}\\n);\\n    (WebIO.importBlock({\\\"data\\\":[{\\\"name\\\":\\\"knockout\\\",\\\"type\\\":\\\"js\\\",\\\"url\\\":\\\"\\/assetserver\\/a640663e3908763889bbe9bde6d9d61565df4a62-knockout.js\\\"},{\\\"name\\\":\\\"knockout_punches\\\",\\\"type\\\":\\\"js\\\",\\\"url\\\":\\\"\\/assetserver\\/8fc0b36b5ecb22f13021fb56baafba37abe9dcf2-knockout_punches.js\\\"}],\\\"type\\\":\\\"async_block\\\"})).then((imports) => handler.apply(this, imports));\\n}\\n\"],\"observables\":{\"changes\":{\"sync\":false,\"id\":\"ob_02\",\"value\":0},\"index\":{\"sync\":true,\"id\":\"ob_01\",\"value\":505}}},\"children\":[{\"props\":{\"className\":\"interact-flex-row interact-widget\"},\"nodeType\":\"DOM\",\"type\":\"node\",\"instanceArgs\":{\"namespace\":\"html\",\"tag\":\"div\"},\"children\":[{\"props\":{\"className\":\"interact-flex-row-left\"},\"nodeType\":\"DOM\",\"type\":\"node\",\"instanceArgs\":{\"namespace\":\"html\",\"tag\":\"div\"},\"children\":[{\"props\":{\"className\":\"interact \",\"style\":{\"padding\":\"5px 10px 0px 10px\"}},\"nodeType\":\"DOM\",\"type\":\"node\",\"instanceArgs\":{\"namespace\":\"html\",\"tag\":\"label\"},\"children\":[\"n\"]}]},{\"props\":{\"className\":\"interact-flex-row-center\"},\"nodeType\":\"DOM\",\"type\":\"node\",\"instanceArgs\":{\"namespace\":\"html\",\"tag\":\"div\"},\"children\":[{\"props\":{\"max\":1000,\"min\":10,\"attributes\":{\"type\":\"range\",\"data-bind\":\"numericValue: index, valueUpdate: 'input', event: {change: function (){this.changes(this.changes()+1)}}\",\"orient\":\"horizontal\"},\"step\":1,\"className\":\"slider slider is-fullwidth\",\"style\":{}},\"nodeType\":\"DOM\",\"type\":\"node\",\"instanceArgs\":{\"namespace\":\"html\",\"tag\":\"input\"},\"children\":[]}]},{\"props\":{\"className\":\"interact-flex-row-right\"},\"nodeType\":\"DOM\",\"type\":\"node\",\"instanceArgs\":{\"namespace\":\"html\",\"tag\":\"div\"},\"children\":[{\"props\":{\"attributes\":{\"data-bind\":\"text: formatted_val\"}},\"nodeType\":\"DOM\",\"type\":\"node\",\"instanceArgs\":{\"namespace\":\"html\",\"tag\":\"p\"},\"children\":[]}]}]}]}]},{\"props\":{},\"nodeType\":\"Scope\",\"type\":\"node\",\"instanceArgs\":{\"imports\":{\"data\":[],\"type\":\"async_block\"},\"id\":\"3465625195612058312\",\"handlers\":{},\"systemjs_options\":null,\"mount_callbacks\":[],\"observables\":{\"obs-node\":{\"sync\":false,\"id\":\"ob_06\",\"value\":{\"props\":{\"className\":\"interact-flex-row interact-widget\"},\"nodeType\":\"DOM\",\"type\":\"node\",\"instanceArgs\":{\"namespace\":\"html\",\"tag\":\"div\"},\"children\":[{\"props\":{\"setInnerHtml\":\"<img src='data:image\\/png;base64,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'><\\/img>\"},\"nodeType\":\"DOM\",\"type\":\"node\",\"instanceArgs\":{\"namespace\":\"html\",\"tag\":\"div\"},\"children\":[]}]}}}},\"children\":[{\"props\":{},\"nodeType\":\"ObservableNode\",\"type\":\"node\",\"instanceArgs\":{\"id\":\"ob_06\",\"name\":\"obs-node\"},\"children\":[]}]}]},\n",
       "            window,\n",
       "        );\n",
       "    } else {\n",
       "        document\n",
       "            .querySelector('[data-webio-mountpoint=\"9452755685718864879\"]')\n",
       "            .innerHTML = (\n",
       "                '<strong>WebIO not detected. Please read ' +\n",
       "                '<a href=\"https://juliagizmos.github.io/WebIO.jl/latest/troubleshooting/not-detected/\">the troubleshooting guide</a> ' +\n",
       "                'for more information on how to resolve this issue.' +\n",
       "                '</strong>'\n",
       "            );\n",
       "    }\n",
       "    </script>\n",
       "</div>\n"
      ],
      "text/plain": [
       "Node{WebIO.DOM}(WebIO.DOM(:html, :div), Any[Node{DOM}(DOM(:html, :div), Any[Scope(Node{DOM}(DOM(:html, :div), Any[Node{DOM}(DOM(:html, :div), Any[Node{DOM}(DOM(:html, :label), Any[\"n\"], Dict{Symbol,Any}(:className=>\"interact \",:style=>Dict{Any,Any}(:padding=>\"5px 10px 0px 10px\")))], Dict{Symbol,Any}(:className=>\"interact-flex-row-left\")), Node{DOM}(DOM(:html, :div), Any[Node{DOM}(DOM(:html, :input), Any[], Dict{Symbol,Any}(:max=>1000,:min=>10,:attributes=>Dict{Any,Any}(:type=>\"range\",Symbol(\"data-bind\")=>\"numericValue: index, valueUpdate: 'input', event: {change: function (){this.changes(this.changes()+1)}}\",\"orient\"=>\"horizontal\"),:step=>1,:className=>\"slider slider is-fullwidth\",:style=>Dict{Any,Any}()))], Dict{Symbol,Any}(:className=>\"interact-flex-row-center\")), Node{DOM}(DOM(:html, :div), Any[Node{DOM}(DOM(:html, :p), Any[], Dict{Symbol,Any}(:attributes=>Dict(\"data-bind\"=>\"text: formatted_val\")))], Dict{Symbol,Any}(:className=>\"interact-flex-row-right\"))], Dict{Symbol,Any}(:className=>\"interact-flex-row interact-widget\")), Dict{String,Tuple{Observables.AbstractObservable,Union{Nothing, Bool}}}(\"changes\"=>(Observable{Int64} with 1 listeners. Value:\n",
       "0, nothing),\"index\"=>(Observable{Int64} with 2 listeners. Value:\n",
       "505, nothing)), Set(String[]), nothing, Asset[Asset(\"js\", \"knockout\", \"/home/yalong/.julia/packages/Knockout/1sDlc/src/../assets/knockout.js\"), Asset(\"js\", \"knockout_punches\", \"/home/yalong/.julia/packages/Knockout/1sDlc/src/../assets/knockout_punches.js\"), Asset(\"js\", nothing, \"/home/yalong/.julia/packages/InteractBase/9mFwe/src/../assets/all.js\"), Asset(\"css\", nothing, \"/home/yalong/.julia/packages/InteractBase/9mFwe/src/../assets/style.css\"), Asset(\"css\", nothing, \"/home/yalong/.julia/packages/Interact/SbgIk/src/../assets/bulma_confined.min.css\")], Dict{Any,Any}(\"changes\"=>Any[JSString(\"(function (val){return (val!=this.model[\\\"changes\\\"]()) ? (this.valueFromJulia[\\\"changes\\\"]=true, this.model[\\\"changes\\\"](val)) : undefined})\")],\"index\"=>Any[JSString(\"(function (val){return (val!=this.model[\\\"index\\\"]()) ? (this.valueFromJulia[\\\"index\\\"]=true, this.model[\\\"index\\\"](val)) : undefined})\")]), ConnectionPool(Channel{Any}(sz_max:32,sz_curr:0), Set(AbstractConnection[]), Condition(Any[Task (runnable) @0x00007f0643562a10])), WebIO.JSString[JSString(\"function () {\\n    var handler = (function (ko, koPunches) {\\n    ko.punches.enableAll();\\n    ko.bindingHandlers.numericValue = {\\n        init: function(element, valueAccessor, allBindings, data, context) {\\n            var stringified = ko.observable(ko.unwrap(valueAccessor()));\\n            stringified.subscribe(function(value) {\\n                var val = parseFloat(value);\\n                if (!isNaN(val)) {\\n                    valueAccessor()(val);\\n                }\\n            });\\n            valueAccessor().subscribe(function(value) {\\n                var str = JSON.stringify(value);\\n                if ((str == \\\"0\\\") && ([\\\"-0\\\", \\\"-0.\\\"].indexOf(stringified()) >= 0))\\n                     return;\\n                 if ([\\\"null\\\", \\\"\\\"].indexOf(str) >= 0)\\n                     return;\\n                stringified(str);\\n            });\\n            ko.applyBindingsToNode(\\n                element,\\n                {\\n                    value: stringified,\\n                    valueUpdate: allBindings.get('valueUpdate'),\\n                },\\n                context,\\n            );\\n        }\\n    };\\n    var json_data = {\\\"formatted_vals\\\":[\\\"10\\\",\\\"11\\\",\\\"12\\\",\\\"13\\\",\\\"14\\\",\\\"15\\\",\\\"16\\\",\\\"17\\\",\\\"18\\\",\\\"19\\\",\\\"20\\\",\\\"21\\\",\\\"22\\\",\\\"23\\\",\\\"24\\\",\\\"25\\\",\\\"26\\\",\\\"27\\\",\\\"28\\\",\\\"29\\\",\\\"30\\\",\\\"31\\\",\\\"32\\\",\\\"33\\\",\\\"34\\\",\\\"35\\\",\\\"36\\\",\\\"37\\\",\\\"38\\\",\\\"39\\\",\\\"40\\\",\\\"41\\\",\\\"42\\\",\\\"43\\\",\\\"44\\\",\\\"45\\\",\\\"46\\\",\\\"47\\\",\\\"48\\\",\\\"49\\\",\\\"50\\\",\\\"51\\\",\\\"52\\\",\\\"53\\\",\\\"54\\\",\\\"55\\\",\\\"56\\\",\\\"57\\\",\\\"58\\\",\\\"59\\\",\\\"60\\\",\\\"61\\\",\\\"62\\\",\\\"63\\\",\\\"64\\\",\\\"65\\\",\\\"66\\\",\\\"67\\\",\\\"68\\\",\\\"69\\\",\\\"70\\\",\\\"71\\\",\\\"72\\\",\\\"73\\\",\\\"74\\\",\\\"75\\\",\\\"76\\\",\\\"77\\\",\\\"78\\\",\\\"79\\\",\\\"80\\\",\\\"81\\\",\\\"82\\\",\\\"83\\\",\\\"84\\\",\\\"85\\\",\\\"86\\\",\\\"87\\\",\\\"88\\\",\\\"89\\\",\\\"90\\\",\\\"91\\\",\\\"92\\\",\\\"93\\\",\\\"94\\\",\\\"95\\\",\\\"96\\\",\\\"97\\\",\\\"98\\\",\\\"99\\\",\\\"100\\\",\\\"101\\\",\\\"102\\\",\\\"103\\\",\\\"104\\\",\\\"105\\\",\\\"106\\\",\\\"107\\\",\\\"108\\\",\\\"109\\\",\\\"110\\\",\\\"111\\\",\\\"112\\\",\\\"113\\\",\\\"114\\\",\\\"115\\\",\\\"116\\\",\\\"117\\\",\\\"118\\\",\\\"119\\\",\\\"120\\\",\\\"121\\\",\\\"122\\\",\\\"123\\\",\\\"124\\\",\\\"125\\\",\\\"126\\\",\\\"127\\\",\\\"128\\\",\\\"129\\\",\\\"130\\\",\\\"131\\\",\\\"132\\\",\\\"133\\\",\\\"134\\\",\\\"135\\\",\\\"136\\\",\\\"137\\\",\\\"138\\\",\\\"139\\\",\\\"140\\\",\\\"141\\\",\\\"142\\\",\\\"143\\\",\\\"144\\\",\\\"145\\\",\\\"146\\\",\\\"147\\\",\\\"148\\\",\\\"149\\\",\\\"150\\\",\\\"151\\\",\\\"152\\\",\\\"153\\\",\\\"154\\\",\\\"155\\\",\\\"156\\\",\\\"157\\\",\\\"158\\\",\\\"159\\\",\\\"160\\\",\\\"161\\\",\\\"162\\\",\\\"163\\\",\\\"164\\\",\\\"165\\\",\\\"166\\\",\\\"167\\\",\\\"168\\\",\\\"169\\\",\\\"170\\\",\\\"171\\\",\\\"172\\\",\\\"173\\\",\\\"174\\\",\\\"175\\\",\\\"176\\\",\\\"177\\\",\\\"178\\\",\\\"179\\\",\\\"180\\\",\\\"181\\\",\\\"182\\\",\\\"183\\\",\\\"184\\\",\\\"185\\\",\\\"186\\\",\\\"187\\\",\\\"188\\\",\\\"189\\\",\\\"190\\\",\\\"191\\\",\\\"192\\\",\\\"193\\\",\\\"194\\\",\\\"195\\\",\\\"196\\\",\\\"197\\\",\\\"198\\\",\\\"199\\\",\\\"200\\\",\\\"201\\\",\\\"202\\\",\\\"203\\\",\\\"204\\\",\\\"205\\\",\\\"206\\\",\\\"207\\\",\\\"208\\\",\\\"209\\\",\\\"210\\\",\\\"211\\\",\\\"212\\\",\\\"213\\\",\\\"214\\\",\\\"215\\\",\\\"216\\\",\\\"217\\\",\\\"218\\\",\\\"219\\\",\\\"220\\\",\\\"221\\\",\\\"222\\\",\\\"223\\\",\\\"224\\\",\\\"225\\\",\\\"226\\\",\\\"227\\\",\\\"228\\\",\\\"229\\\",\\\"230\\\",\\\"231\\\",\\\"232\\\",\\\"233\\\",\\\"234\\\",\\\"235\\\",\\\"236\\\",\\\"237\\\",\\\"238\\\",\\\"239\\\",\\\"240\\\",\\\"241\\\",\\\"242\\\",\\\"243\\\",\\\"244\\\",\\\"245\\\",\\\"246\\\",\\\"247\\\",\\\"248\\\",\\\"249\\\",\\\"250\\\",\\\"251\\\",\\\"252\\\",\\\"253\\\",\\\"254\\\",\\\"255\\\",\\\"256\\\",\\\"257\\\",\\\"258\\\",\\\"259\\\",\\\"260\\\",\\\"261\\\",\\\"262\\\",\\\"263\\\",\\\"264\\\",\\\"265\\\",\\\"266\\\",\\\"267\\\",\\\"268\\\",\\\"269\\\",\\\"270\\\",\\\"271\\\",\\\"272\\\",\\\"273\\\",\\\"274\\\",\\\"275\\\",\\\"276\\\",\\\"277\\\",\\\"278\\\",\\\"279\\\",\\\"280\\\",\\\"281\\\",\\\"282\\\",\\\"283\\\",\\\"284\\\",\\\"285\\\",\\\"286\\\",\\\"287\\\",\\\"288\\\",\\\"289\\\",\\\"290\\\",\\\"291\\\",\\\"292\\\",\\\"293\\\",\\\"294\\\",\\\"295\\\",\\\"296\\\",\\\"297\\\",\\\"298\\\",\\\"299\\\",\\\"300\\\",\\\"301\\\",\\\"302\\\",\\\"303\\\",\\\"304\\\",\\\"305\\\",\\\"306\\\",\\\"307\\\",\\\"308\\\",\\\"309\\\",\\\"310\\\",\\\"311\\\",\\\"312\\\",\\\"313\\\",\\\"314\\\",\\\"315\\\",\\\"316\\\",\\\"317\\\",\\\"318\\\",\\\"319\\\",\\\"320\\\",\\\"321\\\",\\\"322\\\",\\\"323\\\",\\\"324\\\",\\\"325\\\",\\\"326\\\",\\\"327\\\",\\\"328\\\",\\\"329\\\",\\\"330\\\",\\\"331\\\",\\\"332\\\",\\\"333\\\",\\\"334\\\",\\\"335\\\",\\\"336\\\",\\\"337\\\",\\\"338\\\",\\\"339\\\",\\\"340\\\",\\\"341\\\",\\\"342\\\",\\\"343\\\",\\\"344\\\",\\\"345\\\",\\\"346\\\",\\\"347\\\",\\\"348\\\",\\\"349\\\",\\\"350\\\",\\\"351\\\",\\\"352\\\",\\\"353\\\",\\\"354\\\",\\\"355\\\",\\\"356\\\",\\\"357\\\",\\\"358\\\",\\\"359\\\",\\\"360\\\",\\\"361\\\",\\\"362\\\",\\\"363\\\",\\\"364\\\",\\\"365\\\",\\\"366\\\",\\\"367\\\",\\\"368\\\",\\\"369\\\",\\\"370\\\",\\\"371\\\",\\\"372\\\",\\\"373\\\",\\\"374\\\",\\\"375\\\",\\\"376\\\",\\\"377\\\",\\\"378\\\",\\\"379\\\",\\\"380\\\",\\\"381\\\",\\\"382\\\",\\\"383\\\",\\\"384\\\",\\\"385\\\",\\\"386\\\",\\\"387\\\",\\\"388\\\",\\\"389\\\",\\\"390\\\",\\\"391\\\",\\\"392\\\",\\\"393\\\",\\\"394\\\",\\\"395\\\",\\\"396\\\",\\\"397\\\",\\\"398\\\",\\\"399\\\",\\\"400\\\",\\\"401\\\",\\\"402\\\",\\\"403\\\",\\\"404\\\",\\\"405\\\",\\\"406\\\",\\\"407\\\",\\\"408\\\",\\\"409\\\",\\\"410\\\",\\\"411\\\",\\\"412\\\",\\\"413\\\",\\\"414\\\",\\\"415\\\",\\\"416\\\",\\\"417\\\",\\\"418\\\",\\\"419\\\",\\\"420\\\",\\\"421\\\",\\\"422\\\",\\\"423\\\",\\\"424\\\",\\\"425\\\",\\\"426\\\",\\\"427\\\",\\\"428\\\",\\\"429\\\",\\\"430\\\",\\\"431\\\",\\\"432\\\",\\\"433\\\",\\\"434\\\",\\\"435\\\",\\\"436\\\",\\\"437\\\",\\\"438\\\",\\\"439\\\",\\\"440\\\",\\\"441\\\",\\\"442\\\",\\\"443\\\",\\\"444\\\",\\\"445\\\",\\\"446\\\",\\\"447\\\",\\\"448\\\",\\\"449\\\",\\\"450\\\",\\\"451\\\",\\\"452\\\",\\\"453\\\",\\\"454\\\",\\\"455\\\",\\\"456\\\",\\\"457\\\",\\\"458\\\",\\\"459\\\",\\\"460\\\",\\\"461\\\",\\\"462\\\",\\\"463\\\",\\\"464\\\",\\\"465\\\",\\\"466\\\",\\\"467\\\",\\\"468\\\",\\\"469\\\",\\\"470\\\",\\\"471\\\",\\\"472\\\",\\\"473\\\",\\\"474\\\",\\\"475\\\",\\\"476\\\",\\\"477\\\",\\\"478\\\",\\\"479\\\",\\\"480\\\",\\\"481\\\",\\\"482\\\",\\\"483\\\",\\\"484\\\",\\\"485\\\",\\\"486\\\",\\\"487\\\",\\\"488\\\",\\\"489\\\",\\\"490\\\",\\\"491\\\",\\\"492\\\",\\\"493\\\",\\\"494\\\",\\\"495\\\",\\\"496\\\",\\\"497\\\",\\\"498\\\",\\\"499\\\",\\\"500\\\",\\\"501\\\",\\\"502\\\",\\\"503\\\",\\\"504\\\",\\\"505\\\",\\\"506\\\",\\\"507\\\",\\\"508\\\",\\\"509\\\",\\\"510\\\",\\\"511\\\",\\\"512\\\",\\\"513\\\",\\\"514\\\",\\\"515\\\",\\\"516\\\",\\\"517\\\",\\\"518\\\",\\\"519\\\",\\\"520\\\",\\\"521\\\",\\\"522\\\",\\\"523\\\",\\\"524\\\",\\\"525\\\",\\\"526\\\",\\\"527\\\",\\\"528\\\",\\\"529\\\",\\\"530\\\",\\\"531\\\",\\\"532\\\",\\\"533\\\",\\\"534\\\",\\\"535\\\",\\\"536\\\",\\\"537\\\",\\\"538\\\",\\\"539\\\",\\\"540\\\",\\\"541\\\",\\\"542\\\",\\\"543\\\",\\\"544\\\",\\\"545\\\",\\\"546\\\",\\\"547\\\",\\\"548\\\",\\\"549\\\",\\\"550\\\",\\\"551\\\",\\\"552\\\",\\\"553\\\",\\\"554\\\",\\\"555\\\",\\\"556\\\",\\\"557\\\",\\\"558\\\",\\\"559\\\",\\\"560\\\",\\\"561\\\",\\\"562\\\",\\\"563\\\",\\\"564\\\",\\\"565\\\",\\\"566\\\",\\\"567\\\",\\\"568\\\",\\\"569\\\",\\\"570\\\",\\\"571\\\",\\\"572\\\",\\\"573\\\",\\\"574\\\",\\\"575\\\",\\\"576\\\",\\\"577\\\",\\\"578\\\",\\\"579\\\",\\\"580\\\",\\\"581\\\",\\\"582\\\",\\\"583\\\",\\\"584\\\",\\\"585\\\",\\\"586\\\",\\\"587\\\",\\\"588\\\",\\\"589\\\",\\\"590\\\",\\\"591\\\",\\\"592\\\",\\\"593\\\",\\\"594\\\",\\\"595\\\",\\\"596\\\",\\\"597\\\",\\\"598\\\",\\\"599\\\",\\\"600\\\",\\\"601\\\",\\\"602\\\",\\\"603\\\",\\\"604\\\",\\\"605\\\",\\\"606\\\",\\\"607\\\",\\\"608\\\",\\\"609\\\",\\\"610\\\",\\\"611\\\",\\\"612\\\",\\\"613\\\",\\\"614\\\",\\\"615\\\",\\\"616\\\",\\\"617\\\",\\\"618\\\",\\\"619\\\",\\\"620\\\",\\\"621\\\",\\\"622\\\",\\\"623\\\",\\\"624\\\",\\\"625\\\",\\\"626\\\",\\\"627\\\",\\\"628\\\",\\\"629\\\",\\\"630\\\",\\\"631\\\",\\\"632\\\",\\\"633\\\",\\\"634\\\",\\\"635\\\",\\\"636\\\",\\\"637\\\",\\\"638\\\",\\\"639\\\",\\\"640\\\",\\\"641\\\",\\\"642\\\",\\\"643\\\",\\\"644\\\",\\\"645\\\",\\\"646\\\",\\\"647\\\",\\\"648\\\",\\\"649\\\",\\\"650\\\",\\\"651\\\",\\\"652\\\",\\\"653\\\",\\\"654\\\",\\\"655\\\",\\\"656\\\",\\\"657\\\",\\\"658\\\",\\\"659\\\",\\\"660\\\",\\\"661\\\",\\\"662\\\",\\\"663\\\",\\\"664\\\",\\\"665\\\",\\\"666\\\",\\\"667\\\",\\\"668\\\",\\\"669\\\",\\\"670\\\",\\\"671\\\",\\\"672\\\",\\\"673\\\",\\\"674\\\",\\\"675\\\",\\\"676\\\",\\\"677\\\",\\\"678\\\",\\\"679\\\",\\\"680\\\",\\\"681\\\",\\\"682\\\",\\\"683\\\",\\\"684\\\",\\\"685\\\",\\\"686\\\",\\\"687\\\",\\\"688\\\",\\\"689\\\",\\\"690\\\",\\\"691\\\",\\\"692\\\",\\\"693\\\",\\\"694\\\",\\\"695\\\",\\\"696\\\",\\\"697\\\",\\\"698\\\",\\\"699\\\",\\\"700\\\",\\\"701\\\",\\\"702\\\",\\\"703\\\",\\\"704\\\",\\\"705\\\",\\\"706\\\",\\\"707\\\",\\\"708\\\",\\\"709\\\",\\\"710\\\",\\\"711\\\",\\\"712\\\",\\\"713\\\",\\\"714\\\",\\\"715\\\",\\\"716\\\",\\\"717\\\",\\\"718\\\",\\\"719\\\",\\\"720\\\",\\\"721\\\",\\\"722\\\",\\\"723\\\",\\\"724\\\",\\\"725\\\",\\\"726\\\",\\\"727\\\",\\\"728\\\",\\\"729\\\",\\\"730\\\",\\\"731\\\",\\\"732\\\",\\\"733\\\",\\\"734\\\",\\\"735\\\",\\\"736\\\",\\\"737\\\",\\\"738\\\",\\\"739\\\",\\\"740\\\",\\\"741\\\",\\\"742\\\",\\\"743\\\",\\\"744\\\",\\\"745\\\",\\\"746\\\",\\\"747\\\",\\\"748\\\",\\\"749\\\",\\\"750\\\",\\\"751\\\",\\\"752\\\",\\\"753\\\",\\\"754\\\",\\\"755\\\",\\\"756\\\",\\\"757\\\",\\\"758\\\",\\\"759\\\",\\\"760\\\",\\\"761\\\",\\\"762\\\",\\\"763\\\",\\\"764\\\",\\\"765\\\",\\\"766\\\",\\\"767\\\",\\\"768\\\",\\\"769\\\",\\\"770\\\",\\\"771\\\",\\\"772\\\",\\\"773\\\",\\\"774\\\",\\\"775\\\",\\\"776\\\",\\\"777\\\",\\\"778\\\",\\\"779\\\",\\\"780\\\",\\\"781\\\",\\\"782\\\",\\\"783\\\",\\\"784\\\",\\\"785\\\",\\\"786\\\",\\\"787\\\",\\\"788\\\",\\\"789\\\",\\\"790\\\",\\\"791\\\",\\\"792\\\",\\\"793\\\",\\\"794\\\",\\\"795\\\",\\\"796\\\",\\\"797\\\",\\\"798\\\",\\\"799\\\",\\\"800\\\",\\\"801\\\",\\\"802\\\",\\\"803\\\",\\\"804\\\",\\\"805\\\",\\\"806\\\",\\\"807\\\",\\\"808\\\",\\\"809\\\",\\\"810\\\",\\\"811\\\",\\\"812\\\",\\\"813\\\",\\\"814\\\",\\\"815\\\",\\\"816\\\",\\\"817\\\",\\\"818\\\",\\\"819\\\",\\\"820\\\",\\\"821\\\",\\\"822\\\",\\\"823\\\",\\\"824\\\",\\\"825\\\",\\\"826\\\",\\\"827\\\",\\\"828\\\",\\\"829\\\",\\\"830\\\",\\\"831\\\",\\\"832\\\",\\\"833\\\",\\\"834\\\",\\\"835\\\",\\\"836\\\",\\\"837\\\",\\\"838\\\",\\\"839\\\",\\\"840\\\",\\\"841\\\",\\\"842\\\",\\\"843\\\",\\\"844\\\",\\\"845\\\",\\\"846\\\",\\\"847\\\",\\\"848\\\",\\\"849\\\",\\\"850\\\",\\\"851\\\",\\\"852\\\",\\\"853\\\",\\\"854\\\",\\\"855\\\",\\\"856\\\",\\\"857\\\",\\\"858\\\",\\\"859\\\",\\\"860\\\",\\\"861\\\",\\\"862\\\",\\\"863\\\",\\\"864\\\",\\\"865\\\",\\\"866\\\",\\\"867\\\",\\\"868\\\",\\\"869\\\",\\\"870\\\",\\\"871\\\",\\\"872\\\",\\\"873\\\",\\\"874\\\",\\\"875\\\",\\\"876\\\",\\\"877\\\",\\\"878\\\",\\\"879\\\",\\\"880\\\",\\\"881\\\",\\\"882\\\",\\\"883\\\",\\\"884\\\",\\\"885\\\",\\\"886\\\",\\\"887\\\",\\\"888\\\",\\\"889\\\",\\\"890\\\",\\\"891\\\",\\\"892\\\",\\\"893\\\",\\\"894\\\",\\\"895\\\",\\\"896\\\",\\\"897\\\",\\\"898\\\",\\\"899\\\",\\\"900\\\",\\\"901\\\",\\\"902\\\",\\\"903\\\",\\\"904\\\",\\\"905\\\",\\\"906\\\",\\\"907\\\",\\\"908\\\",\\\"909\\\",\\\"910\\\",\\\"911\\\",\\\"912\\\",\\\"913\\\",\\\"914\\\",\\\"915\\\",\\\"916\\\",\\\"917\\\",\\\"918\\\",\\\"919\\\",\\\"920\\\",\\\"921\\\",\\\"922\\\",\\\"923\\\",\\\"924\\\",\\\"925\\\",\\\"926\\\",\\\"927\\\",\\\"928\\\",\\\"929\\\",\\\"930\\\",\\\"931\\\",\\\"932\\\",\\\"933\\\",\\\"934\\\",\\\"935\\\",\\\"936\\\",\\\"937\\\",\\\"938\\\",\\\"939\\\",\\\"940\\\",\\\"941\\\",\\\"942\\\",\\\"943\\\",\\\"944\\\",\\\"945\\\",\\\"946\\\",\\\"947\\\",\\\"948\\\",\\\"949\\\",\\\"950\\\",\\\"951\\\",\\\"952\\\",\\\"953\\\",\\\"954\\\",\\\"955\\\",\\\"956\\\",\\\"957\\\",\\\"958\\\",\\\"959\\\",\\\"960\\\",\\\"961\\\",\\\"962\\\",\\\"963\\\",\\\"964\\\",\\\"965\\\",\\\"966\\\",\\\"967\\\",\\\"968\\\",\\\"969\\\",\\\"970\\\",\\\"971\\\",\\\"972\\\",\\\"973\\\",\\\"974\\\",\\\"975\\\",\\\"976\\\",\\\"977\\\",\\\"978\\\",\\\"979\\\",\\\"980\\\",\\\"981\\\",\\\"982\\\",\\\"983\\\",\\\"984\\\",\\\"985\\\",\\\"986\\\",\\\"987\\\",\\\"988\\\",\\\"989\\\",\\\"990\\\",\\\"991\\\",\\\"992\\\",\\\"993\\\",\\\"994\\\",\\\"995\\\",\\\"996\\\",\\\"997\\\",\\\"998\\\",\\\"999\\\",\\\"1000\\\"],\\\"changes\\\":WebIO.getval({\\\"name\\\":\\\"changes\\\",\\\"scope\\\":\\\"2476525296645436800\\\",\\\"id\\\":\\\"ob_02\\\",\\\"type\\\":\\\"observable\\\"}),\\\"index\\\":WebIO.getval({\\\"name\\\":\\\"index\\\",\\\"scope\\\":\\\"2476525296645436800\\\",\\\"id\\\":\\\"ob_01\\\",\\\"type\\\":\\\"observable\\\"})};\\n    var self = this;\\n    function AppViewModel() {\\n        for (var key in json_data) {\\n            var el = json_data[key];\\n            this[key] = Array.isArray(el) ? ko.observableArray(el) : ko.observable(el);\\n        }\\n        \\n        [this[\\\"formatted_val\\\"]=ko.computed(    function(){\\n        return this.formatted_vals()[parseInt(this.index())-(10)];\\n    }\\n,this)]\\n        [this[\\\"changes\\\"].subscribe((function (val){!(this.valueFromJulia[\\\"changes\\\"]) ? (WebIO.setval({\\\"name\\\":\\\"changes\\\",\\\"scope\\\":\\\"2476525296645436800\\\",\\\"id\\\":\\\"ob_02\\\",\\\"type\\\":\\\"observable\\\"},val)) : undefined; return this.valueFromJulia[\\\"changes\\\"]=false}),self),this[\\\"index\\\"].subscribe((function (val){!(this.valueFromJulia[\\\"index\\\"]) ? (WebIO.setval({\\\"name\\\":\\\"index\\\",\\\"scope\\\":\\\"2476525296645436800\\\",\\\"id\\\":\\\"ob_01\\\",\\\"type\\\":\\\"observable\\\"},val)) : undefined; return this.valueFromJulia[\\\"index\\\"]=false}),self)]\\n        \\n    }\\n    self.model = new AppViewModel();\\n    self.valueFromJulia = {};\\n    for (var key in json_data) {\\n        self.valueFromJulia[key] = false;\\n    }\\n    ko.applyBindings(self.model, self.dom);\\n}\\n);\\n    (WebIO.importBlock({\\\"data\\\":[{\\\"name\\\":\\\"knockout\\\",\\\"type\\\":\\\"js\\\",\\\"url\\\":\\\"/assetserver/a640663e3908763889bbe9bde6d9d61565df4a62-knockout.js\\\"},{\\\"name\\\":\\\"knockout_punches\\\",\\\"type\\\":\\\"js\\\",\\\"url\\\":\\\"/assetserver/8fc0b36b5ecb22f13021fb56baafba37abe9dcf2-knockout_punches.js\\\"}],\\\"type\\\":\\\"async_block\\\"})).then((imports) => handler.apply(this, imports));\\n}\\n\")])], Dict{Symbol,Any}(:className=>\"field interact-widget\")), Observable{Any} with 0 listeners. Value:\n",
       "Node{DOM}(DOM(:html, :div), Any[Figure(PyObject <Figure size 640x480 with 1 Axes>)], Dict{Symbol,Any}(:className=>\"interact-flex-row interact-widget\"))], Dict{Symbol,Any}())"
      ]
     },
     "execution_count": 23,
     "metadata": {
      "application/vnd.webio.node+json": {
       "kernelId": "f4fcd31b-8520-4005-afa5-0a0e0f9ac789"
      }
     },
     "output_type": "execute_result"
    }
   ],
   "source": [
    "f = figure()\n",
    "@manipulate for n in 10:1000\n",
    "    withfig(f) do\n",
    "        A = randn(n,n)\n",
    "        λ = eigvals(A)\n",
    "        plot(real(λ), imag(λ), \"b.\")\n",
    "        axis(\"equal\")\n",
    "        xlabel(L\"\\Re \\lambda\")\n",
    "        ylabel(L\"\\Im \\lambda\")\n",
    "    end\n",
    "end"
   ]
  },
  {
   "cell_type": "markdown",
   "metadata": {},
   "source": [
    "## Calling Python\n",
    "\n",
    "Being a young language, Julia doesn't have as many mature libraries and packages as a language like Python.  Fortunately, Julia code can *call Python libraries* directly, with the help of the [PyCall package](https://github.com/JuliaPy/PyCall.jl):"
   ]
  },
  {
   "cell_type": "code",
   "execution_count": 26,
   "metadata": {},
   "outputs": [],
   "source": [
    "using PyCall"
   ]
  },
  {
   "cell_type": "code",
   "execution_count": 32,
   "metadata": {},
   "outputs": [
    {
     "ename": "ErrorException",
     "evalue": "invalid redefinition of constant special",
     "output_type": "error",
     "traceback": [
      "invalid redefinition of constant special",
      "",
      "Stacktrace:",
      " [1] top-level scope at In[32]:1"
     ]
    }
   ],
   "source": [
    "#@pyimport scipy.special as special\n",
    "special = pyimport(\"scipy.special\")"
   ]
  },
  {
   "cell_type": "code",
   "execution_count": 33,
   "metadata": {},
   "outputs": [
    {
     "data": {
      "text/plain": [
       "(0.006591139357460717, -0.011912976705951313, 14.037328963730229, 22.92221496638217)"
      ]
     },
     "execution_count": 33,
     "metadata": {},
     "output_type": "execute_result"
    }
   ],
   "source": [
    "special.airy(3)"
   ]
  },
  {
   "cell_type": "code",
   "execution_count": 34,
   "metadata": {},
   "outputs": [
    {
     "data": {
      "text/plain": [
       "PyObject <module 'scipy.optimize' from '/home/yalong/yalong/software/anaconda3/envs/for-julia/lib/python3.6/site-packages/scipy/optimize/__init__.py'>"
      ]
     },
     "execution_count": 34,
     "metadata": {},
     "output_type": "execute_result"
    }
   ],
   "source": [
    "#@pyimport scipy.optimize as opt\n",
    "opt = pyimport(\"scipy.optimize\")"
   ]
  },
  {
   "cell_type": "code",
   "execution_count": 35,
   "metadata": {},
   "outputs": [
    {
     "data": {
      "text/plain": [
       "0.0"
      ]
     },
     "execution_count": 35,
     "metadata": {},
     "output_type": "execute_result"
    }
   ],
   "source": [
    "opt.newton(cos, 1.4) - pi/2"
   ]
  },
  {
   "cell_type": "code",
   "execution_count": 36,
   "metadata": {},
   "outputs": [
    {
     "data": {
      "text/plain": [
       "0.7390851332151607"
      ]
     },
     "execution_count": 36,
     "metadata": {},
     "output_type": "execute_result"
    }
   ],
   "source": [
    "opt.newton(x -> cos(x) - x, 1.4)"
   ]
  },
  {
   "cell_type": "code",
   "execution_count": null,
   "metadata": {},
   "outputs": [],
   "source": []
  }
 ],
 "metadata": {
  "@webio": {
   "lastCommId": "3088b686b4a14db18a87e5913d4dec7b",
   "lastKernelId": "f4fcd31b-8520-4005-afa5-0a0e0f9ac789"
  },
  "anaconda-cloud": {},
  "kernelspec": {
   "display_name": "Julia 1.0.5",
   "language": "julia",
   "name": "julia-1.0"
  },
  "language_info": {
   "file_extension": ".jl",
   "mimetype": "application/julia",
   "name": "julia",
   "version": "1.0.5"
  },
  "widgets": {
   "state": {
    "2249e52a-4038-4bb7-bb18-32aa5c4ed838": {
     "views": [
      {
       "cell_index": 51
      }
     ]
    }
   },
   "version": "1.2.0"
  }
 },
 "nbformat": 4,
 "nbformat_minor": 1
}
