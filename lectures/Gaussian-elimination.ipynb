{
 "cells": [
  {
   "cell_type": "markdown",
   "metadata": {},
   "source": [
    "# Gaussian elimination\n",
    "\n",
    "This Julia notebook allows us to interactively visualize the process of Gaussian elimination.\n",
    "\n",
    "Recall that the process of [Gaussian elimination](https://en.wikipedia.org/wiki/Gaussian_elimination) involves subtracting rows to turn a matrix $A$ into an [upper triangular matrix](https://en.wikipedia.org/wiki/Triangular_matrix) $U$.  Often we *augment* the matrix with an additional column, representing the right-hand side $b$ of a system of equations $Ax=b$ that we want to solve: by doing the same row operations to both $A$ and $b$, we arrive at an equivalent equation $Ux=c$ that is easy to solve by *backsubstitution* (solving for one variable at a time, working from the last row to the top row).\n",
    "\n",
    "For example, suppose we are solving:\n",
    "\n",
    "$$\n",
    "Ax = \n",
    "\\begin{pmatrix}\n",
    "1 & 3 & 1  \\\\\n",
    "1 & 1 & -1  \\\\\n",
    "3 & 11 & 6 \n",
    "\\end{pmatrix} x = \n",
    "\\begin{pmatrix}\n",
    "9 \\\\\n",
    "1 \\\\\n",
    "35\n",
    "\\end{pmatrix} = b\n",
    "$$\n",
    "\n",
    "We would perform the following elimination process.\n",
    "\n",
    "$$\n",
    "\\left[\\begin{array}{rrr|r}\n",
    "\\boxed{1} & 3 & 1 & 9 \\\\\n",
    "1 & 1 & -1 & 1 \\\\\n",
    "3 & 11 & 6 & 35\n",
    "\\end{array}\\right]\\to\n",
    "\\left[\\begin{array}{rrr|r}\n",
    "\\boxed{1} & 3 & 1 & 9 \\\\\n",
    "0 & \\boxed{-2} & -2 & -8 \\\\\n",
    "0 & 2 & 3 & 8\n",
    "\\end{array}\\right]\\to\n",
    "\\left[\\begin{array}{rrr|r}\n",
    "\\boxed{1} & 3 & 1 & 9 \\\\\n",
    "0 & \\boxed{-2} & -2 & -8 \\\\\n",
    "0 & 0 & \\boxed{1} & 0\n",
    "\\end{array}\\right]\n",
    "$$\n",
    "\n",
    "The boxed values are known as the **pivots**.  Now we do **backsubstitution**, working from the bottom up.  The last row is a single equation in a single unknown:\n",
    "\n",
    "$$\n",
    "1 x_3 = 0 \\implies x_3 = 0 .\n",
    "$$\n",
    "\n",
    "Now that we know $x_3$, the second row gives:\n",
    "\n",
    "$$\n",
    "-2x_2 - 2x_3 = -8 \\implies -2x_2 - 0 = -8 \\implies x_2 = 4 .\n",
    "$$\n",
    "\n",
    "Finally, now that we know $x_2$ and $x_3$, the first row gives:\n",
    "\n",
    "$$\n",
    "1 x_1 + 3 x_2 + 1x_3 = 9 \\implies x_1 + 12 + 0 = 9 \\implies x_1 = -3.\n",
    "$$\n",
    "\n",
    "It is much more fun to let the computer do the arithmetic than to crunch through it ourselves on the blackboard, but usually the computer does things *too* quickly (and it often does some re-ordering of the rows that makes it harder to follow what is going on).  For example, in Julia, we can solve the above system of equations by simply:"
   ]
  },
  {
   "cell_type": "code",
   "execution_count": 1,
   "metadata": {},
   "outputs": [
    {
     "data": {
      "text/plain": [
       "3×3 Array{Int64,2}:\n",
       " 1   3   1\n",
       " 1   1  -1\n",
       " 3  11   6"
      ]
     },
     "execution_count": 1,
     "metadata": {},
     "output_type": "execute_result"
    }
   ],
   "source": [
    "A = [1 3  1\n",
    "     1 1 -1\n",
    "     3 11 6]"
   ]
  },
  {
   "cell_type": "code",
   "execution_count": 2,
   "metadata": {},
   "outputs": [
    {
     "data": {
      "text/plain": [
       "3-element Array{Int64,1}:\n",
       "  9\n",
       "  1\n",
       " 35"
      ]
     },
     "execution_count": 2,
     "metadata": {},
     "output_type": "execute_result"
    }
   ],
   "source": [
    "b = [9, 1, 35]"
   ]
  },
  {
   "cell_type": "code",
   "execution_count": 3,
   "metadata": {},
   "outputs": [
    {
     "data": {
      "text/plain": [
       "3-element Array{Float64,1}:\n",
       " -3.0\n",
       "  4.0\n",
       "  0.0"
      ]
     },
     "execution_count": 3,
     "metadata": {},
     "output_type": "execute_result"
    }
   ],
   "source": [
    "x = A \\ b # solves Ax = b by (essentially) Gaussian elimination"
   ]
  },
  {
   "cell_type": "code",
   "execution_count": 4,
   "metadata": {},
   "outputs": [
    {
     "data": {
      "text/plain": [
       "3-element Array{Float64,1}:\n",
       " -3.0\n",
       "  4.0\n",
       "  0.0"
      ]
     },
     "execution_count": 4,
     "metadata": {},
     "output_type": "execute_result"
    }
   ],
   "source": [
    "inv(A) * b"
   ]
  },
  {
   "cell_type": "markdown",
   "metadata": {},
   "source": [
    "## Row swaps\n",
    "\n",
    "Occasionally, we may encounter a zero in the pivot position.  Sometimes this means that the equations are **singular** (may have no solutions) — we will talk more about this later.  However, as long as there is a nonzero value *below* the pivot, we can fix the problem by **swapping rows** (which just corresponds to re-ordering the equations).\n",
    "\n",
    "For example:\n",
    "\n",
    "\n",
    "$$\n",
    "\\left[\\begin{array}{rrr|r}\n",
    "\\boxed{1} & 3 & 1 & 9 \\\\\n",
    "1 & 3 & -1 & 1 \\\\\n",
    "3 & 11 & 6 & 35\n",
    "\\end{array}\\right]\\to\n",
    "\\left[\\begin{array}{rrr|r}\n",
    "\\boxed{1} & 3 & 1 & 9 \\\\\n",
    "0 & 0 & -2 & -8 \\\\\n",
    "0 & 2 & 3 & 8\n",
    "\\end{array}\\right]\\to\n",
    "\\left[\\begin{array}{rrr|r}\n",
    "\\boxed{1} & 3 & 1 & 9 \\\\\n",
    "0 & \\boxed{2} & 3 & 8 \\\\\n",
    "0 & 0 & \\boxed{-2} & -8\n",
    "\\end{array}\\right]\n",
    "$$\n",
    "\n",
    "where in the second step we swapped the second and third rows to get a nonzero pivot in the second row.\n",
    "\n",
    "At this point we can again solve bottom-up by backsubstitution:\n",
    "\n",
    "$$\n",
    "-2x_3 = 8 \\implies x_3 = 4 \\\\\n",
    "2x_2 + 3x_3 = 8 = 2x_2 + 12 \\implies x_2 = -2 \\\\\n",
    "x_1 + 3x_2 + x_3 = 9 = x_1 -6 + 4 \\implies x_3 = 11\n",
    "$$\n",
    "\n",
    "Of course, the computer can get the answer much more quickly and easily:"
   ]
  },
  {
   "cell_type": "code",
   "execution_count": 5,
   "metadata": {},
   "outputs": [
    {
     "data": {
      "text/plain": [
       "3-element Array{Float64,1}:\n",
       " 11.000000000000005 \n",
       " -2.0000000000000013\n",
       "  4.0               "
      ]
     },
     "execution_count": 5,
     "metadata": {},
     "output_type": "execute_result"
    }
   ],
   "source": [
    "[ 1 3  1\n",
    "  1 3 -1\n",
    "  3 11 6 ] \\\n",
    "[9\n",
    " 1\n",
    " 35]"
   ]
  },
  {
   "cell_type": "markdown",
   "metadata": {},
   "source": [
    "## “Big” matrices on the computer\n",
    "\n",
    "Of course, the computer can solve *much bigger problems* easily.  It can solve 1000 equations in 1000 unknowns in a fraction of a second — nowadays, that is no longer considered a \"big\" system of equations."
   ]
  },
  {
   "cell_type": "code",
   "execution_count": 6,
   "metadata": {},
   "outputs": [
    {
     "data": {
      "text/plain": [
       "1000×1000 Array{Float64,2}:\n",
       " 0.76457    0.122957  0.255515   0.0361668  …  0.95981    0.0696083  0.184065\n",
       " 0.386965   0.646158  0.934072   0.245763      0.260962   0.200258   0.721825\n",
       " 0.38602    0.635202  0.275036   0.878083      0.815185   0.041828   0.602135\n",
       " 0.759628   0.358104  0.951893   0.628476      0.635482   0.987812   0.23159 \n",
       " 0.324241   0.419835  0.797902   0.637351      0.882694   0.409131   0.134021\n",
       " 0.0724809  0.97541   0.506876   0.10026    …  0.927887   0.682221   0.508385\n",
       " 0.719715   0.569813  0.743138   0.298341      0.479067   0.143261   0.595957\n",
       " 0.388556   0.106907  0.196537   0.395602      0.802446   0.934968   0.428008\n",
       " 0.126254   0.675507  0.577563   0.872288      0.764584   0.0705529  0.319882\n",
       " 0.385501   0.355488  0.891727   0.207609      0.823042   0.950785   0.424066\n",
       " 0.495096   0.477885  0.893296   0.781395   …  0.747762   0.389604   0.401232\n",
       " 0.97025    0.662568  0.733188   0.402727      0.65234    0.0174068  0.377744\n",
       " 0.492655   0.14536   0.0965951  0.795142      0.595179   0.0530189  0.846492\n",
       " ⋮                                          ⋱                                \n",
       " 0.340802   0.545091  0.313038   0.169925      0.89039    0.37057    0.807484\n",
       " 0.0479334  0.345496  0.228349   0.0315676     0.376492   0.0700392  0.191142\n",
       " 0.972151   0.324465  0.395451   0.880819   …  0.0421775  0.374577   0.420869\n",
       " 0.398435   0.806864  0.556779   0.802235      0.843944   0.817391   0.419886\n",
       " 0.434259   0.524996  0.885293   0.69191       0.0991392  0.618837   0.688646\n",
       " 0.211762   0.244031  0.0628381  0.341886      0.746456   0.662048   0.7476  \n",
       " 0.248783   0.318108  0.306639   0.36723       0.257191   0.746961   0.938747\n",
       " 0.831391   0.348049  0.750793   0.703152   …  0.404124   0.135735   0.932607\n",
       " 0.333239   0.059921  0.56222    0.0846571     0.584642   0.344329   0.25003 \n",
       " 0.383801   0.554045  0.216468   0.139908      0.93326    0.989494   0.831559\n",
       " 0.369796   0.368596  0.742948   0.943675      0.991199   0.495895   0.39603 \n",
       " 0.863487   0.614319  0.157799   0.292008      0.02907    0.0157305  0.149296"
      ]
     },
     "execution_count": 6,
     "metadata": {},
     "output_type": "execute_result"
    }
   ],
   "source": [
    "Ahuge = rand(1000,1000)"
   ]
  },
  {
   "cell_type": "code",
   "execution_count": 7,
   "metadata": {},
   "outputs": [
    {
     "data": {
      "text/plain": [
       "1000-element Array{Float64,1}:\n",
       " 0.5215597431444032  \n",
       " 0.3973026129695991  \n",
       " 0.28567836771343647 \n",
       " 0.8082355006370372  \n",
       " 0.11171018990707782 \n",
       " 0.9022401452063866  \n",
       " 0.2885874787507181  \n",
       " 0.5697350007626341  \n",
       " 0.1362129113696562  \n",
       " 0.9637839032706625  \n",
       " 0.4229483079815264  \n",
       " 0.6213682826365641  \n",
       " 0.5811825756460538  \n",
       " ⋮                   \n",
       " 0.052888466713490345\n",
       " 0.3498377353513702  \n",
       " 0.7957877589299074  \n",
       " 0.017758233811637103\n",
       " 0.915385588699114   \n",
       " 0.8008109119923597  \n",
       " 0.17956008467658768 \n",
       " 0.4957009591315331  \n",
       " 0.4997142497917042  \n",
       " 0.8218060172695936  \n",
       " 0.6677997334096237  \n",
       " 0.8506296443173114  "
      ]
     },
     "execution_count": 7,
     "metadata": {},
     "output_type": "execute_result"
    }
   ],
   "source": [
    "bhuge = rand(1000)"
   ]
  },
  {
   "cell_type": "code",
   "execution_count": 8,
   "metadata": {},
   "outputs": [
    {
     "data": {
      "text/plain": [
       "1000-element Array{Float64,1}:\n",
       "  16.176477915160312 \n",
       "  -1.6516412346953313\n",
       "   4.173738532617544 \n",
       "  -0.5940819573840812\n",
       "  15.708272529000547 \n",
       "   1.3446636806751762\n",
       "   0.8083648586587259\n",
       " -18.783849269303275 \n",
       "  -3.8914486176988086\n",
       "  14.162756642705476 \n",
       "   2.874586762841173 \n",
       "   3.49945702924105  \n",
       "  -8.513494965475752 \n",
       "   ⋮                 \n",
       "   7.597994949405845 \n",
       "  -7.425860085351695 \n",
       "  18.242732476228507 \n",
       "  -1.7251365547323765\n",
       "  -4.2212040727270566\n",
       "   1.040611597701068 \n",
       "   7.684060685940978 \n",
       "   2.5377019462774695\n",
       "   9.759956297239487 \n",
       "  -4.0554135110460985\n",
       "  13.199885154376615 \n",
       "  11.560200702459092 "
      ]
     },
     "execution_count": 8,
     "metadata": {},
     "output_type": "execute_result"
    }
   ],
   "source": [
    "Ahuge \\ bhuge"
   ]
  },
  {
   "cell_type": "code",
   "execution_count": 11,
   "metadata": {},
   "outputs": [
    {
     "name": "stdout",
     "output_type": "stream",
     "text": [
      "  0.068038 seconds (9 allocations: 7.645 MiB)\n",
      "  0.016291 seconds (9 allocations: 7.645 MiB, 8.48% gc time)\n",
      "  0.025137 seconds (9 allocations: 7.645 MiB)\n"
     ]
    }
   ],
   "source": [
    "@time Ahuge \\ bhuge;\n",
    "@time Ahuge \\ bhuge;\n",
    "@time Ahuge \\ bhuge;"
   ]
  },
  {
   "cell_type": "markdown",
   "metadata": {},
   "source": [
    "If we want to see the matrix $U$ from above, we use the fact (covered soon in 18.06) that Gaussian elimination is really \"LU\" factorization, performed by the function `lufact` in the built-in `LinearAlgebra` package. By default, however, \"serious\" computer implementations of this process automatically re-order the rows to reduce the effect of roundoff errors, so we need to pass an extra option that tells Julia not to do this.  (You should *not* normally do this, except for learning exercises.)"
   ]
  },
  {
   "cell_type": "code",
   "execution_count": 12,
   "metadata": {},
   "outputs": [],
   "source": [
    "using LinearAlgebra"
   ]
  },
  {
   "cell_type": "code",
   "execution_count": 15,
   "metadata": {},
   "outputs": [
    {
     "data": {
      "text/plain": [
       "3×4 Array{Float64,2}:\n",
       " 1.0   3.0   1.0   9.0\n",
       " 0.0  -2.0  -2.0  -8.0\n",
       " 0.0   0.0   1.0   0.0"
      ]
     },
     "execution_count": 15,
     "metadata": {},
     "output_type": "execute_result"
    }
   ],
   "source": [
    "# LU factorization (Gaussian elimination) of the augumented matrix [A b], \n",
    "# passing the somewhat obscure Val(false) option to prevent row re-ordering\n",
    "F = lu([A b], Val(false)) # a \"factorization\" object storing both L and U\n",
    "F.U # just show U"
   ]
  },
  {
   "cell_type": "markdown",
   "metadata": {},
   "source": [
    "However, it would be nice to show the individual steps of this process.  This requires some programming."
   ]
  },
  {
   "cell_type": "markdown",
   "metadata": {},
   "source": [
    "# Code to interactively visualize Gaussian elimination\n",
    "\n",
    "The following is some slightly tricky code that lets us visualize the process of Gaussian elimination in Julia.  It takes advantage of the [Interact](https://github.com/JuliaGizmos/Interact.jl) package in Julia, which allows us to easily create interactive displays using sliders, pushbuttons, and other widgets.\n",
    "\n",
    "Implementing this is **not really a beginner exercise** for new Julia programmers, though it is fairly straightforward for people who are used to Julia.  It involves defining our own type to control display, our own implementation of Gaussian elimination that allows us to stop partway through, and using the Interact package to create interactive widgets.\n",
    "\n",
    "You can skip this part if you aren't ready for the programming details."
   ]
  },
  {
   "cell_type": "code",
   "execution_count": 17,
   "metadata": {},
   "outputs": [
    {
     "data": {
      "text/plain": [
       "naive_gauss"
      ]
     },
     "execution_count": 17,
     "metadata": {},
     "output_type": "execute_result"
    }
   ],
   "source": [
    "\"\"\"\n",
    "    naive_gauss(A, [step])\n",
    "\n",
    "Given a matrix `A`, performs Gaussian elimination to convert\n",
    "`A` into an upper-triangular matrix `U`.\n",
    "\n",
    "This implementation is \"naive\" because it *never re-orders the rows*.\n",
    "(It will obviously fail if a zero pivot is encountered.)\n",
    "\n",
    "If the optional `step` argument is supplied, only performs `step`\n",
    "steps of Gaussian elimination.\n",
    "\n",
    "Returns `(U, row, col, factor)`, where `row` and `col` are the\n",
    "row and column of the last step performed, while `factor`\n",
    "is the last factor multiplying the pivot row.\n",
    "\"\"\"\n",
    "function naive_gauss(A, step=typemax(Int))\n",
    "    m = size(A,1) # number of rows\n",
    "    factor = A[1,1]/A[1,1]\n",
    "    step ≤ 0 && return (A, 1, 1, factor)\n",
    "    U = copyto!(similar(A, typeof(factor)), A)\n",
    "    for j = 1:m   # loop over m columns\n",
    "        for i = j+1:m   # loop over rows below the pivot row j\n",
    "            # subtract a multiple of the pivot row (j)\n",
    "            # from the current row (i) to cancel U[i,j] = Uᵢⱼ:\n",
    "            factor = -U[i,j]/U[j,j]\n",
    "            U[i,:] = U[i,:] + U[j,:] * factor\n",
    "            step -= 1\n",
    "            step ≤ 0 && return (U, i, j, factor)\n",
    "        end\n",
    "    end\n",
    "    return U, m, m, factor\n",
    "end"
   ]
  },
  {
   "cell_type": "code",
   "execution_count": 22,
   "metadata": {},
   "outputs": [
    {
     "data": {
      "text/plain": [
       "visualize_gauss (generic function with 1 method)"
      ]
     },
     "execution_count": 22,
     "metadata": {},
     "output_type": "execute_result"
    }
   ],
   "source": [
    "using Interact\n",
    "\n",
    "# For display, I only want to show 3 decimal places of floating-point values,\n",
    "# but I want to show integers and similar types exactly, so I define a little\n",
    "# function to do this rounding\n",
    "#shorten(x::AbstractFloat) = round(x, 3)\n",
    "shorten(x::AbstractFloat) = round(x)\n",
    "shorten(x) = x # leave non floating-point values as-is\n",
    "\n",
    "# create an interactive widget to visualize the Gaussian-elimination process for the matrix A.\n",
    "function visualize_gauss(A)\n",
    "    m = size(A, 1)\n",
    "    @manipulate for step in slider(1:(m*(m-1))÷2, value=1, label=\"gauss step\")\n",
    "        Uprev, = naive_gauss(A, step-1)\n",
    "        U, row, col, factor = naive_gauss(A, step)\n",
    "        pivot = U[col,col]\n",
    "        vbox(\n",
    "            node(:pre, \"Gaussian elimination for column $col with pivot $pivot: add $(shorten(factor)) * (row $col) to (row $row)\"),\n",
    "            hbox(shorten.(Uprev),\n",
    "                hskip(1em), \"⟶\", hskip(1em),\n",
    "                shorten.(U)\n",
    "            )(alignitems(:center))\n",
    "        )(alignitems(:center))\n",
    "    end\n",
    "end"
   ]
  },
  {
   "cell_type": "markdown",
   "metadata": {},
   "source": [
    "# Gaussian elimination examples\n",
    "\n",
    "Now, let's use this machinery to interact with some examples, starting with our $3 \\times 3$ matrix from above:"
   ]
  },
  {
   "cell_type": "code",
   "execution_count": 23,
   "metadata": {},
   "outputs": [
    {
     "data": {
      "application/vnd.webio.node+json": {
       "children": [
        {
         "children": [
          {
           "children": [
            {
             "children": [
              {
               "children": [
                {
                 "children": [
                  "gauss step"
                 ],
                 "instanceArgs": {
                  "namespace": "html",
                  "tag": "label"
                 },
                 "nodeType": "DOM",
                 "props": {
                  "className": "interact ",
                  "style": {
                   "padding": "5px 10px 0px 10px"
                  }
                 },
                 "type": "node"
                }
               ],
               "instanceArgs": {
                "namespace": "html",
                "tag": "div"
               },
               "nodeType": "DOM",
               "props": {
                "className": "interact-flex-row-left"
               },
               "type": "node"
              },
              {
               "children": [
                {
                 "children": [],
                 "instanceArgs": {
                  "namespace": "html",
                  "tag": "input"
                 },
                 "nodeType": "DOM",
                 "props": {
                  "attributes": {
                   "data-bind": "numericValue: index, valueUpdate: 'input', event: {change: function (){this.changes(this.changes()+1)}}",
                   "orient": "horizontal",
                   "type": "range"
                  },
                  "className": "slider slider is-fullwidth",
                  "max": 3,
                  "min": 1,
                  "step": 1,
                  "style": {}
                 },
                 "type": "node"
                }
               ],
               "instanceArgs": {
                "namespace": "html",
                "tag": "div"
               },
               "nodeType": "DOM",
               "props": {
                "className": "interact-flex-row-center"
               },
               "type": "node"
              },
              {
               "children": [
                {
                 "children": [],
                 "instanceArgs": {
                  "namespace": "html",
                  "tag": "p"
                 },
                 "nodeType": "DOM",
                 "props": {
                  "attributes": {
                   "data-bind": "text: formatted_val"
                  }
                 },
                 "type": "node"
                }
               ],
               "instanceArgs": {
                "namespace": "html",
                "tag": "div"
               },
               "nodeType": "DOM",
               "props": {
                "className": "interact-flex-row-right"
               },
               "type": "node"
              }
             ],
             "instanceArgs": {
              "namespace": "html",
              "tag": "div"
             },
             "nodeType": "DOM",
             "props": {
              "className": "interact-flex-row interact-widget"
             },
             "type": "node"
            }
           ],
           "instanceArgs": {
            "handlers": {
             "changes": [
              "(function (val){return (val!=this.model[\"changes\"]()) ? (this.valueFromJulia[\"changes\"]=true, this.model[\"changes\"](val)) : undefined})"
             ],
             "index": [
              "(function (val){return (val!=this.model[\"index\"]()) ? (this.valueFromJulia[\"index\"]=true, this.model[\"index\"](val)) : undefined})"
             ]
            },
            "id": "3058119574665132753",
            "imports": {
             "data": [
              {
               "name": "knockout",
               "type": "js",
               "url": "/assetserver/a640663e3908763889bbe9bde6d9d61565df4a62-knockout.js"
              },
              {
               "name": "knockout_punches",
               "type": "js",
               "url": "/assetserver/8fc0b36b5ecb22f13021fb56baafba37abe9dcf2-knockout_punches.js"
              },
              {
               "name": null,
               "type": "js",
               "url": "/assetserver/87a645b15dc699eca506abf5a296a5295d5c1bb2-all.js"
              },
              {
               "name": null,
               "type": "css",
               "url": "/assetserver/1ec5ee9823d90485f11267898d87fd061c8884f5-style.css"
              },
              {
               "name": null,
               "type": "css",
               "url": "/assetserver/e5e03f73eee90cc09eab8f0f2b41d76ab5b4a42f-bulma_confined.min.css"
              }
             ],
             "type": "async_block"
            },
            "mount_callbacks": [
             "function () {\n    var handler = (function (ko, koPunches) {\n    ko.punches.enableAll();\n    ko.bindingHandlers.numericValue = {\n        init: function(element, valueAccessor, allBindings, data, context) {\n            var stringified = ko.observable(ko.unwrap(valueAccessor()));\n            stringified.subscribe(function(value) {\n                var val = parseFloat(value);\n                if (!isNaN(val)) {\n                    valueAccessor()(val);\n                }\n            });\n            valueAccessor().subscribe(function(value) {\n                var str = JSON.stringify(value);\n                if ((str == \"0\") && ([\"-0\", \"-0.\"].indexOf(stringified()) >= 0))\n                     return;\n                 if ([\"null\", \"\"].indexOf(str) >= 0)\n                     return;\n                stringified(str);\n            });\n            ko.applyBindingsToNode(\n                element,\n                {\n                    value: stringified,\n                    valueUpdate: allBindings.get('valueUpdate'),\n                },\n                context,\n            );\n        }\n    };\n    var json_data = {\"formatted_vals\":[\"1\",\"2\",\"3\"],\"changes\":WebIO.getval({\"name\":\"changes\",\"scope\":\"3058119574665132753\",\"id\":\"ob_06\",\"type\":\"observable\"}),\"index\":WebIO.getval({\"name\":\"index\",\"scope\":\"3058119574665132753\",\"id\":\"ob_05\",\"type\":\"observable\"})};\n    var self = this;\n    function AppViewModel() {\n        for (var key in json_data) {\n            var el = json_data[key];\n            this[key] = Array.isArray(el) ? ko.observableArray(el) : ko.observable(el);\n        }\n        \n        [this[\"formatted_val\"]=ko.computed(    function(){\n        return this.formatted_vals()[parseInt(this.index())-(1)];\n    }\n,this)]\n        [this[\"changes\"].subscribe((function (val){!(this.valueFromJulia[\"changes\"]) ? (WebIO.setval({\"name\":\"changes\",\"scope\":\"3058119574665132753\",\"id\":\"ob_06\",\"type\":\"observable\"},val)) : undefined; return this.valueFromJulia[\"changes\"]=false}),self),this[\"index\"].subscribe((function (val){!(this.valueFromJulia[\"index\"]) ? (WebIO.setval({\"name\":\"index\",\"scope\":\"3058119574665132753\",\"id\":\"ob_05\",\"type\":\"observable\"},val)) : undefined; return this.valueFromJulia[\"index\"]=false}),self)]\n        \n    }\n    self.model = new AppViewModel();\n    self.valueFromJulia = {};\n    for (var key in json_data) {\n        self.valueFromJulia[key] = false;\n    }\n    ko.applyBindings(self.model, self.dom);\n}\n);\n    (WebIO.importBlock({\"data\":[{\"name\":\"knockout\",\"type\":\"js\",\"url\":\"/assetserver/a640663e3908763889bbe9bde6d9d61565df4a62-knockout.js\"},{\"name\":\"knockout_punches\",\"type\":\"js\",\"url\":\"/assetserver/8fc0b36b5ecb22f13021fb56baafba37abe9dcf2-knockout_punches.js\"}],\"type\":\"async_block\"})).then((imports) => handler.apply(this, imports));\n}\n"
            ],
            "observables": {
             "changes": {
              "id": "ob_06",
              "sync": false,
              "value": 0
             },
             "index": {
              "id": "ob_05",
              "sync": true,
              "value": 1
             }
            },
            "systemjs_options": null
           },
           "nodeType": "Scope",
           "props": {},
           "type": "node"
          }
         ],
         "instanceArgs": {
          "namespace": "html",
          "tag": "div"
         },
         "nodeType": "DOM",
         "props": {
          "className": "field interact-widget"
         },
         "type": "node"
        },
        {
         "children": [
          {
           "children": [],
           "instanceArgs": {
            "id": "ob_12",
            "name": "obs-node"
           },
           "nodeType": "ObservableNode",
           "props": {},
           "type": "node"
          }
         ],
         "instanceArgs": {
          "handlers": {},
          "id": "17680716429091074491",
          "imports": {
           "data": [],
           "type": "async_block"
          },
          "mount_callbacks": [],
          "observables": {
           "obs-node": {
            "id": "ob_12",
            "sync": false,
            "value": {
             "children": [
              {
               "children": [
                {
                 "children": [
                  "Gaussian elimination for column 1 with pivot 1.0: add -1.0 * (row 1) to (row 2)"
                 ],
                 "instanceArgs": {
                  "namespace": "html",
                  "tag": "pre"
                 },
                 "nodeType": "DOM",
                 "props": {},
                 "type": "node"
                },
                {
                 "children": [
                  {
                   "children": [],
                   "instanceArgs": {
                    "namespace": "html",
                    "tag": "div"
                   },
                   "nodeType": "DOM",
                   "props": {
                    "setInnerHtml": "<pre>3×4 Array{Int64,2}:\n 1   3   1   9\n 1   1  -1   1\n 3  11   6  35</pre>"
                   },
                   "type": "node"
                  },
                  {
                   "children": [],
                   "instanceArgs": {
                    "namespace": "html",
                    "tag": "div"
                   },
                   "nodeType": "DOM",
                   "props": {
                    "style": {
                     "height": "0.0px",
                     "width": "1.0em"
                    }
                   },
                   "type": "node"
                  },
                  "⟶",
                  {
                   "children": [],
                   "instanceArgs": {
                    "namespace": "html",
                    "tag": "div"
                   },
                   "nodeType": "DOM",
                   "props": {
                    "style": {
                     "height": "0.0px",
                     "width": "1.0em"
                    }
                   },
                   "type": "node"
                  },
                  {
                   "children": [],
                   "instanceArgs": {
                    "namespace": "html",
                    "tag": "div"
                   },
                   "nodeType": "DOM",
                   "props": {
                    "setInnerHtml": "<pre>3×4 Array{Float64,2}:\n 1.0   3.0   1.0   9.0\n 0.0  -2.0  -2.0  -8.0\n 3.0  11.0   6.0  35.0</pre>"
                   },
                   "type": "node"
                  }
                 ],
                 "instanceArgs": {
                  "namespace": "html",
                  "tag": "div"
                 },
                 "nodeType": "DOM",
                 "props": {
                  "style": {
                   "align-items": "center",
                   "display": "flex",
                   "flex-direction": "row"
                  }
                 },
                 "type": "node"
                }
               ],
               "instanceArgs": {
                "namespace": "html",
                "tag": "div"
               },
               "nodeType": "DOM",
               "props": {
                "style": {
                 "align-items": "center",
                 "display": "flex",
                 "flex-direction": "column"
                }
               },
               "type": "node"
              }
             ],
             "instanceArgs": {
              "namespace": "html",
              "tag": "div"
             },
             "nodeType": "DOM",
             "props": {
              "className": "interact-flex-row interact-widget"
             },
             "type": "node"
            }
           }
          },
          "systemjs_options": null
         },
         "nodeType": "Scope",
         "props": {},
         "type": "node"
        }
       ],
       "instanceArgs": {
        "namespace": "html",
        "tag": "div"
       },
       "nodeType": "DOM",
       "props": {},
       "type": "node"
      },
      "text/html": [
       "<div\n",
       "    class=\"webio-mountpoint\"\n",
       "    data-webio-mountpoint=\"8346519798130563371\"\n",
       ">\n",
       "    <script>\n",
       "    if (window.require && require.defined && require.defined(\"nbextensions/webio-jupyter-notebook\")) {\n",
       "        console.log(\"Jupyter WebIO extension detected, not mounting.\");\n",
       "    } else if (window.WebIO) {\n",
       "        WebIO.mount(\n",
       "            document.querySelector('[data-webio-mountpoint=\"8346519798130563371\"]'),\n",
       "            {\"props\":{},\"nodeType\":\"DOM\",\"type\":\"node\",\"instanceArgs\":{\"namespace\":\"html\",\"tag\":\"div\"},\"children\":[{\"props\":{\"className\":\"field interact-widget\"},\"nodeType\":\"DOM\",\"type\":\"node\",\"instanceArgs\":{\"namespace\":\"html\",\"tag\":\"div\"},\"children\":[{\"props\":{},\"nodeType\":\"Scope\",\"type\":\"node\",\"instanceArgs\":{\"imports\":{\"data\":[{\"name\":\"knockout\",\"type\":\"js\",\"url\":\"\\/assetserver\\/a640663e3908763889bbe9bde6d9d61565df4a62-knockout.js\"},{\"name\":\"knockout_punches\",\"type\":\"js\",\"url\":\"\\/assetserver\\/8fc0b36b5ecb22f13021fb56baafba37abe9dcf2-knockout_punches.js\"},{\"name\":null,\"type\":\"js\",\"url\":\"\\/assetserver\\/87a645b15dc699eca506abf5a296a5295d5c1bb2-all.js\"},{\"name\":null,\"type\":\"css\",\"url\":\"\\/assetserver\\/1ec5ee9823d90485f11267898d87fd061c8884f5-style.css\"},{\"name\":null,\"type\":\"css\",\"url\":\"\\/assetserver\\/e5e03f73eee90cc09eab8f0f2b41d76ab5b4a42f-bulma_confined.min.css\"}],\"type\":\"async_block\"},\"id\":\"3058119574665132753\",\"handlers\":{\"changes\":[\"(function (val){return (val!=this.model[\\\"changes\\\"]()) ? (this.valueFromJulia[\\\"changes\\\"]=true, this.model[\\\"changes\\\"](val)) : undefined})\"],\"index\":[\"(function (val){return (val!=this.model[\\\"index\\\"]()) ? (this.valueFromJulia[\\\"index\\\"]=true, this.model[\\\"index\\\"](val)) : undefined})\"]},\"systemjs_options\":null,\"mount_callbacks\":[\"function () {\\n    var handler = (function (ko, koPunches) {\\n    ko.punches.enableAll();\\n    ko.bindingHandlers.numericValue = {\\n        init: function(element, valueAccessor, allBindings, data, context) {\\n            var stringified = ko.observable(ko.unwrap(valueAccessor()));\\n            stringified.subscribe(function(value) {\\n                var val = parseFloat(value);\\n                if (!isNaN(val)) {\\n                    valueAccessor()(val);\\n                }\\n            });\\n            valueAccessor().subscribe(function(value) {\\n                var str = JSON.stringify(value);\\n                if ((str == \\\"0\\\") && ([\\\"-0\\\", \\\"-0.\\\"].indexOf(stringified()) >= 0))\\n                     return;\\n                 if ([\\\"null\\\", \\\"\\\"].indexOf(str) >= 0)\\n                     return;\\n                stringified(str);\\n            });\\n            ko.applyBindingsToNode(\\n                element,\\n                {\\n                    value: stringified,\\n                    valueUpdate: allBindings.get('valueUpdate'),\\n                },\\n                context,\\n            );\\n        }\\n    };\\n    var json_data = {\\\"formatted_vals\\\":[\\\"1\\\",\\\"2\\\",\\\"3\\\"],\\\"changes\\\":WebIO.getval({\\\"name\\\":\\\"changes\\\",\\\"scope\\\":\\\"3058119574665132753\\\",\\\"id\\\":\\\"ob_06\\\",\\\"type\\\":\\\"observable\\\"}),\\\"index\\\":WebIO.getval({\\\"name\\\":\\\"index\\\",\\\"scope\\\":\\\"3058119574665132753\\\",\\\"id\\\":\\\"ob_05\\\",\\\"type\\\":\\\"observable\\\"})};\\n    var self = this;\\n    function AppViewModel() {\\n        for (var key in json_data) {\\n            var el = json_data[key];\\n            this[key] = Array.isArray(el) ? ko.observableArray(el) : ko.observable(el);\\n        }\\n        \\n        [this[\\\"formatted_val\\\"]=ko.computed(    function(){\\n        return this.formatted_vals()[parseInt(this.index())-(1)];\\n    }\\n,this)]\\n        [this[\\\"changes\\\"].subscribe((function (val){!(this.valueFromJulia[\\\"changes\\\"]) ? (WebIO.setval({\\\"name\\\":\\\"changes\\\",\\\"scope\\\":\\\"3058119574665132753\\\",\\\"id\\\":\\\"ob_06\\\",\\\"type\\\":\\\"observable\\\"},val)) : undefined; return this.valueFromJulia[\\\"changes\\\"]=false}),self),this[\\\"index\\\"].subscribe((function (val){!(this.valueFromJulia[\\\"index\\\"]) ? (WebIO.setval({\\\"name\\\":\\\"index\\\",\\\"scope\\\":\\\"3058119574665132753\\\",\\\"id\\\":\\\"ob_05\\\",\\\"type\\\":\\\"observable\\\"},val)) : undefined; return this.valueFromJulia[\\\"index\\\"]=false}),self)]\\n        \\n    }\\n    self.model = new AppViewModel();\\n    self.valueFromJulia = {};\\n    for (var key in json_data) {\\n        self.valueFromJulia[key] = false;\\n    }\\n    ko.applyBindings(self.model, self.dom);\\n}\\n);\\n    (WebIO.importBlock({\\\"data\\\":[{\\\"name\\\":\\\"knockout\\\",\\\"type\\\":\\\"js\\\",\\\"url\\\":\\\"\\/assetserver\\/a640663e3908763889bbe9bde6d9d61565df4a62-knockout.js\\\"},{\\\"name\\\":\\\"knockout_punches\\\",\\\"type\\\":\\\"js\\\",\\\"url\\\":\\\"\\/assetserver\\/8fc0b36b5ecb22f13021fb56baafba37abe9dcf2-knockout_punches.js\\\"}],\\\"type\\\":\\\"async_block\\\"})).then((imports) => handler.apply(this, imports));\\n}\\n\"],\"observables\":{\"changes\":{\"sync\":false,\"id\":\"ob_06\",\"value\":0},\"index\":{\"sync\":true,\"id\":\"ob_05\",\"value\":1}}},\"children\":[{\"props\":{\"className\":\"interact-flex-row interact-widget\"},\"nodeType\":\"DOM\",\"type\":\"node\",\"instanceArgs\":{\"namespace\":\"html\",\"tag\":\"div\"},\"children\":[{\"props\":{\"className\":\"interact-flex-row-left\"},\"nodeType\":\"DOM\",\"type\":\"node\",\"instanceArgs\":{\"namespace\":\"html\",\"tag\":\"div\"},\"children\":[{\"props\":{\"className\":\"interact \",\"style\":{\"padding\":\"5px 10px 0px 10px\"}},\"nodeType\":\"DOM\",\"type\":\"node\",\"instanceArgs\":{\"namespace\":\"html\",\"tag\":\"label\"},\"children\":[\"gauss step\"]}]},{\"props\":{\"className\":\"interact-flex-row-center\"},\"nodeType\":\"DOM\",\"type\":\"node\",\"instanceArgs\":{\"namespace\":\"html\",\"tag\":\"div\"},\"children\":[{\"props\":{\"max\":3,\"min\":1,\"attributes\":{\"type\":\"range\",\"data-bind\":\"numericValue: index, valueUpdate: 'input', event: {change: function (){this.changes(this.changes()+1)}}\",\"orient\":\"horizontal\"},\"step\":1,\"className\":\"slider slider is-fullwidth\",\"style\":{}},\"nodeType\":\"DOM\",\"type\":\"node\",\"instanceArgs\":{\"namespace\":\"html\",\"tag\":\"input\"},\"children\":[]}]},{\"props\":{\"className\":\"interact-flex-row-right\"},\"nodeType\":\"DOM\",\"type\":\"node\",\"instanceArgs\":{\"namespace\":\"html\",\"tag\":\"div\"},\"children\":[{\"props\":{\"attributes\":{\"data-bind\":\"text: formatted_val\"}},\"nodeType\":\"DOM\",\"type\":\"node\",\"instanceArgs\":{\"namespace\":\"html\",\"tag\":\"p\"},\"children\":[]}]}]}]}]},{\"props\":{},\"nodeType\":\"Scope\",\"type\":\"node\",\"instanceArgs\":{\"imports\":{\"data\":[],\"type\":\"async_block\"},\"id\":\"13759084600259464860\",\"handlers\":{},\"systemjs_options\":null,\"mount_callbacks\":[],\"observables\":{\"obs-node\":{\"sync\":false,\"id\":\"ob_10\",\"value\":{\"props\":{\"className\":\"interact-flex-row interact-widget\"},\"nodeType\":\"DOM\",\"type\":\"node\",\"instanceArgs\":{\"namespace\":\"html\",\"tag\":\"div\"},\"children\":[{\"props\":{\"style\":{\"align-items\":\"center\",\"display\":\"flex\",\"flex-direction\":\"column\"}},\"nodeType\":\"DOM\",\"type\":\"node\",\"instanceArgs\":{\"namespace\":\"html\",\"tag\":\"div\"},\"children\":[{\"props\":{},\"nodeType\":\"DOM\",\"type\":\"node\",\"instanceArgs\":{\"namespace\":\"html\",\"tag\":\"pre\"},\"children\":[\"Gaussian elimination for column 1 with pivot 1.0: add -1.0 * (row 1) to (row 2)\"]},{\"props\":{\"style\":{\"align-items\":\"center\",\"display\":\"flex\",\"flex-direction\":\"row\"}},\"nodeType\":\"DOM\",\"type\":\"node\",\"instanceArgs\":{\"namespace\":\"html\",\"tag\":\"div\"},\"children\":[{\"props\":{\"setInnerHtml\":\"<pre>3×4 Array{Int64,2}:\\n 1   3   1   9\\n 1   1  -1   1\\n 3  11   6  35<\\/pre>\"},\"nodeType\":\"DOM\",\"type\":\"node\",\"instanceArgs\":{\"namespace\":\"html\",\"tag\":\"div\"},\"children\":[]},{\"props\":{\"style\":{\"height\":\"0.0px\",\"width\":\"1.0em\"}},\"nodeType\":\"DOM\",\"type\":\"node\",\"instanceArgs\":{\"namespace\":\"html\",\"tag\":\"div\"},\"children\":[]},\"⟶\",{\"props\":{\"style\":{\"height\":\"0.0px\",\"width\":\"1.0em\"}},\"nodeType\":\"DOM\",\"type\":\"node\",\"instanceArgs\":{\"namespace\":\"html\",\"tag\":\"div\"},\"children\":[]},{\"props\":{\"setInnerHtml\":\"<pre>3×4 Array{Float64,2}:\\n 1.0   3.0   1.0   9.0\\n 0.0  -2.0  -2.0  -8.0\\n 3.0  11.0   6.0  35.0<\\/pre>\"},\"nodeType\":\"DOM\",\"type\":\"node\",\"instanceArgs\":{\"namespace\":\"html\",\"tag\":\"div\"},\"children\":[]}]}]}]}}}},\"children\":[{\"props\":{},\"nodeType\":\"ObservableNode\",\"type\":\"node\",\"instanceArgs\":{\"id\":\"ob_10\",\"name\":\"obs-node\"},\"children\":[]}]}]},\n",
       "            window,\n",
       "        );\n",
       "    } else {\n",
       "        document\n",
       "            .querySelector('[data-webio-mountpoint=\"8346519798130563371\"]')\n",
       "            .innerHTML = (\n",
       "                '<strong>WebIO not detected. Please read ' +\n",
       "                '<a href=\"https://juliagizmos.github.io/WebIO.jl/latest/troubleshooting/not-detected/\">the troubleshooting guide</a> ' +\n",
       "                'for more information on how to resolve this issue.' +\n",
       "                '</strong>'\n",
       "            );\n",
       "    }\n",
       "    </script>\n",
       "</div>\n"
      ],
      "text/plain": [
       "Node{WebIO.DOM}(WebIO.DOM(:html, :div), Any[Node{DOM}(DOM(:html, :div), Any[Scope(Node{DOM}(DOM(:html, :div), Any[Node{DOM}(DOM(:html, :div), Any[Node{DOM}(DOM(:html, :label), Any[\"gauss step\"], Dict{Symbol,Any}(:className=>\"interact \",:style=>Dict{Any,Any}(:padding=>\"5px 10px 0px 10px\")))], Dict{Symbol,Any}(:className=>\"interact-flex-row-left\")), Node{DOM}(DOM(:html, :div), Any[Node{DOM}(DOM(:html, :input), Any[], Dict{Symbol,Any}(:max=>3,:min=>1,:attributes=>Dict{Any,Any}(:type=>\"range\",Symbol(\"data-bind\")=>\"numericValue: index, valueUpdate: 'input', event: {change: function (){this.changes(this.changes()+1)}}\",\"orient\"=>\"horizontal\"),:step=>1,:className=>\"slider slider is-fullwidth\",:style=>Dict{Any,Any}()))], Dict{Symbol,Any}(:className=>\"interact-flex-row-center\")), Node{DOM}(DOM(:html, :div), Any[Node{DOM}(DOM(:html, :p), Any[], Dict{Symbol,Any}(:attributes=>Dict(\"data-bind\"=>\"text: formatted_val\")))], Dict{Symbol,Any}(:className=>\"interact-flex-row-right\"))], Dict{Symbol,Any}(:className=>\"interact-flex-row interact-widget\")), Dict{String,Tuple{Observables.AbstractObservable,Union{Nothing, Bool}}}(\"changes\"=>(Observable{Int64} with 1 listeners. Value:\n",
       "0, nothing),\"index\"=>(Observable{Int64} with 2 listeners. Value:\n",
       "1, nothing)), Set(String[]), nothing, Asset[Asset(\"js\", \"knockout\", \"/home/yalong/.julia/packages/Knockout/1sDlc/src/../assets/knockout.js\"), Asset(\"js\", \"knockout_punches\", \"/home/yalong/.julia/packages/Knockout/1sDlc/src/../assets/knockout_punches.js\"), Asset(\"js\", nothing, \"/home/yalong/.julia/packages/InteractBase/9mFwe/src/../assets/all.js\"), Asset(\"css\", nothing, \"/home/yalong/.julia/packages/InteractBase/9mFwe/src/../assets/style.css\"), Asset(\"css\", nothing, \"/home/yalong/.julia/packages/Interact/SbgIk/src/../assets/bulma_confined.min.css\")], Dict{Any,Any}(\"changes\"=>Any[JSString(\"(function (val){return (val!=this.model[\\\"changes\\\"]()) ? (this.valueFromJulia[\\\"changes\\\"]=true, this.model[\\\"changes\\\"](val)) : undefined})\")],\"index\"=>Any[JSString(\"(function (val){return (val!=this.model[\\\"index\\\"]()) ? (this.valueFromJulia[\\\"index\\\"]=true, this.model[\\\"index\\\"](val)) : undefined})\")]), ConnectionPool(Channel{Any}(sz_max:32,sz_curr:0), Set(AbstractConnection[]), Condition(Any[Task (runnable) @0x00007fc7840af730])), WebIO.JSString[JSString(\"function () {\\n    var handler = (function (ko, koPunches) {\\n    ko.punches.enableAll();\\n    ko.bindingHandlers.numericValue = {\\n        init: function(element, valueAccessor, allBindings, data, context) {\\n            var stringified = ko.observable(ko.unwrap(valueAccessor()));\\n            stringified.subscribe(function(value) {\\n                var val = parseFloat(value);\\n                if (!isNaN(val)) {\\n                    valueAccessor()(val);\\n                }\\n            });\\n            valueAccessor().subscribe(function(value) {\\n                var str = JSON.stringify(value);\\n                if ((str == \\\"0\\\") && ([\\\"-0\\\", \\\"-0.\\\"].indexOf(stringified()) >= 0))\\n                     return;\\n                 if ([\\\"null\\\", \\\"\\\"].indexOf(str) >= 0)\\n                     return;\\n                stringified(str);\\n            });\\n            ko.applyBindingsToNode(\\n                element,\\n                {\\n                    value: stringified,\\n                    valueUpdate: allBindings.get('valueUpdate'),\\n                },\\n                context,\\n            );\\n        }\\n    };\\n    var json_data = {\\\"formatted_vals\\\":[\\\"1\\\",\\\"2\\\",\\\"3\\\"],\\\"changes\\\":WebIO.getval({\\\"name\\\":\\\"changes\\\",\\\"scope\\\":\\\"3058119574665132753\\\",\\\"id\\\":\\\"ob_06\\\",\\\"type\\\":\\\"observable\\\"}),\\\"index\\\":WebIO.getval({\\\"name\\\":\\\"index\\\",\\\"scope\\\":\\\"3058119574665132753\\\",\\\"id\\\":\\\"ob_05\\\",\\\"type\\\":\\\"observable\\\"})};\\n    var self = this;\\n    function AppViewModel() {\\n        for (var key in json_data) {\\n            var el = json_data[key];\\n            this[key] = Array.isArray(el) ? ko.observableArray(el) : ko.observable(el);\\n        }\\n        \\n        [this[\\\"formatted_val\\\"]=ko.computed(    function(){\\n        return this.formatted_vals()[parseInt(this.index())-(1)];\\n    }\\n,this)]\\n        [this[\\\"changes\\\"].subscribe((function (val){!(this.valueFromJulia[\\\"changes\\\"]) ? (WebIO.setval({\\\"name\\\":\\\"changes\\\",\\\"scope\\\":\\\"3058119574665132753\\\",\\\"id\\\":\\\"ob_06\\\",\\\"type\\\":\\\"observable\\\"},val)) : undefined; return this.valueFromJulia[\\\"changes\\\"]=false}),self),this[\\\"index\\\"].subscribe((function (val){!(this.valueFromJulia[\\\"index\\\"]) ? (WebIO.setval({\\\"name\\\":\\\"index\\\",\\\"scope\\\":\\\"3058119574665132753\\\",\\\"id\\\":\\\"ob_05\\\",\\\"type\\\":\\\"observable\\\"},val)) : undefined; return this.valueFromJulia[\\\"index\\\"]=false}),self)]\\n        \\n    }\\n    self.model = new AppViewModel();\\n    self.valueFromJulia = {};\\n    for (var key in json_data) {\\n        self.valueFromJulia[key] = false;\\n    }\\n    ko.applyBindings(self.model, self.dom);\\n}\\n);\\n    (WebIO.importBlock({\\\"data\\\":[{\\\"name\\\":\\\"knockout\\\",\\\"type\\\":\\\"js\\\",\\\"url\\\":\\\"/assetserver/a640663e3908763889bbe9bde6d9d61565df4a62-knockout.js\\\"},{\\\"name\\\":\\\"knockout_punches\\\",\\\"type\\\":\\\"js\\\",\\\"url\\\":\\\"/assetserver/8fc0b36b5ecb22f13021fb56baafba37abe9dcf2-knockout_punches.js\\\"}],\\\"type\\\":\\\"async_block\\\"})).then((imports) => handler.apply(this, imports));\\n}\\n\")])], Dict{Symbol,Any}(:className=>\"field interact-widget\")), Observable{Any} with 0 listeners. Value:\n",
       "Node{DOM}(DOM(:html, :div), Any[Node{DOM}(DOM(:html, :div), Any[Node{DOM}(DOM(:html, :pre), Any[\"Gaussian elimination for column 1 with pivot 1.0: add -1.0 * (row 1) to (row 2)\"], Dict{Symbol,Any}()), Node{DOM}(DOM(:html, :div), Any[Node{DOM}(DOM(:html, :div), Any[], Dict{Symbol,Any}(:setInnerHtml=>\"<pre>3×4 Array{Int64,2}:\\n 1   3   1   9\\n 1   1  -1   1\\n 3  11   6  35</pre>\")), Node{DOM}(DOM(:html, :div), Any[], Dict{Symbol,Any}(:style=>Dict{String,Measures.Length{U,Float64} where U}(\"height\"=>0.0px,\"width\"=>1.0em))), \"⟶\", Node{DOM}(DOM(:html, :div), Any[], Dict{Symbol,Any}(:style=>Dict{String,Measures.Length{U,Float64} where U}(\"height\"=>0.0px,\"width\"=>1.0em))), Node{DOM}(DOM(:html, :div), Any[], Dict{Symbol,Any}(:setInnerHtml=>\"<pre>3×4 Array{Float64,2}:\\n 1.0   3.0   1.0   9.0\\n 0.0  -2.0  -2.0  -8.0\\n 3.0  11.0   6.0  35.0</pre>\"))], Dict{Symbol,Any}(:style=>Dict{Any,Any}(\"align-items\"=>:center,\"display\"=>\"flex\",\"flex-direction\"=>\"row\")))], Dict{Symbol,Any}(:style=>Dict{Any,Any}(\"align-items\"=>:center,\"display\"=>\"flex\",\"flex-direction\"=>\"column\")))], Dict{Symbol,Any}(:className=>\"interact-flex-row interact-widget\"))], Dict{Symbol,Any}())"
      ]
     },
     "execution_count": 23,
     "metadata": {
      "application/vnd.webio.node+json": {
       "kernelId": null
      }
     },
     "output_type": "execute_result"
    }
   ],
   "source": [
    "visualize_gauss([A b])"
   ]
  },
  {
   "cell_type": "code",
   "execution_count": 24,
   "metadata": {},
   "outputs": [
    {
     "data": {
      "application/vnd.webio.node+json": {
       "children": [
        {
         "children": [
          {
           "children": [
            {
             "children": [
              {
               "children": [
                {
                 "children": [
                  "gauss step"
                 ],
                 "instanceArgs": {
                  "namespace": "html",
                  "tag": "label"
                 },
                 "nodeType": "DOM",
                 "props": {
                  "className": "interact ",
                  "style": {
                   "padding": "5px 10px 0px 10px"
                  }
                 },
                 "type": "node"
                }
               ],
               "instanceArgs": {
                "namespace": "html",
                "tag": "div"
               },
               "nodeType": "DOM",
               "props": {
                "className": "interact-flex-row-left"
               },
               "type": "node"
              },
              {
               "children": [
                {
                 "children": [],
                 "instanceArgs": {
                  "namespace": "html",
                  "tag": "input"
                 },
                 "nodeType": "DOM",
                 "props": {
                  "attributes": {
                   "data-bind": "numericValue: index, valueUpdate: 'input', event: {change: function (){this.changes(this.changes()+1)}}",
                   "orient": "horizontal",
                   "type": "range"
                  },
                  "className": "slider slider is-fullwidth",
                  "max": 10,
                  "min": 1,
                  "step": 1,
                  "style": {}
                 },
                 "type": "node"
                }
               ],
               "instanceArgs": {
                "namespace": "html",
                "tag": "div"
               },
               "nodeType": "DOM",
               "props": {
                "className": "interact-flex-row-center"
               },
               "type": "node"
              },
              {
               "children": [
                {
                 "children": [],
                 "instanceArgs": {
                  "namespace": "html",
                  "tag": "p"
                 },
                 "nodeType": "DOM",
                 "props": {
                  "attributes": {
                   "data-bind": "text: formatted_val"
                  }
                 },
                 "type": "node"
                }
               ],
               "instanceArgs": {
                "namespace": "html",
                "tag": "div"
               },
               "nodeType": "DOM",
               "props": {
                "className": "interact-flex-row-right"
               },
               "type": "node"
              }
             ],
             "instanceArgs": {
              "namespace": "html",
              "tag": "div"
             },
             "nodeType": "DOM",
             "props": {
              "className": "interact-flex-row interact-widget"
             },
             "type": "node"
            }
           ],
           "instanceArgs": {
            "handlers": {
             "changes": [
              "(function (val){return (val!=this.model[\"changes\"]()) ? (this.valueFromJulia[\"changes\"]=true, this.model[\"changes\"](val)) : undefined})"
             ],
             "index": [
              "(function (val){return (val!=this.model[\"index\"]()) ? (this.valueFromJulia[\"index\"]=true, this.model[\"index\"](val)) : undefined})"
             ]
            },
            "id": "6050632389162910040",
            "imports": {
             "data": [
              {
               "name": "knockout",
               "type": "js",
               "url": "/assetserver/a640663e3908763889bbe9bde6d9d61565df4a62-knockout.js"
              },
              {
               "name": "knockout_punches",
               "type": "js",
               "url": "/assetserver/8fc0b36b5ecb22f13021fb56baafba37abe9dcf2-knockout_punches.js"
              },
              {
               "name": null,
               "type": "js",
               "url": "/assetserver/87a645b15dc699eca506abf5a296a5295d5c1bb2-all.js"
              },
              {
               "name": null,
               "type": "css",
               "url": "/assetserver/1ec5ee9823d90485f11267898d87fd061c8884f5-style.css"
              },
              {
               "name": null,
               "type": "css",
               "url": "/assetserver/e5e03f73eee90cc09eab8f0f2b41d76ab5b4a42f-bulma_confined.min.css"
              }
             ],
             "type": "async_block"
            },
            "mount_callbacks": [
             "function () {\n    var handler = (function (ko, koPunches) {\n    ko.punches.enableAll();\n    ko.bindingHandlers.numericValue = {\n        init: function(element, valueAccessor, allBindings, data, context) {\n            var stringified = ko.observable(ko.unwrap(valueAccessor()));\n            stringified.subscribe(function(value) {\n                var val = parseFloat(value);\n                if (!isNaN(val)) {\n                    valueAccessor()(val);\n                }\n            });\n            valueAccessor().subscribe(function(value) {\n                var str = JSON.stringify(value);\n                if ((str == \"0\") && ([\"-0\", \"-0.\"].indexOf(stringified()) >= 0))\n                     return;\n                 if ([\"null\", \"\"].indexOf(str) >= 0)\n                     return;\n                stringified(str);\n            });\n            ko.applyBindingsToNode(\n                element,\n                {\n                    value: stringified,\n                    valueUpdate: allBindings.get('valueUpdate'),\n                },\n                context,\n            );\n        }\n    };\n    var json_data = {\"formatted_vals\":[\"1\",\"2\",\"3\",\"4\",\"5\",\"6\",\"7\",\"8\",\"9\",\"10\"],\"changes\":WebIO.getval({\"name\":\"changes\",\"scope\":\"6050632389162910040\",\"id\":\"ob_14\",\"type\":\"observable\"}),\"index\":WebIO.getval({\"name\":\"index\",\"scope\":\"6050632389162910040\",\"id\":\"ob_13\",\"type\":\"observable\"})};\n    var self = this;\n    function AppViewModel() {\n        for (var key in json_data) {\n            var el = json_data[key];\n            this[key] = Array.isArray(el) ? ko.observableArray(el) : ko.observable(el);\n        }\n        \n        [this[\"formatted_val\"]=ko.computed(    function(){\n        return this.formatted_vals()[parseInt(this.index())-(1)];\n    }\n,this)]\n        [this[\"changes\"].subscribe((function (val){!(this.valueFromJulia[\"changes\"]) ? (WebIO.setval({\"name\":\"changes\",\"scope\":\"6050632389162910040\",\"id\":\"ob_14\",\"type\":\"observable\"},val)) : undefined; return this.valueFromJulia[\"changes\"]=false}),self),this[\"index\"].subscribe((function (val){!(this.valueFromJulia[\"index\"]) ? (WebIO.setval({\"name\":\"index\",\"scope\":\"6050632389162910040\",\"id\":\"ob_13\",\"type\":\"observable\"},val)) : undefined; return this.valueFromJulia[\"index\"]=false}),self)]\n        \n    }\n    self.model = new AppViewModel();\n    self.valueFromJulia = {};\n    for (var key in json_data) {\n        self.valueFromJulia[key] = false;\n    }\n    ko.applyBindings(self.model, self.dom);\n}\n);\n    (WebIO.importBlock({\"data\":[{\"name\":\"knockout\",\"type\":\"js\",\"url\":\"/assetserver/a640663e3908763889bbe9bde6d9d61565df4a62-knockout.js\"},{\"name\":\"knockout_punches\",\"type\":\"js\",\"url\":\"/assetserver/8fc0b36b5ecb22f13021fb56baafba37abe9dcf2-knockout_punches.js\"}],\"type\":\"async_block\"})).then((imports) => handler.apply(this, imports));\n}\n"
            ],
            "observables": {
             "changes": {
              "id": "ob_14",
              "sync": false,
              "value": 0
             },
             "index": {
              "id": "ob_13",
              "sync": true,
              "value": 1
             }
            },
            "systemjs_options": null
           },
           "nodeType": "Scope",
           "props": {},
           "type": "node"
          }
         ],
         "instanceArgs": {
          "namespace": "html",
          "tag": "div"
         },
         "nodeType": "DOM",
         "props": {
          "className": "field interact-widget"
         },
         "type": "node"
        },
        {
         "children": [
          {
           "children": [],
           "instanceArgs": {
            "id": "ob_20",
            "name": "obs-node"
           },
           "nodeType": "ObservableNode",
           "props": {},
           "type": "node"
          }
         ],
         "instanceArgs": {
          "handlers": {},
          "id": "1996135843426138368",
          "imports": {
           "data": [],
           "type": "async_block"
          },
          "mount_callbacks": [],
          "observables": {
           "obs-node": {
            "id": "ob_20",
            "sync": false,
            "value": {
             "children": [
              {
               "children": [
                {
                 "children": [
                  "Gaussian elimination for column 1 with pivot 8.0: add 1.0 * (row 1) to (row 2)"
                 ],
                 "instanceArgs": {
                  "namespace": "html",
                  "tag": "pre"
                 },
                 "nodeType": "DOM",
                 "props": {},
                 "type": "node"
                },
                {
                 "children": [
                  {
                   "children": [],
                   "instanceArgs": {
                    "namespace": "html",
                    "tag": "div"
                   },
                   "nodeType": "DOM",
                   "props": {
                    "setInnerHtml": "<pre>5×5 Array{Int64,2}:\n  8  -8   5  -5   8\n -6   0   4  -2   6\n -5  -4   2  -1  -6\n -1  -1   8   6  -5\n  9   0  -5   8  -6</pre>"
                   },
                   "type": "node"
                  },
                  {
                   "children": [],
                   "instanceArgs": {
                    "namespace": "html",
                    "tag": "div"
                   },
                   "nodeType": "DOM",
                   "props": {
                    "style": {
                     "height": "0.0px",
                     "width": "1.0em"
                    }
                   },
                   "type": "node"
                  },
                  "⟶",
                  {
                   "children": [],
                   "instanceArgs": {
                    "namespace": "html",
                    "tag": "div"
                   },
                   "nodeType": "DOM",
                   "props": {
                    "style": {
                     "height": "0.0px",
                     "width": "1.0em"
                    }
                   },
                   "type": "node"
                  },
                  {
                   "children": [],
                   "instanceArgs": {
                    "namespace": "html",
                    "tag": "div"
                   },
                   "nodeType": "DOM",
                   "props": {
                    "setInnerHtml": "<pre>5×5 Array{Float64,2}:\n  8.0  -8.0   5.0  -5.0   8.0\n  0.0  -6.0   8.0  -6.0  12.0\n -5.0  -4.0   2.0  -1.0  -6.0\n -1.0  -1.0   8.0   6.0  -5.0\n  9.0   0.0  -5.0   8.0  -6.0</pre>"
                   },
                   "type": "node"
                  }
                 ],
                 "instanceArgs": {
                  "namespace": "html",
                  "tag": "div"
                 },
                 "nodeType": "DOM",
                 "props": {
                  "style": {
                   "align-items": "center",
                   "display": "flex",
                   "flex-direction": "row"
                  }
                 },
                 "type": "node"
                }
               ],
               "instanceArgs": {
                "namespace": "html",
                "tag": "div"
               },
               "nodeType": "DOM",
               "props": {
                "style": {
                 "align-items": "center",
                 "display": "flex",
                 "flex-direction": "column"
                }
               },
               "type": "node"
              }
             ],
             "instanceArgs": {
              "namespace": "html",
              "tag": "div"
             },
             "nodeType": "DOM",
             "props": {
              "className": "interact-flex-row interact-widget"
             },
             "type": "node"
            }
           }
          },
          "systemjs_options": null
         },
         "nodeType": "Scope",
         "props": {},
         "type": "node"
        }
       ],
       "instanceArgs": {
        "namespace": "html",
        "tag": "div"
       },
       "nodeType": "DOM",
       "props": {},
       "type": "node"
      },
      "text/html": [
       "<div\n",
       "    class=\"webio-mountpoint\"\n",
       "    data-webio-mountpoint=\"6237661873965801324\"\n",
       ">\n",
       "    <script>\n",
       "    if (window.require && require.defined && require.defined(\"nbextensions/webio-jupyter-notebook\")) {\n",
       "        console.log(\"Jupyter WebIO extension detected, not mounting.\");\n",
       "    } else if (window.WebIO) {\n",
       "        WebIO.mount(\n",
       "            document.querySelector('[data-webio-mountpoint=\"6237661873965801324\"]'),\n",
       "            {\"props\":{},\"nodeType\":\"DOM\",\"type\":\"node\",\"instanceArgs\":{\"namespace\":\"html\",\"tag\":\"div\"},\"children\":[{\"props\":{\"className\":\"field interact-widget\"},\"nodeType\":\"DOM\",\"type\":\"node\",\"instanceArgs\":{\"namespace\":\"html\",\"tag\":\"div\"},\"children\":[{\"props\":{},\"nodeType\":\"Scope\",\"type\":\"node\",\"instanceArgs\":{\"imports\":{\"data\":[{\"name\":\"knockout\",\"type\":\"js\",\"url\":\"\\/assetserver\\/a640663e3908763889bbe9bde6d9d61565df4a62-knockout.js\"},{\"name\":\"knockout_punches\",\"type\":\"js\",\"url\":\"\\/assetserver\\/8fc0b36b5ecb22f13021fb56baafba37abe9dcf2-knockout_punches.js\"},{\"name\":null,\"type\":\"js\",\"url\":\"\\/assetserver\\/87a645b15dc699eca506abf5a296a5295d5c1bb2-all.js\"},{\"name\":null,\"type\":\"css\",\"url\":\"\\/assetserver\\/1ec5ee9823d90485f11267898d87fd061c8884f5-style.css\"},{\"name\":null,\"type\":\"css\",\"url\":\"\\/assetserver\\/e5e03f73eee90cc09eab8f0f2b41d76ab5b4a42f-bulma_confined.min.css\"}],\"type\":\"async_block\"},\"id\":\"6050632389162910040\",\"handlers\":{\"changes\":[\"(function (val){return (val!=this.model[\\\"changes\\\"]()) ? (this.valueFromJulia[\\\"changes\\\"]=true, this.model[\\\"changes\\\"](val)) : undefined})\"],\"index\":[\"(function (val){return (val!=this.model[\\\"index\\\"]()) ? (this.valueFromJulia[\\\"index\\\"]=true, this.model[\\\"index\\\"](val)) : undefined})\"]},\"systemjs_options\":null,\"mount_callbacks\":[\"function () {\\n    var handler = (function (ko, koPunches) {\\n    ko.punches.enableAll();\\n    ko.bindingHandlers.numericValue = {\\n        init: function(element, valueAccessor, allBindings, data, context) {\\n            var stringified = ko.observable(ko.unwrap(valueAccessor()));\\n            stringified.subscribe(function(value) {\\n                var val = parseFloat(value);\\n                if (!isNaN(val)) {\\n                    valueAccessor()(val);\\n                }\\n            });\\n            valueAccessor().subscribe(function(value) {\\n                var str = JSON.stringify(value);\\n                if ((str == \\\"0\\\") && ([\\\"-0\\\", \\\"-0.\\\"].indexOf(stringified()) >= 0))\\n                     return;\\n                 if ([\\\"null\\\", \\\"\\\"].indexOf(str) >= 0)\\n                     return;\\n                stringified(str);\\n            });\\n            ko.applyBindingsToNode(\\n                element,\\n                {\\n                    value: stringified,\\n                    valueUpdate: allBindings.get('valueUpdate'),\\n                },\\n                context,\\n            );\\n        }\\n    };\\n    var json_data = {\\\"formatted_vals\\\":[\\\"1\\\",\\\"2\\\",\\\"3\\\",\\\"4\\\",\\\"5\\\",\\\"6\\\",\\\"7\\\",\\\"8\\\",\\\"9\\\",\\\"10\\\"],\\\"changes\\\":WebIO.getval({\\\"name\\\":\\\"changes\\\",\\\"scope\\\":\\\"6050632389162910040\\\",\\\"id\\\":\\\"ob_14\\\",\\\"type\\\":\\\"observable\\\"}),\\\"index\\\":WebIO.getval({\\\"name\\\":\\\"index\\\",\\\"scope\\\":\\\"6050632389162910040\\\",\\\"id\\\":\\\"ob_13\\\",\\\"type\\\":\\\"observable\\\"})};\\n    var self = this;\\n    function AppViewModel() {\\n        for (var key in json_data) {\\n            var el = json_data[key];\\n            this[key] = Array.isArray(el) ? ko.observableArray(el) : ko.observable(el);\\n        }\\n        \\n        [this[\\\"formatted_val\\\"]=ko.computed(    function(){\\n        return this.formatted_vals()[parseInt(this.index())-(1)];\\n    }\\n,this)]\\n        [this[\\\"changes\\\"].subscribe((function (val){!(this.valueFromJulia[\\\"changes\\\"]) ? (WebIO.setval({\\\"name\\\":\\\"changes\\\",\\\"scope\\\":\\\"6050632389162910040\\\",\\\"id\\\":\\\"ob_14\\\",\\\"type\\\":\\\"observable\\\"},val)) : undefined; return this.valueFromJulia[\\\"changes\\\"]=false}),self),this[\\\"index\\\"].subscribe((function (val){!(this.valueFromJulia[\\\"index\\\"]) ? (WebIO.setval({\\\"name\\\":\\\"index\\\",\\\"scope\\\":\\\"6050632389162910040\\\",\\\"id\\\":\\\"ob_13\\\",\\\"type\\\":\\\"observable\\\"},val)) : undefined; return this.valueFromJulia[\\\"index\\\"]=false}),self)]\\n        \\n    }\\n    self.model = new AppViewModel();\\n    self.valueFromJulia = {};\\n    for (var key in json_data) {\\n        self.valueFromJulia[key] = false;\\n    }\\n    ko.applyBindings(self.model, self.dom);\\n}\\n);\\n    (WebIO.importBlock({\\\"data\\\":[{\\\"name\\\":\\\"knockout\\\",\\\"type\\\":\\\"js\\\",\\\"url\\\":\\\"\\/assetserver\\/a640663e3908763889bbe9bde6d9d61565df4a62-knockout.js\\\"},{\\\"name\\\":\\\"knockout_punches\\\",\\\"type\\\":\\\"js\\\",\\\"url\\\":\\\"\\/assetserver\\/8fc0b36b5ecb22f13021fb56baafba37abe9dcf2-knockout_punches.js\\\"}],\\\"type\\\":\\\"async_block\\\"})).then((imports) => handler.apply(this, imports));\\n}\\n\"],\"observables\":{\"changes\":{\"sync\":false,\"id\":\"ob_14\",\"value\":0},\"index\":{\"sync\":true,\"id\":\"ob_13\",\"value\":1}}},\"children\":[{\"props\":{\"className\":\"interact-flex-row interact-widget\"},\"nodeType\":\"DOM\",\"type\":\"node\",\"instanceArgs\":{\"namespace\":\"html\",\"tag\":\"div\"},\"children\":[{\"props\":{\"className\":\"interact-flex-row-left\"},\"nodeType\":\"DOM\",\"type\":\"node\",\"instanceArgs\":{\"namespace\":\"html\",\"tag\":\"div\"},\"children\":[{\"props\":{\"className\":\"interact \",\"style\":{\"padding\":\"5px 10px 0px 10px\"}},\"nodeType\":\"DOM\",\"type\":\"node\",\"instanceArgs\":{\"namespace\":\"html\",\"tag\":\"label\"},\"children\":[\"gauss step\"]}]},{\"props\":{\"className\":\"interact-flex-row-center\"},\"nodeType\":\"DOM\",\"type\":\"node\",\"instanceArgs\":{\"namespace\":\"html\",\"tag\":\"div\"},\"children\":[{\"props\":{\"max\":10,\"min\":1,\"attributes\":{\"type\":\"range\",\"data-bind\":\"numericValue: index, valueUpdate: 'input', event: {change: function (){this.changes(this.changes()+1)}}\",\"orient\":\"horizontal\"},\"step\":1,\"className\":\"slider slider is-fullwidth\",\"style\":{}},\"nodeType\":\"DOM\",\"type\":\"node\",\"instanceArgs\":{\"namespace\":\"html\",\"tag\":\"input\"},\"children\":[]}]},{\"props\":{\"className\":\"interact-flex-row-right\"},\"nodeType\":\"DOM\",\"type\":\"node\",\"instanceArgs\":{\"namespace\":\"html\",\"tag\":\"div\"},\"children\":[{\"props\":{\"attributes\":{\"data-bind\":\"text: formatted_val\"}},\"nodeType\":\"DOM\",\"type\":\"node\",\"instanceArgs\":{\"namespace\":\"html\",\"tag\":\"p\"},\"children\":[]}]}]}]}]},{\"props\":{},\"nodeType\":\"Scope\",\"type\":\"node\",\"instanceArgs\":{\"imports\":{\"data\":[],\"type\":\"async_block\"},\"id\":\"15991818275426044611\",\"handlers\":{},\"systemjs_options\":null,\"mount_callbacks\":[],\"observables\":{\"obs-node\":{\"sync\":false,\"id\":\"ob_18\",\"value\":{\"props\":{\"className\":\"interact-flex-row interact-widget\"},\"nodeType\":\"DOM\",\"type\":\"node\",\"instanceArgs\":{\"namespace\":\"html\",\"tag\":\"div\"},\"children\":[{\"props\":{\"style\":{\"align-items\":\"center\",\"display\":\"flex\",\"flex-direction\":\"column\"}},\"nodeType\":\"DOM\",\"type\":\"node\",\"instanceArgs\":{\"namespace\":\"html\",\"tag\":\"div\"},\"children\":[{\"props\":{},\"nodeType\":\"DOM\",\"type\":\"node\",\"instanceArgs\":{\"namespace\":\"html\",\"tag\":\"pre\"},\"children\":[\"Gaussian elimination for column 1 with pivot 8.0: add 1.0 * (row 1) to (row 2)\"]},{\"props\":{\"style\":{\"align-items\":\"center\",\"display\":\"flex\",\"flex-direction\":\"row\"}},\"nodeType\":\"DOM\",\"type\":\"node\",\"instanceArgs\":{\"namespace\":\"html\",\"tag\":\"div\"},\"children\":[{\"props\":{\"setInnerHtml\":\"<pre>5×5 Array{Int64,2}:\\n  8  -8   5  -5   8\\n -6   0   4  -2   6\\n -5  -4   2  -1  -6\\n -1  -1   8   6  -5\\n  9   0  -5   8  -6<\\/pre>\"},\"nodeType\":\"DOM\",\"type\":\"node\",\"instanceArgs\":{\"namespace\":\"html\",\"tag\":\"div\"},\"children\":[]},{\"props\":{\"style\":{\"height\":\"0.0px\",\"width\":\"1.0em\"}},\"nodeType\":\"DOM\",\"type\":\"node\",\"instanceArgs\":{\"namespace\":\"html\",\"tag\":\"div\"},\"children\":[]},\"⟶\",{\"props\":{\"style\":{\"height\":\"0.0px\",\"width\":\"1.0em\"}},\"nodeType\":\"DOM\",\"type\":\"node\",\"instanceArgs\":{\"namespace\":\"html\",\"tag\":\"div\"},\"children\":[]},{\"props\":{\"setInnerHtml\":\"<pre>5×5 Array{Float64,2}:\\n  8.0  -8.0   5.0  -5.0   8.0\\n  0.0  -6.0   8.0  -6.0  12.0\\n -5.0  -4.0   2.0  -1.0  -6.0\\n -1.0  -1.0   8.0   6.0  -5.0\\n  9.0   0.0  -5.0   8.0  -6.0<\\/pre>\"},\"nodeType\":\"DOM\",\"type\":\"node\",\"instanceArgs\":{\"namespace\":\"html\",\"tag\":\"div\"},\"children\":[]}]}]}]}}}},\"children\":[{\"props\":{},\"nodeType\":\"ObservableNode\",\"type\":\"node\",\"instanceArgs\":{\"id\":\"ob_18\",\"name\":\"obs-node\"},\"children\":[]}]}]},\n",
       "            window,\n",
       "        );\n",
       "    } else {\n",
       "        document\n",
       "            .querySelector('[data-webio-mountpoint=\"6237661873965801324\"]')\n",
       "            .innerHTML = (\n",
       "                '<strong>WebIO not detected. Please read ' +\n",
       "                '<a href=\"https://juliagizmos.github.io/WebIO.jl/latest/troubleshooting/not-detected/\">the troubleshooting guide</a> ' +\n",
       "                'for more information on how to resolve this issue.' +\n",
       "                '</strong>'\n",
       "            );\n",
       "    }\n",
       "    </script>\n",
       "</div>\n"
      ],
      "text/plain": [
       "Node{WebIO.DOM}(WebIO.DOM(:html, :div), Any[Node{DOM}(DOM(:html, :div), Any[Scope(Node{DOM}(DOM(:html, :div), Any[Node{DOM}(DOM(:html, :div), Any[Node{DOM}(DOM(:html, :label), Any[\"gauss step\"], Dict{Symbol,Any}(:className=>\"interact \",:style=>Dict{Any,Any}(:padding=>\"5px 10px 0px 10px\")))], Dict{Symbol,Any}(:className=>\"interact-flex-row-left\")), Node{DOM}(DOM(:html, :div), Any[Node{DOM}(DOM(:html, :input), Any[], Dict{Symbol,Any}(:max=>10,:min=>1,:attributes=>Dict{Any,Any}(:type=>\"range\",Symbol(\"data-bind\")=>\"numericValue: index, valueUpdate: 'input', event: {change: function (){this.changes(this.changes()+1)}}\",\"orient\"=>\"horizontal\"),:step=>1,:className=>\"slider slider is-fullwidth\",:style=>Dict{Any,Any}()))], Dict{Symbol,Any}(:className=>\"interact-flex-row-center\")), Node{DOM}(DOM(:html, :div), Any[Node{DOM}(DOM(:html, :p), Any[], Dict{Symbol,Any}(:attributes=>Dict(\"data-bind\"=>\"text: formatted_val\")))], Dict{Symbol,Any}(:className=>\"interact-flex-row-right\"))], Dict{Symbol,Any}(:className=>\"interact-flex-row interact-widget\")), Dict{String,Tuple{Observables.AbstractObservable,Union{Nothing, Bool}}}(\"changes\"=>(Observable{Int64} with 1 listeners. Value:\n",
       "0, nothing),\"index\"=>(Observable{Int64} with 2 listeners. Value:\n",
       "1, nothing)), Set(String[]), nothing, Asset[Asset(\"js\", \"knockout\", \"/home/yalong/.julia/packages/Knockout/1sDlc/src/../assets/knockout.js\"), Asset(\"js\", \"knockout_punches\", \"/home/yalong/.julia/packages/Knockout/1sDlc/src/../assets/knockout_punches.js\"), Asset(\"js\", nothing, \"/home/yalong/.julia/packages/InteractBase/9mFwe/src/../assets/all.js\"), Asset(\"css\", nothing, \"/home/yalong/.julia/packages/InteractBase/9mFwe/src/../assets/style.css\"), Asset(\"css\", nothing, \"/home/yalong/.julia/packages/Interact/SbgIk/src/../assets/bulma_confined.min.css\")], Dict{Any,Any}(\"changes\"=>Any[JSString(\"(function (val){return (val!=this.model[\\\"changes\\\"]()) ? (this.valueFromJulia[\\\"changes\\\"]=true, this.model[\\\"changes\\\"](val)) : undefined})\")],\"index\"=>Any[JSString(\"(function (val){return (val!=this.model[\\\"index\\\"]()) ? (this.valueFromJulia[\\\"index\\\"]=true, this.model[\\\"index\\\"](val)) : undefined})\")]), ConnectionPool(Channel{Any}(sz_max:32,sz_curr:0), Set(AbstractConnection[]), Condition(Any[Task (runnable) @0x00007fc7840a42b0])), WebIO.JSString[JSString(\"function () {\\n    var handler = (function (ko, koPunches) {\\n    ko.punches.enableAll();\\n    ko.bindingHandlers.numericValue = {\\n        init: function(element, valueAccessor, allBindings, data, context) {\\n            var stringified = ko.observable(ko.unwrap(valueAccessor()));\\n            stringified.subscribe(function(value) {\\n                var val = parseFloat(value);\\n                if (!isNaN(val)) {\\n                    valueAccessor()(val);\\n                }\\n            });\\n            valueAccessor().subscribe(function(value) {\\n                var str = JSON.stringify(value);\\n                if ((str == \\\"0\\\") && ([\\\"-0\\\", \\\"-0.\\\"].indexOf(stringified()) >= 0))\\n                     return;\\n                 if ([\\\"null\\\", \\\"\\\"].indexOf(str) >= 0)\\n                     return;\\n                stringified(str);\\n            });\\n            ko.applyBindingsToNode(\\n                element,\\n                {\\n                    value: stringified,\\n                    valueUpdate: allBindings.get('valueUpdate'),\\n                },\\n                context,\\n            );\\n        }\\n    };\\n    var json_data = {\\\"formatted_vals\\\":[\\\"1\\\",\\\"2\\\",\\\"3\\\",\\\"4\\\",\\\"5\\\",\\\"6\\\",\\\"7\\\",\\\"8\\\",\\\"9\\\",\\\"10\\\"],\\\"changes\\\":WebIO.getval({\\\"name\\\":\\\"changes\\\",\\\"scope\\\":\\\"6050632389162910040\\\",\\\"id\\\":\\\"ob_14\\\",\\\"type\\\":\\\"observable\\\"}),\\\"index\\\":WebIO.getval({\\\"name\\\":\\\"index\\\",\\\"scope\\\":\\\"6050632389162910040\\\",\\\"id\\\":\\\"ob_13\\\",\\\"type\\\":\\\"observable\\\"})};\\n    var self = this;\\n    function AppViewModel() {\\n        for (var key in json_data) {\\n            var el = json_data[key];\\n            this[key] = Array.isArray(el) ? ko.observableArray(el) : ko.observable(el);\\n        }\\n        \\n        [this[\\\"formatted_val\\\"]=ko.computed(    function(){\\n        return this.formatted_vals()[parseInt(this.index())-(1)];\\n    }\\n,this)]\\n        [this[\\\"changes\\\"].subscribe((function (val){!(this.valueFromJulia[\\\"changes\\\"]) ? (WebIO.setval({\\\"name\\\":\\\"changes\\\",\\\"scope\\\":\\\"6050632389162910040\\\",\\\"id\\\":\\\"ob_14\\\",\\\"type\\\":\\\"observable\\\"},val)) : undefined; return this.valueFromJulia[\\\"changes\\\"]=false}),self),this[\\\"index\\\"].subscribe((function (val){!(this.valueFromJulia[\\\"index\\\"]) ? (WebIO.setval({\\\"name\\\":\\\"index\\\",\\\"scope\\\":\\\"6050632389162910040\\\",\\\"id\\\":\\\"ob_13\\\",\\\"type\\\":\\\"observable\\\"},val)) : undefined; return this.valueFromJulia[\\\"index\\\"]=false}),self)]\\n        \\n    }\\n    self.model = new AppViewModel();\\n    self.valueFromJulia = {};\\n    for (var key in json_data) {\\n        self.valueFromJulia[key] = false;\\n    }\\n    ko.applyBindings(self.model, self.dom);\\n}\\n);\\n    (WebIO.importBlock({\\\"data\\\":[{\\\"name\\\":\\\"knockout\\\",\\\"type\\\":\\\"js\\\",\\\"url\\\":\\\"/assetserver/a640663e3908763889bbe9bde6d9d61565df4a62-knockout.js\\\"},{\\\"name\\\":\\\"knockout_punches\\\",\\\"type\\\":\\\"js\\\",\\\"url\\\":\\\"/assetserver/8fc0b36b5ecb22f13021fb56baafba37abe9dcf2-knockout_punches.js\\\"}],\\\"type\\\":\\\"async_block\\\"})).then((imports) => handler.apply(this, imports));\\n}\\n\")])], Dict{Symbol,Any}(:className=>\"field interact-widget\")), Observable{Any} with 0 listeners. Value:\n",
       "Node{DOM}(DOM(:html, :div), Any[Node{DOM}(DOM(:html, :div), Any[Node{DOM}(DOM(:html, :pre), Any[\"Gaussian elimination for column 1 with pivot 8.0: add 1.0 * (row 1) to (row 2)\"], Dict{Symbol,Any}()), Node{DOM}(DOM(:html, :div), Any[Node{DOM}(DOM(:html, :div), Any[], Dict{Symbol,Any}(:setInnerHtml=>\"<pre>5×5 Array{Int64,2}:\\n  8  -8   5  -5   8\\n -6   0   4  -2   6\\n -5  -4   2  -1  -6\\n -1  -1   8   6  -5\\n  9   0  -5   8  -6</pre>\")), Node{DOM}(DOM(:html, :div), Any[], Dict{Symbol,Any}(:style=>Dict{String,Measures.Length{U,Float64} where U}(\"height\"=>0.0px,\"width\"=>1.0em))), \"⟶\", Node{DOM}(DOM(:html, :div), Any[], Dict{Symbol,Any}(:style=>Dict{String,Measures.Length{U,Float64} where U}(\"height\"=>0.0px,\"width\"=>1.0em))), Node{DOM}(DOM(:html, :div), Any[], Dict{Symbol,Any}(:setInnerHtml=>\"<pre>5×5 Array{Float64,2}:\\n  8.0  -8.0   5.0  -5.0   8.0\\n  0.0  -6.0   8.0  -6.0  12.0\\n -5.0  -4.0   2.0  -1.0  -6.0\\n -1.0  -1.0   8.0   6.0  -5.0\\n  9.0   0.0  -5.0   8.0  -6.0</pre>\"))], Dict{Symbol,Any}(:style=>Dict{Any,Any}(\"align-items\"=>:center,\"display\"=>\"flex\",\"flex-direction\"=>\"row\")))], Dict{Symbol,Any}(:style=>Dict{Any,Any}(\"align-items\"=>:center,\"display\"=>\"flex\",\"flex-direction\"=>\"column\")))], Dict{Symbol,Any}(:className=>\"interact-flex-row interact-widget\"))], Dict{Symbol,Any}())"
      ]
     },
     "execution_count": 24,
     "metadata": {
      "application/vnd.webio.node+json": {
       "kernelId": null
      }
     },
     "output_type": "execute_result"
    }
   ],
   "source": [
    "visualize_gauss(rand(-9:9,5,5))"
   ]
  },
  {
   "cell_type": "markdown",
   "metadata": {},
   "source": [
    "Of course, because we are not re-ordering the rows, this process can go horribly wrong, most obviously if a zero pivot is encountered:"
   ]
  },
  {
   "cell_type": "code",
   "execution_count": 25,
   "metadata": {},
   "outputs": [
    {
     "data": {
      "application/vnd.webio.node+json": {
       "children": [
        {
         "children": [
          {
           "children": [
            {
             "children": [
              {
               "children": [
                {
                 "children": [
                  "gauss step"
                 ],
                 "instanceArgs": {
                  "namespace": "html",
                  "tag": "label"
                 },
                 "nodeType": "DOM",
                 "props": {
                  "className": "interact ",
                  "style": {
                   "padding": "5px 10px 0px 10px"
                  }
                 },
                 "type": "node"
                }
               ],
               "instanceArgs": {
                "namespace": "html",
                "tag": "div"
               },
               "nodeType": "DOM",
               "props": {
                "className": "interact-flex-row-left"
               },
               "type": "node"
              },
              {
               "children": [
                {
                 "children": [],
                 "instanceArgs": {
                  "namespace": "html",
                  "tag": "input"
                 },
                 "nodeType": "DOM",
                 "props": {
                  "attributes": {
                   "data-bind": "numericValue: index, valueUpdate: 'input', event: {change: function (){this.changes(this.changes()+1)}}",
                   "orient": "horizontal",
                   "type": "range"
                  },
                  "className": "slider slider is-fullwidth",
                  "max": 10,
                  "min": 1,
                  "step": 1,
                  "style": {}
                 },
                 "type": "node"
                }
               ],
               "instanceArgs": {
                "namespace": "html",
                "tag": "div"
               },
               "nodeType": "DOM",
               "props": {
                "className": "interact-flex-row-center"
               },
               "type": "node"
              },
              {
               "children": [
                {
                 "children": [],
                 "instanceArgs": {
                  "namespace": "html",
                  "tag": "p"
                 },
                 "nodeType": "DOM",
                 "props": {
                  "attributes": {
                   "data-bind": "text: formatted_val"
                  }
                 },
                 "type": "node"
                }
               ],
               "instanceArgs": {
                "namespace": "html",
                "tag": "div"
               },
               "nodeType": "DOM",
               "props": {
                "className": "interact-flex-row-right"
               },
               "type": "node"
              }
             ],
             "instanceArgs": {
              "namespace": "html",
              "tag": "div"
             },
             "nodeType": "DOM",
             "props": {
              "className": "interact-flex-row interact-widget"
             },
             "type": "node"
            }
           ],
           "instanceArgs": {
            "handlers": {
             "changes": [
              "(function (val){return (val!=this.model[\"changes\"]()) ? (this.valueFromJulia[\"changes\"]=true, this.model[\"changes\"](val)) : undefined})"
             ],
             "index": [
              "(function (val){return (val!=this.model[\"index\"]()) ? (this.valueFromJulia[\"index\"]=true, this.model[\"index\"](val)) : undefined})"
             ]
            },
            "id": "2078874233468034911",
            "imports": {
             "data": [
              {
               "name": "knockout",
               "type": "js",
               "url": "/assetserver/a640663e3908763889bbe9bde6d9d61565df4a62-knockout.js"
              },
              {
               "name": "knockout_punches",
               "type": "js",
               "url": "/assetserver/8fc0b36b5ecb22f13021fb56baafba37abe9dcf2-knockout_punches.js"
              },
              {
               "name": null,
               "type": "js",
               "url": "/assetserver/87a645b15dc699eca506abf5a296a5295d5c1bb2-all.js"
              },
              {
               "name": null,
               "type": "css",
               "url": "/assetserver/1ec5ee9823d90485f11267898d87fd061c8884f5-style.css"
              },
              {
               "name": null,
               "type": "css",
               "url": "/assetserver/e5e03f73eee90cc09eab8f0f2b41d76ab5b4a42f-bulma_confined.min.css"
              }
             ],
             "type": "async_block"
            },
            "mount_callbacks": [
             "function () {\n    var handler = (function (ko, koPunches) {\n    ko.punches.enableAll();\n    ko.bindingHandlers.numericValue = {\n        init: function(element, valueAccessor, allBindings, data, context) {\n            var stringified = ko.observable(ko.unwrap(valueAccessor()));\n            stringified.subscribe(function(value) {\n                var val = parseFloat(value);\n                if (!isNaN(val)) {\n                    valueAccessor()(val);\n                }\n            });\n            valueAccessor().subscribe(function(value) {\n                var str = JSON.stringify(value);\n                if ((str == \"0\") && ([\"-0\", \"-0.\"].indexOf(stringified()) >= 0))\n                     return;\n                 if ([\"null\", \"\"].indexOf(str) >= 0)\n                     return;\n                stringified(str);\n            });\n            ko.applyBindingsToNode(\n                element,\n                {\n                    value: stringified,\n                    valueUpdate: allBindings.get('valueUpdate'),\n                },\n                context,\n            );\n        }\n    };\n    var json_data = {\"formatted_vals\":[\"1\",\"2\",\"3\",\"4\",\"5\",\"6\",\"7\",\"8\",\"9\",\"10\"],\"changes\":WebIO.getval({\"name\":\"changes\",\"scope\":\"2078874233468034911\",\"id\":\"ob_22\",\"type\":\"observable\"}),\"index\":WebIO.getval({\"name\":\"index\",\"scope\":\"2078874233468034911\",\"id\":\"ob_21\",\"type\":\"observable\"})};\n    var self = this;\n    function AppViewModel() {\n        for (var key in json_data) {\n            var el = json_data[key];\n            this[key] = Array.isArray(el) ? ko.observableArray(el) : ko.observable(el);\n        }\n        \n        [this[\"formatted_val\"]=ko.computed(    function(){\n        return this.formatted_vals()[parseInt(this.index())-(1)];\n    }\n,this)]\n        [this[\"changes\"].subscribe((function (val){!(this.valueFromJulia[\"changes\"]) ? (WebIO.setval({\"name\":\"changes\",\"scope\":\"2078874233468034911\",\"id\":\"ob_22\",\"type\":\"observable\"},val)) : undefined; return this.valueFromJulia[\"changes\"]=false}),self),this[\"index\"].subscribe((function (val){!(this.valueFromJulia[\"index\"]) ? (WebIO.setval({\"name\":\"index\",\"scope\":\"2078874233468034911\",\"id\":\"ob_21\",\"type\":\"observable\"},val)) : undefined; return this.valueFromJulia[\"index\"]=false}),self)]\n        \n    }\n    self.model = new AppViewModel();\n    self.valueFromJulia = {};\n    for (var key in json_data) {\n        self.valueFromJulia[key] = false;\n    }\n    ko.applyBindings(self.model, self.dom);\n}\n);\n    (WebIO.importBlock({\"data\":[{\"name\":\"knockout\",\"type\":\"js\",\"url\":\"/assetserver/a640663e3908763889bbe9bde6d9d61565df4a62-knockout.js\"},{\"name\":\"knockout_punches\",\"type\":\"js\",\"url\":\"/assetserver/8fc0b36b5ecb22f13021fb56baafba37abe9dcf2-knockout_punches.js\"}],\"type\":\"async_block\"})).then((imports) => handler.apply(this, imports));\n}\n"
            ],
            "observables": {
             "changes": {
              "id": "ob_22",
              "sync": false,
              "value": 0
             },
             "index": {
              "id": "ob_21",
              "sync": true,
              "value": 1
             }
            },
            "systemjs_options": null
           },
           "nodeType": "Scope",
           "props": {},
           "type": "node"
          }
         ],
         "instanceArgs": {
          "namespace": "html",
          "tag": "div"
         },
         "nodeType": "DOM",
         "props": {
          "className": "field interact-widget"
         },
         "type": "node"
        },
        {
         "children": [
          {
           "children": [],
           "instanceArgs": {
            "id": "ob_28",
            "name": "obs-node"
           },
           "nodeType": "ObservableNode",
           "props": {},
           "type": "node"
          }
         ],
         "instanceArgs": {
          "handlers": {},
          "id": "6620963210220033910",
          "imports": {
           "data": [],
           "type": "async_block"
          },
          "mount_callbacks": [],
          "observables": {
           "obs-node": {
            "id": "ob_28",
            "sync": false,
            "value": {
             "children": [
              {
               "children": [
                {
                 "children": [
                  "Gaussian elimination for column 1 with pivot -3.0: add 1.0 * (row 1) to (row 2)"
                 ],
                 "instanceArgs": {
                  "namespace": "html",
                  "tag": "pre"
                 },
                 "nodeType": "DOM",
                 "props": {},
                 "type": "node"
                },
                {
                 "children": [
                  {
                   "children": [],
                   "instanceArgs": {
                    "namespace": "html",
                    "tag": "div"
                   },
                   "nodeType": "DOM",
                   "props": {
                    "setInnerHtml": "<pre>5×5 Array{Int64,2}:\n -3   5   5   3  -7\n  3  -5   8  -8  -6\n  8   2   8   2  -8\n -6  -2   6   4  -8\n -8   4  -6  -1   8</pre>"
                   },
                   "type": "node"
                  },
                  {
                   "children": [],
                   "instanceArgs": {
                    "namespace": "html",
                    "tag": "div"
                   },
                   "nodeType": "DOM",
                   "props": {
                    "style": {
                     "height": "0.0px",
                     "width": "1.0em"
                    }
                   },
                   "type": "node"
                  },
                  "⟶",
                  {
                   "children": [],
                   "instanceArgs": {
                    "namespace": "html",
                    "tag": "div"
                   },
                   "nodeType": "DOM",
                   "props": {
                    "style": {
                     "height": "0.0px",
                     "width": "1.0em"
                    }
                   },
                   "type": "node"
                  },
                  {
                   "children": [],
                   "instanceArgs": {
                    "namespace": "html",
                    "tag": "div"
                   },
                   "nodeType": "DOM",
                   "props": {
                    "setInnerHtml": "<pre>5×5 Array{Float64,2}:\n -3.0   5.0   5.0   3.0   -7.0\n  0.0   0.0  13.0  -5.0  -13.0\n  8.0   2.0   8.0   2.0   -8.0\n -6.0  -2.0   6.0   4.0   -8.0\n -8.0   4.0  -6.0  -1.0    8.0</pre>"
                   },
                   "type": "node"
                  }
                 ],
                 "instanceArgs": {
                  "namespace": "html",
                  "tag": "div"
                 },
                 "nodeType": "DOM",
                 "props": {
                  "style": {
                   "align-items": "center",
                   "display": "flex",
                   "flex-direction": "row"
                  }
                 },
                 "type": "node"
                }
               ],
               "instanceArgs": {
                "namespace": "html",
                "tag": "div"
               },
               "nodeType": "DOM",
               "props": {
                "style": {
                 "align-items": "center",
                 "display": "flex",
                 "flex-direction": "column"
                }
               },
               "type": "node"
              }
             ],
             "instanceArgs": {
              "namespace": "html",
              "tag": "div"
             },
             "nodeType": "DOM",
             "props": {
              "className": "interact-flex-row interact-widget"
             },
             "type": "node"
            }
           }
          },
          "systemjs_options": null
         },
         "nodeType": "Scope",
         "props": {},
         "type": "node"
        }
       ],
       "instanceArgs": {
        "namespace": "html",
        "tag": "div"
       },
       "nodeType": "DOM",
       "props": {},
       "type": "node"
      },
      "text/html": [
       "<div\n",
       "    class=\"webio-mountpoint\"\n",
       "    data-webio-mountpoint=\"16400476864095517982\"\n",
       ">\n",
       "    <script>\n",
       "    if (window.require && require.defined && require.defined(\"nbextensions/webio-jupyter-notebook\")) {\n",
       "        console.log(\"Jupyter WebIO extension detected, not mounting.\");\n",
       "    } else if (window.WebIO) {\n",
       "        WebIO.mount(\n",
       "            document.querySelector('[data-webio-mountpoint=\"16400476864095517982\"]'),\n",
       "            {\"props\":{},\"nodeType\":\"DOM\",\"type\":\"node\",\"instanceArgs\":{\"namespace\":\"html\",\"tag\":\"div\"},\"children\":[{\"props\":{\"className\":\"field interact-widget\"},\"nodeType\":\"DOM\",\"type\":\"node\",\"instanceArgs\":{\"namespace\":\"html\",\"tag\":\"div\"},\"children\":[{\"props\":{},\"nodeType\":\"Scope\",\"type\":\"node\",\"instanceArgs\":{\"imports\":{\"data\":[{\"name\":\"knockout\",\"type\":\"js\",\"url\":\"\\/assetserver\\/a640663e3908763889bbe9bde6d9d61565df4a62-knockout.js\"},{\"name\":\"knockout_punches\",\"type\":\"js\",\"url\":\"\\/assetserver\\/8fc0b36b5ecb22f13021fb56baafba37abe9dcf2-knockout_punches.js\"},{\"name\":null,\"type\":\"js\",\"url\":\"\\/assetserver\\/87a645b15dc699eca506abf5a296a5295d5c1bb2-all.js\"},{\"name\":null,\"type\":\"css\",\"url\":\"\\/assetserver\\/1ec5ee9823d90485f11267898d87fd061c8884f5-style.css\"},{\"name\":null,\"type\":\"css\",\"url\":\"\\/assetserver\\/e5e03f73eee90cc09eab8f0f2b41d76ab5b4a42f-bulma_confined.min.css\"}],\"type\":\"async_block\"},\"id\":\"2078874233468034911\",\"handlers\":{\"changes\":[\"(function (val){return (val!=this.model[\\\"changes\\\"]()) ? (this.valueFromJulia[\\\"changes\\\"]=true, this.model[\\\"changes\\\"](val)) : undefined})\"],\"index\":[\"(function (val){return (val!=this.model[\\\"index\\\"]()) ? (this.valueFromJulia[\\\"index\\\"]=true, this.model[\\\"index\\\"](val)) : undefined})\"]},\"systemjs_options\":null,\"mount_callbacks\":[\"function () {\\n    var handler = (function (ko, koPunches) {\\n    ko.punches.enableAll();\\n    ko.bindingHandlers.numericValue = {\\n        init: function(element, valueAccessor, allBindings, data, context) {\\n            var stringified = ko.observable(ko.unwrap(valueAccessor()));\\n            stringified.subscribe(function(value) {\\n                var val = parseFloat(value);\\n                if (!isNaN(val)) {\\n                    valueAccessor()(val);\\n                }\\n            });\\n            valueAccessor().subscribe(function(value) {\\n                var str = JSON.stringify(value);\\n                if ((str == \\\"0\\\") && ([\\\"-0\\\", \\\"-0.\\\"].indexOf(stringified()) >= 0))\\n                     return;\\n                 if ([\\\"null\\\", \\\"\\\"].indexOf(str) >= 0)\\n                     return;\\n                stringified(str);\\n            });\\n            ko.applyBindingsToNode(\\n                element,\\n                {\\n                    value: stringified,\\n                    valueUpdate: allBindings.get('valueUpdate'),\\n                },\\n                context,\\n            );\\n        }\\n    };\\n    var json_data = {\\\"formatted_vals\\\":[\\\"1\\\",\\\"2\\\",\\\"3\\\",\\\"4\\\",\\\"5\\\",\\\"6\\\",\\\"7\\\",\\\"8\\\",\\\"9\\\",\\\"10\\\"],\\\"changes\\\":WebIO.getval({\\\"name\\\":\\\"changes\\\",\\\"scope\\\":\\\"2078874233468034911\\\",\\\"id\\\":\\\"ob_22\\\",\\\"type\\\":\\\"observable\\\"}),\\\"index\\\":WebIO.getval({\\\"name\\\":\\\"index\\\",\\\"scope\\\":\\\"2078874233468034911\\\",\\\"id\\\":\\\"ob_21\\\",\\\"type\\\":\\\"observable\\\"})};\\n    var self = this;\\n    function AppViewModel() {\\n        for (var key in json_data) {\\n            var el = json_data[key];\\n            this[key] = Array.isArray(el) ? ko.observableArray(el) : ko.observable(el);\\n        }\\n        \\n        [this[\\\"formatted_val\\\"]=ko.computed(    function(){\\n        return this.formatted_vals()[parseInt(this.index())-(1)];\\n    }\\n,this)]\\n        [this[\\\"changes\\\"].subscribe((function (val){!(this.valueFromJulia[\\\"changes\\\"]) ? (WebIO.setval({\\\"name\\\":\\\"changes\\\",\\\"scope\\\":\\\"2078874233468034911\\\",\\\"id\\\":\\\"ob_22\\\",\\\"type\\\":\\\"observable\\\"},val)) : undefined; return this.valueFromJulia[\\\"changes\\\"]=false}),self),this[\\\"index\\\"].subscribe((function (val){!(this.valueFromJulia[\\\"index\\\"]) ? (WebIO.setval({\\\"name\\\":\\\"index\\\",\\\"scope\\\":\\\"2078874233468034911\\\",\\\"id\\\":\\\"ob_21\\\",\\\"type\\\":\\\"observable\\\"},val)) : undefined; return this.valueFromJulia[\\\"index\\\"]=false}),self)]\\n        \\n    }\\n    self.model = new AppViewModel();\\n    self.valueFromJulia = {};\\n    for (var key in json_data) {\\n        self.valueFromJulia[key] = false;\\n    }\\n    ko.applyBindings(self.model, self.dom);\\n}\\n);\\n    (WebIO.importBlock({\\\"data\\\":[{\\\"name\\\":\\\"knockout\\\",\\\"type\\\":\\\"js\\\",\\\"url\\\":\\\"\\/assetserver\\/a640663e3908763889bbe9bde6d9d61565df4a62-knockout.js\\\"},{\\\"name\\\":\\\"knockout_punches\\\",\\\"type\\\":\\\"js\\\",\\\"url\\\":\\\"\\/assetserver\\/8fc0b36b5ecb22f13021fb56baafba37abe9dcf2-knockout_punches.js\\\"}],\\\"type\\\":\\\"async_block\\\"})).then((imports) => handler.apply(this, imports));\\n}\\n\"],\"observables\":{\"changes\":{\"sync\":false,\"id\":\"ob_22\",\"value\":0},\"index\":{\"sync\":true,\"id\":\"ob_21\",\"value\":1}}},\"children\":[{\"props\":{\"className\":\"interact-flex-row interact-widget\"},\"nodeType\":\"DOM\",\"type\":\"node\",\"instanceArgs\":{\"namespace\":\"html\",\"tag\":\"div\"},\"children\":[{\"props\":{\"className\":\"interact-flex-row-left\"},\"nodeType\":\"DOM\",\"type\":\"node\",\"instanceArgs\":{\"namespace\":\"html\",\"tag\":\"div\"},\"children\":[{\"props\":{\"className\":\"interact \",\"style\":{\"padding\":\"5px 10px 0px 10px\"}},\"nodeType\":\"DOM\",\"type\":\"node\",\"instanceArgs\":{\"namespace\":\"html\",\"tag\":\"label\"},\"children\":[\"gauss step\"]}]},{\"props\":{\"className\":\"interact-flex-row-center\"},\"nodeType\":\"DOM\",\"type\":\"node\",\"instanceArgs\":{\"namespace\":\"html\",\"tag\":\"div\"},\"children\":[{\"props\":{\"max\":10,\"min\":1,\"attributes\":{\"type\":\"range\",\"data-bind\":\"numericValue: index, valueUpdate: 'input', event: {change: function (){this.changes(this.changes()+1)}}\",\"orient\":\"horizontal\"},\"step\":1,\"className\":\"slider slider is-fullwidth\",\"style\":{}},\"nodeType\":\"DOM\",\"type\":\"node\",\"instanceArgs\":{\"namespace\":\"html\",\"tag\":\"input\"},\"children\":[]}]},{\"props\":{\"className\":\"interact-flex-row-right\"},\"nodeType\":\"DOM\",\"type\":\"node\",\"instanceArgs\":{\"namespace\":\"html\",\"tag\":\"div\"},\"children\":[{\"props\":{\"attributes\":{\"data-bind\":\"text: formatted_val\"}},\"nodeType\":\"DOM\",\"type\":\"node\",\"instanceArgs\":{\"namespace\":\"html\",\"tag\":\"p\"},\"children\":[]}]}]}]}]},{\"props\":{},\"nodeType\":\"Scope\",\"type\":\"node\",\"instanceArgs\":{\"imports\":{\"data\":[],\"type\":\"async_block\"},\"id\":\"9253736369582139408\",\"handlers\":{},\"systemjs_options\":null,\"mount_callbacks\":[],\"observables\":{\"obs-node\":{\"sync\":false,\"id\":\"ob_26\",\"value\":{\"props\":{\"className\":\"interact-flex-row interact-widget\"},\"nodeType\":\"DOM\",\"type\":\"node\",\"instanceArgs\":{\"namespace\":\"html\",\"tag\":\"div\"},\"children\":[{\"props\":{\"style\":{\"align-items\":\"center\",\"display\":\"flex\",\"flex-direction\":\"column\"}},\"nodeType\":\"DOM\",\"type\":\"node\",\"instanceArgs\":{\"namespace\":\"html\",\"tag\":\"div\"},\"children\":[{\"props\":{},\"nodeType\":\"DOM\",\"type\":\"node\",\"instanceArgs\":{\"namespace\":\"html\",\"tag\":\"pre\"},\"children\":[\"Gaussian elimination for column 1 with pivot -3.0: add 1.0 * (row 1) to (row 2)\"]},{\"props\":{\"style\":{\"align-items\":\"center\",\"display\":\"flex\",\"flex-direction\":\"row\"}},\"nodeType\":\"DOM\",\"type\":\"node\",\"instanceArgs\":{\"namespace\":\"html\",\"tag\":\"div\"},\"children\":[{\"props\":{\"setInnerHtml\":\"<pre>5×5 Array{Int64,2}:\\n -3   5   5   3  -7\\n  3  -5   8  -8  -6\\n  8   2   8   2  -8\\n -6  -2   6   4  -8\\n -8   4  -6  -1   8<\\/pre>\"},\"nodeType\":\"DOM\",\"type\":\"node\",\"instanceArgs\":{\"namespace\":\"html\",\"tag\":\"div\"},\"children\":[]},{\"props\":{\"style\":{\"height\":\"0.0px\",\"width\":\"1.0em\"}},\"nodeType\":\"DOM\",\"type\":\"node\",\"instanceArgs\":{\"namespace\":\"html\",\"tag\":\"div\"},\"children\":[]},\"⟶\",{\"props\":{\"style\":{\"height\":\"0.0px\",\"width\":\"1.0em\"}},\"nodeType\":\"DOM\",\"type\":\"node\",\"instanceArgs\":{\"namespace\":\"html\",\"tag\":\"div\"},\"children\":[]},{\"props\":{\"setInnerHtml\":\"<pre>5×5 Array{Float64,2}:\\n -3.0   5.0   5.0   3.0   -7.0\\n  0.0   0.0  13.0  -5.0  -13.0\\n  8.0   2.0   8.0   2.0   -8.0\\n -6.0  -2.0   6.0   4.0   -8.0\\n -8.0   4.0  -6.0  -1.0    8.0<\\/pre>\"},\"nodeType\":\"DOM\",\"type\":\"node\",\"instanceArgs\":{\"namespace\":\"html\",\"tag\":\"div\"},\"children\":[]}]}]}]}}}},\"children\":[{\"props\":{},\"nodeType\":\"ObservableNode\",\"type\":\"node\",\"instanceArgs\":{\"id\":\"ob_26\",\"name\":\"obs-node\"},\"children\":[]}]}]},\n",
       "            window,\n",
       "        );\n",
       "    } else {\n",
       "        document\n",
       "            .querySelector('[data-webio-mountpoint=\"16400476864095517982\"]')\n",
       "            .innerHTML = (\n",
       "                '<strong>WebIO not detected. Please read ' +\n",
       "                '<a href=\"https://juliagizmos.github.io/WebIO.jl/latest/troubleshooting/not-detected/\">the troubleshooting guide</a> ' +\n",
       "                'for more information on how to resolve this issue.' +\n",
       "                '</strong>'\n",
       "            );\n",
       "    }\n",
       "    </script>\n",
       "</div>\n"
      ],
      "text/plain": [
       "Node{WebIO.DOM}(WebIO.DOM(:html, :div), Any[Node{DOM}(DOM(:html, :div), Any[Scope(Node{DOM}(DOM(:html, :div), Any[Node{DOM}(DOM(:html, :div), Any[Node{DOM}(DOM(:html, :label), Any[\"gauss step\"], Dict{Symbol,Any}(:className=>\"interact \",:style=>Dict{Any,Any}(:padding=>\"5px 10px 0px 10px\")))], Dict{Symbol,Any}(:className=>\"interact-flex-row-left\")), Node{DOM}(DOM(:html, :div), Any[Node{DOM}(DOM(:html, :input), Any[], Dict{Symbol,Any}(:max=>10,:min=>1,:attributes=>Dict{Any,Any}(:type=>\"range\",Symbol(\"data-bind\")=>\"numericValue: index, valueUpdate: 'input', event: {change: function (){this.changes(this.changes()+1)}}\",\"orient\"=>\"horizontal\"),:step=>1,:className=>\"slider slider is-fullwidth\",:style=>Dict{Any,Any}()))], Dict{Symbol,Any}(:className=>\"interact-flex-row-center\")), Node{DOM}(DOM(:html, :div), Any[Node{DOM}(DOM(:html, :p), Any[], Dict{Symbol,Any}(:attributes=>Dict(\"data-bind\"=>\"text: formatted_val\")))], Dict{Symbol,Any}(:className=>\"interact-flex-row-right\"))], Dict{Symbol,Any}(:className=>\"interact-flex-row interact-widget\")), Dict{String,Tuple{Observables.AbstractObservable,Union{Nothing, Bool}}}(\"changes\"=>(Observable{Int64} with 1 listeners. Value:\n",
       "0, nothing),\"index\"=>(Observable{Int64} with 2 listeners. Value:\n",
       "1, nothing)), Set(String[]), nothing, Asset[Asset(\"js\", \"knockout\", \"/home/yalong/.julia/packages/Knockout/1sDlc/src/../assets/knockout.js\"), Asset(\"js\", \"knockout_punches\", \"/home/yalong/.julia/packages/Knockout/1sDlc/src/../assets/knockout_punches.js\"), Asset(\"js\", nothing, \"/home/yalong/.julia/packages/InteractBase/9mFwe/src/../assets/all.js\"), Asset(\"css\", nothing, \"/home/yalong/.julia/packages/InteractBase/9mFwe/src/../assets/style.css\"), Asset(\"css\", nothing, \"/home/yalong/.julia/packages/Interact/SbgIk/src/../assets/bulma_confined.min.css\")], Dict{Any,Any}(\"changes\"=>Any[JSString(\"(function (val){return (val!=this.model[\\\"changes\\\"]()) ? (this.valueFromJulia[\\\"changes\\\"]=true, this.model[\\\"changes\\\"](val)) : undefined})\")],\"index\"=>Any[JSString(\"(function (val){return (val!=this.model[\\\"index\\\"]()) ? (this.valueFromJulia[\\\"index\\\"]=true, this.model[\\\"index\\\"](val)) : undefined})\")]), ConnectionPool(Channel{Any}(sz_max:32,sz_curr:0), Set(AbstractConnection[]), Condition(Any[Task (runnable) @0x00007fc7840a6a10])), WebIO.JSString[JSString(\"function () {\\n    var handler = (function (ko, koPunches) {\\n    ko.punches.enableAll();\\n    ko.bindingHandlers.numericValue = {\\n        init: function(element, valueAccessor, allBindings, data, context) {\\n            var stringified = ko.observable(ko.unwrap(valueAccessor()));\\n            stringified.subscribe(function(value) {\\n                var val = parseFloat(value);\\n                if (!isNaN(val)) {\\n                    valueAccessor()(val);\\n                }\\n            });\\n            valueAccessor().subscribe(function(value) {\\n                var str = JSON.stringify(value);\\n                if ((str == \\\"0\\\") && ([\\\"-0\\\", \\\"-0.\\\"].indexOf(stringified()) >= 0))\\n                     return;\\n                 if ([\\\"null\\\", \\\"\\\"].indexOf(str) >= 0)\\n                     return;\\n                stringified(str);\\n            });\\n            ko.applyBindingsToNode(\\n                element,\\n                {\\n                    value: stringified,\\n                    valueUpdate: allBindings.get('valueUpdate'),\\n                },\\n                context,\\n            );\\n        }\\n    };\\n    var json_data = {\\\"formatted_vals\\\":[\\\"1\\\",\\\"2\\\",\\\"3\\\",\\\"4\\\",\\\"5\\\",\\\"6\\\",\\\"7\\\",\\\"8\\\",\\\"9\\\",\\\"10\\\"],\\\"changes\\\":WebIO.getval({\\\"name\\\":\\\"changes\\\",\\\"scope\\\":\\\"2078874233468034911\\\",\\\"id\\\":\\\"ob_22\\\",\\\"type\\\":\\\"observable\\\"}),\\\"index\\\":WebIO.getval({\\\"name\\\":\\\"index\\\",\\\"scope\\\":\\\"2078874233468034911\\\",\\\"id\\\":\\\"ob_21\\\",\\\"type\\\":\\\"observable\\\"})};\\n    var self = this;\\n    function AppViewModel() {\\n        for (var key in json_data) {\\n            var el = json_data[key];\\n            this[key] = Array.isArray(el) ? ko.observableArray(el) : ko.observable(el);\\n        }\\n        \\n        [this[\\\"formatted_val\\\"]=ko.computed(    function(){\\n        return this.formatted_vals()[parseInt(this.index())-(1)];\\n    }\\n,this)]\\n        [this[\\\"changes\\\"].subscribe((function (val){!(this.valueFromJulia[\\\"changes\\\"]) ? (WebIO.setval({\\\"name\\\":\\\"changes\\\",\\\"scope\\\":\\\"2078874233468034911\\\",\\\"id\\\":\\\"ob_22\\\",\\\"type\\\":\\\"observable\\\"},val)) : undefined; return this.valueFromJulia[\\\"changes\\\"]=false}),self),this[\\\"index\\\"].subscribe((function (val){!(this.valueFromJulia[\\\"index\\\"]) ? (WebIO.setval({\\\"name\\\":\\\"index\\\",\\\"scope\\\":\\\"2078874233468034911\\\",\\\"id\\\":\\\"ob_21\\\",\\\"type\\\":\\\"observable\\\"},val)) : undefined; return this.valueFromJulia[\\\"index\\\"]=false}),self)]\\n        \\n    }\\n    self.model = new AppViewModel();\\n    self.valueFromJulia = {};\\n    for (var key in json_data) {\\n        self.valueFromJulia[key] = false;\\n    }\\n    ko.applyBindings(self.model, self.dom);\\n}\\n);\\n    (WebIO.importBlock({\\\"data\\\":[{\\\"name\\\":\\\"knockout\\\",\\\"type\\\":\\\"js\\\",\\\"url\\\":\\\"/assetserver/a640663e3908763889bbe9bde6d9d61565df4a62-knockout.js\\\"},{\\\"name\\\":\\\"knockout_punches\\\",\\\"type\\\":\\\"js\\\",\\\"url\\\":\\\"/assetserver/8fc0b36b5ecb22f13021fb56baafba37abe9dcf2-knockout_punches.js\\\"}],\\\"type\\\":\\\"async_block\\\"})).then((imports) => handler.apply(this, imports));\\n}\\n\")])], Dict{Symbol,Any}(:className=>\"field interact-widget\")), Observable{Any} with 0 listeners. Value:\n",
       "Node{DOM}(DOM(:html, :div), Any[Node{DOM}(DOM(:html, :div), Any[Node{DOM}(DOM(:html, :pre), Any[\"Gaussian elimination for column 1 with pivot -3.0: add 1.0 * (row 1) to (row 2)\"], Dict{Symbol,Any}()), Node{DOM}(DOM(:html, :div), Any[Node{DOM}(DOM(:html, :div), Any[], Dict{Symbol,Any}(:setInnerHtml=>\"<pre>5×5 Array{Int64,2}:\\n -3   5   5   3  -7\\n  3  -5   8  -8  -6\\n  8   2   8   2  -8\\n -6  -2   6   4  -8\\n -8   4  -6  -1   8</pre>\")), Node{DOM}(DOM(:html, :div), Any[], Dict{Symbol,Any}(:style=>Dict{String,Measures.Length{U,Float64} where U}(\"height\"=>0.0px,\"width\"=>1.0em))), \"⟶\", Node{DOM}(DOM(:html, :div), Any[], Dict{Symbol,Any}(:style=>Dict{String,Measures.Length{U,Float64} where U}(\"height\"=>0.0px,\"width\"=>1.0em))), Node{DOM}(DOM(:html, :div), Any[], Dict{Symbol,Any}(:setInnerHtml=>\"<pre>5×5 Array{Float64,2}:\\n -3.0   5.0   5.0   3.0   -7.0\\n  0.0   0.0  13.0  -5.0  -13.0\\n  8.0   2.0   8.0   2.0   -8.0\\n -6.0  -2.0   6.0   4.0   -8.0\\n -8.0   4.0  -6.0  -1.0    8.0</pre>\"))], Dict{Symbol,Any}(:style=>Dict{Any,Any}(\"align-items\"=>:center,\"display\"=>\"flex\",\"flex-direction\"=>\"row\")))], Dict{Symbol,Any}(:style=>Dict{Any,Any}(\"align-items\"=>:center,\"display\"=>\"flex\",\"flex-direction\"=>\"column\")))], Dict{Symbol,Any}(:className=>\"interact-flex-row interact-widget\"))], Dict{Symbol,Any}())"
      ]
     },
     "execution_count": 25,
     "metadata": {
      "application/vnd.webio.node+json": {
       "kernelId": null
      }
     },
     "output_type": "execute_result"
    }
   ],
   "source": [
    "Abad = [-3   5   5   3  -7\n",
    "         3  -5   8  -8  -6\n",
    "         8   2   8   2  -8\n",
    "        -6  -2   6   4  -8\n",
    "        -8   4  -6  -1   8]\n",
    "visualize_gauss(Abad)"
   ]
  },
  {
   "cell_type": "markdown",
   "metadata": {},
   "source": [
    "But this matrix is not actually singular:"
   ]
  },
  {
   "cell_type": "code",
   "execution_count": 26,
   "metadata": {},
   "outputs": [
    {
     "data": {
      "text/plain": [
       "19211.999999999996"
      ]
     },
     "execution_count": 26,
     "metadata": {},
     "output_type": "execute_result"
    }
   ],
   "source": [
    "det(Abad)"
   ]
  },
  {
   "cell_type": "markdown",
   "metadata": {},
   "source": [
    "So we can fix the problem just by re-ordering the rows, e.g. swapping the first and last rows:"
   ]
  },
  {
   "cell_type": "code",
   "execution_count": 27,
   "metadata": {},
   "outputs": [
    {
     "data": {
      "application/vnd.webio.node+json": {
       "children": [
        {
         "children": [
          {
           "children": [
            {
             "children": [
              {
               "children": [
                {
                 "children": [
                  "gauss step"
                 ],
                 "instanceArgs": {
                  "namespace": "html",
                  "tag": "label"
                 },
                 "nodeType": "DOM",
                 "props": {
                  "className": "interact ",
                  "style": {
                   "padding": "5px 10px 0px 10px"
                  }
                 },
                 "type": "node"
                }
               ],
               "instanceArgs": {
                "namespace": "html",
                "tag": "div"
               },
               "nodeType": "DOM",
               "props": {
                "className": "interact-flex-row-left"
               },
               "type": "node"
              },
              {
               "children": [
                {
                 "children": [],
                 "instanceArgs": {
                  "namespace": "html",
                  "tag": "input"
                 },
                 "nodeType": "DOM",
                 "props": {
                  "attributes": {
                   "data-bind": "numericValue: index, valueUpdate: 'input', event: {change: function (){this.changes(this.changes()+1)}}",
                   "orient": "horizontal",
                   "type": "range"
                  },
                  "className": "slider slider is-fullwidth",
                  "max": 10,
                  "min": 1,
                  "step": 1,
                  "style": {}
                 },
                 "type": "node"
                }
               ],
               "instanceArgs": {
                "namespace": "html",
                "tag": "div"
               },
               "nodeType": "DOM",
               "props": {
                "className": "interact-flex-row-center"
               },
               "type": "node"
              },
              {
               "children": [
                {
                 "children": [],
                 "instanceArgs": {
                  "namespace": "html",
                  "tag": "p"
                 },
                 "nodeType": "DOM",
                 "props": {
                  "attributes": {
                   "data-bind": "text: formatted_val"
                  }
                 },
                 "type": "node"
                }
               ],
               "instanceArgs": {
                "namespace": "html",
                "tag": "div"
               },
               "nodeType": "DOM",
               "props": {
                "className": "interact-flex-row-right"
               },
               "type": "node"
              }
             ],
             "instanceArgs": {
              "namespace": "html",
              "tag": "div"
             },
             "nodeType": "DOM",
             "props": {
              "className": "interact-flex-row interact-widget"
             },
             "type": "node"
            }
           ],
           "instanceArgs": {
            "handlers": {
             "changes": [
              "(function (val){return (val!=this.model[\"changes\"]()) ? (this.valueFromJulia[\"changes\"]=true, this.model[\"changes\"](val)) : undefined})"
             ],
             "index": [
              "(function (val){return (val!=this.model[\"index\"]()) ? (this.valueFromJulia[\"index\"]=true, this.model[\"index\"](val)) : undefined})"
             ]
            },
            "id": "596523874322268657",
            "imports": {
             "data": [
              {
               "name": "knockout",
               "type": "js",
               "url": "/assetserver/a640663e3908763889bbe9bde6d9d61565df4a62-knockout.js"
              },
              {
               "name": "knockout_punches",
               "type": "js",
               "url": "/assetserver/8fc0b36b5ecb22f13021fb56baafba37abe9dcf2-knockout_punches.js"
              },
              {
               "name": null,
               "type": "js",
               "url": "/assetserver/87a645b15dc699eca506abf5a296a5295d5c1bb2-all.js"
              },
              {
               "name": null,
               "type": "css",
               "url": "/assetserver/1ec5ee9823d90485f11267898d87fd061c8884f5-style.css"
              },
              {
               "name": null,
               "type": "css",
               "url": "/assetserver/e5e03f73eee90cc09eab8f0f2b41d76ab5b4a42f-bulma_confined.min.css"
              }
             ],
             "type": "async_block"
            },
            "mount_callbacks": [
             "function () {\n    var handler = (function (ko, koPunches) {\n    ko.punches.enableAll();\n    ko.bindingHandlers.numericValue = {\n        init: function(element, valueAccessor, allBindings, data, context) {\n            var stringified = ko.observable(ko.unwrap(valueAccessor()));\n            stringified.subscribe(function(value) {\n                var val = parseFloat(value);\n                if (!isNaN(val)) {\n                    valueAccessor()(val);\n                }\n            });\n            valueAccessor().subscribe(function(value) {\n                var str = JSON.stringify(value);\n                if ((str == \"0\") && ([\"-0\", \"-0.\"].indexOf(stringified()) >= 0))\n                     return;\n                 if ([\"null\", \"\"].indexOf(str) >= 0)\n                     return;\n                stringified(str);\n            });\n            ko.applyBindingsToNode(\n                element,\n                {\n                    value: stringified,\n                    valueUpdate: allBindings.get('valueUpdate'),\n                },\n                context,\n            );\n        }\n    };\n    var json_data = {\"formatted_vals\":[\"1\",\"2\",\"3\",\"4\",\"5\",\"6\",\"7\",\"8\",\"9\",\"10\"],\"changes\":WebIO.getval({\"name\":\"changes\",\"scope\":\"596523874322268657\",\"id\":\"ob_30\",\"type\":\"observable\"}),\"index\":WebIO.getval({\"name\":\"index\",\"scope\":\"596523874322268657\",\"id\":\"ob_29\",\"type\":\"observable\"})};\n    var self = this;\n    function AppViewModel() {\n        for (var key in json_data) {\n            var el = json_data[key];\n            this[key] = Array.isArray(el) ? ko.observableArray(el) : ko.observable(el);\n        }\n        \n        [this[\"formatted_val\"]=ko.computed(    function(){\n        return this.formatted_vals()[parseInt(this.index())-(1)];\n    }\n,this)]\n        [this[\"changes\"].subscribe((function (val){!(this.valueFromJulia[\"changes\"]) ? (WebIO.setval({\"name\":\"changes\",\"scope\":\"596523874322268657\",\"id\":\"ob_30\",\"type\":\"observable\"},val)) : undefined; return this.valueFromJulia[\"changes\"]=false}),self),this[\"index\"].subscribe((function (val){!(this.valueFromJulia[\"index\"]) ? (WebIO.setval({\"name\":\"index\",\"scope\":\"596523874322268657\",\"id\":\"ob_29\",\"type\":\"observable\"},val)) : undefined; return this.valueFromJulia[\"index\"]=false}),self)]\n        \n    }\n    self.model = new AppViewModel();\n    self.valueFromJulia = {};\n    for (var key in json_data) {\n        self.valueFromJulia[key] = false;\n    }\n    ko.applyBindings(self.model, self.dom);\n}\n);\n    (WebIO.importBlock({\"data\":[{\"name\":\"knockout\",\"type\":\"js\",\"url\":\"/assetserver/a640663e3908763889bbe9bde6d9d61565df4a62-knockout.js\"},{\"name\":\"knockout_punches\",\"type\":\"js\",\"url\":\"/assetserver/8fc0b36b5ecb22f13021fb56baafba37abe9dcf2-knockout_punches.js\"}],\"type\":\"async_block\"})).then((imports) => handler.apply(this, imports));\n}\n"
            ],
            "observables": {
             "changes": {
              "id": "ob_30",
              "sync": false,
              "value": 0
             },
             "index": {
              "id": "ob_29",
              "sync": true,
              "value": 1
             }
            },
            "systemjs_options": null
           },
           "nodeType": "Scope",
           "props": {},
           "type": "node"
          }
         ],
         "instanceArgs": {
          "namespace": "html",
          "tag": "div"
         },
         "nodeType": "DOM",
         "props": {
          "className": "field interact-widget"
         },
         "type": "node"
        },
        {
         "children": [
          {
           "children": [],
           "instanceArgs": {
            "id": "ob_36",
            "name": "obs-node"
           },
           "nodeType": "ObservableNode",
           "props": {},
           "type": "node"
          }
         ],
         "instanceArgs": {
          "handlers": {},
          "id": "839185588169589531",
          "imports": {
           "data": [],
           "type": "async_block"
          },
          "mount_callbacks": [],
          "observables": {
           "obs-node": {
            "id": "ob_36",
            "sync": false,
            "value": {
             "children": [
              {
               "children": [
                {
                 "children": [
                  "Gaussian elimination for column 1 with pivot -8.0: add 0.0 * (row 1) to (row 2)"
                 ],
                 "instanceArgs": {
                  "namespace": "html",
                  "tag": "pre"
                 },
                 "nodeType": "DOM",
                 "props": {},
                 "type": "node"
                },
                {
                 "children": [
                  {
                   "children": [],
                   "instanceArgs": {
                    "namespace": "html",
                    "tag": "div"
                   },
                   "nodeType": "DOM",
                   "props": {
                    "setInnerHtml": "<pre>5×5 Array{Int64,2}:\n -8   4  -6  -1   8\n  3  -5   8  -8  -6\n  8   2   8   2  -8\n -6  -2   6   4  -8\n -3   5   5   3  -7</pre>"
                   },
                   "type": "node"
                  },
                  {
                   "children": [],
                   "instanceArgs": {
                    "namespace": "html",
                    "tag": "div"
                   },
                   "nodeType": "DOM",
                   "props": {
                    "style": {
                     "height": "0.0px",
                     "width": "1.0em"
                    }
                   },
                   "type": "node"
                  },
                  "⟶",
                  {
                   "children": [],
                   "instanceArgs": {
                    "namespace": "html",
                    "tag": "div"
                   },
                   "nodeType": "DOM",
                   "props": {
                    "style": {
                     "height": "0.0px",
                     "width": "1.0em"
                    }
                   },
                   "type": "node"
                  },
                  {
                   "children": [],
                   "instanceArgs": {
                    "namespace": "html",
                    "tag": "div"
                   },
                   "nodeType": "DOM",
                   "props": {
                    "setInnerHtml": "<pre>5×5 Array{Float64,2}:\n -8.0   4.0  -6.0  -1.0   8.0\n  0.0  -4.0   6.0  -8.0  -3.0\n  8.0   2.0   8.0   2.0  -8.0\n -6.0  -2.0   6.0   4.0  -8.0\n -3.0   5.0   5.0   3.0  -7.0</pre>"
                   },
                   "type": "node"
                  }
                 ],
                 "instanceArgs": {
                  "namespace": "html",
                  "tag": "div"
                 },
                 "nodeType": "DOM",
                 "props": {
                  "style": {
                   "align-items": "center",
                   "display": "flex",
                   "flex-direction": "row"
                  }
                 },
                 "type": "node"
                }
               ],
               "instanceArgs": {
                "namespace": "html",
                "tag": "div"
               },
               "nodeType": "DOM",
               "props": {
                "style": {
                 "align-items": "center",
                 "display": "flex",
                 "flex-direction": "column"
                }
               },
               "type": "node"
              }
             ],
             "instanceArgs": {
              "namespace": "html",
              "tag": "div"
             },
             "nodeType": "DOM",
             "props": {
              "className": "interact-flex-row interact-widget"
             },
             "type": "node"
            }
           }
          },
          "systemjs_options": null
         },
         "nodeType": "Scope",
         "props": {},
         "type": "node"
        }
       ],
       "instanceArgs": {
        "namespace": "html",
        "tag": "div"
       },
       "nodeType": "DOM",
       "props": {},
       "type": "node"
      },
      "text/html": [
       "<div\n",
       "    class=\"webio-mountpoint\"\n",
       "    data-webio-mountpoint=\"3920594474743024991\"\n",
       ">\n",
       "    <script>\n",
       "    if (window.require && require.defined && require.defined(\"nbextensions/webio-jupyter-notebook\")) {\n",
       "        console.log(\"Jupyter WebIO extension detected, not mounting.\");\n",
       "    } else if (window.WebIO) {\n",
       "        WebIO.mount(\n",
       "            document.querySelector('[data-webio-mountpoint=\"3920594474743024991\"]'),\n",
       "            {\"props\":{},\"nodeType\":\"DOM\",\"type\":\"node\",\"instanceArgs\":{\"namespace\":\"html\",\"tag\":\"div\"},\"children\":[{\"props\":{\"className\":\"field interact-widget\"},\"nodeType\":\"DOM\",\"type\":\"node\",\"instanceArgs\":{\"namespace\":\"html\",\"tag\":\"div\"},\"children\":[{\"props\":{},\"nodeType\":\"Scope\",\"type\":\"node\",\"instanceArgs\":{\"imports\":{\"data\":[{\"name\":\"knockout\",\"type\":\"js\",\"url\":\"\\/assetserver\\/a640663e3908763889bbe9bde6d9d61565df4a62-knockout.js\"},{\"name\":\"knockout_punches\",\"type\":\"js\",\"url\":\"\\/assetserver\\/8fc0b36b5ecb22f13021fb56baafba37abe9dcf2-knockout_punches.js\"},{\"name\":null,\"type\":\"js\",\"url\":\"\\/assetserver\\/87a645b15dc699eca506abf5a296a5295d5c1bb2-all.js\"},{\"name\":null,\"type\":\"css\",\"url\":\"\\/assetserver\\/1ec5ee9823d90485f11267898d87fd061c8884f5-style.css\"},{\"name\":null,\"type\":\"css\",\"url\":\"\\/assetserver\\/e5e03f73eee90cc09eab8f0f2b41d76ab5b4a42f-bulma_confined.min.css\"}],\"type\":\"async_block\"},\"id\":\"596523874322268657\",\"handlers\":{\"changes\":[\"(function (val){return (val!=this.model[\\\"changes\\\"]()) ? (this.valueFromJulia[\\\"changes\\\"]=true, this.model[\\\"changes\\\"](val)) : undefined})\"],\"index\":[\"(function (val){return (val!=this.model[\\\"index\\\"]()) ? (this.valueFromJulia[\\\"index\\\"]=true, this.model[\\\"index\\\"](val)) : undefined})\"]},\"systemjs_options\":null,\"mount_callbacks\":[\"function () {\\n    var handler = (function (ko, koPunches) {\\n    ko.punches.enableAll();\\n    ko.bindingHandlers.numericValue = {\\n        init: function(element, valueAccessor, allBindings, data, context) {\\n            var stringified = ko.observable(ko.unwrap(valueAccessor()));\\n            stringified.subscribe(function(value) {\\n                var val = parseFloat(value);\\n                if (!isNaN(val)) {\\n                    valueAccessor()(val);\\n                }\\n            });\\n            valueAccessor().subscribe(function(value) {\\n                var str = JSON.stringify(value);\\n                if ((str == \\\"0\\\") && ([\\\"-0\\\", \\\"-0.\\\"].indexOf(stringified()) >= 0))\\n                     return;\\n                 if ([\\\"null\\\", \\\"\\\"].indexOf(str) >= 0)\\n                     return;\\n                stringified(str);\\n            });\\n            ko.applyBindingsToNode(\\n                element,\\n                {\\n                    value: stringified,\\n                    valueUpdate: allBindings.get('valueUpdate'),\\n                },\\n                context,\\n            );\\n        }\\n    };\\n    var json_data = {\\\"formatted_vals\\\":[\\\"1\\\",\\\"2\\\",\\\"3\\\",\\\"4\\\",\\\"5\\\",\\\"6\\\",\\\"7\\\",\\\"8\\\",\\\"9\\\",\\\"10\\\"],\\\"changes\\\":WebIO.getval({\\\"name\\\":\\\"changes\\\",\\\"scope\\\":\\\"596523874322268657\\\",\\\"id\\\":\\\"ob_30\\\",\\\"type\\\":\\\"observable\\\"}),\\\"index\\\":WebIO.getval({\\\"name\\\":\\\"index\\\",\\\"scope\\\":\\\"596523874322268657\\\",\\\"id\\\":\\\"ob_29\\\",\\\"type\\\":\\\"observable\\\"})};\\n    var self = this;\\n    function AppViewModel() {\\n        for (var key in json_data) {\\n            var el = json_data[key];\\n            this[key] = Array.isArray(el) ? ko.observableArray(el) : ko.observable(el);\\n        }\\n        \\n        [this[\\\"formatted_val\\\"]=ko.computed(    function(){\\n        return this.formatted_vals()[parseInt(this.index())-(1)];\\n    }\\n,this)]\\n        [this[\\\"changes\\\"].subscribe((function (val){!(this.valueFromJulia[\\\"changes\\\"]) ? (WebIO.setval({\\\"name\\\":\\\"changes\\\",\\\"scope\\\":\\\"596523874322268657\\\",\\\"id\\\":\\\"ob_30\\\",\\\"type\\\":\\\"observable\\\"},val)) : undefined; return this.valueFromJulia[\\\"changes\\\"]=false}),self),this[\\\"index\\\"].subscribe((function (val){!(this.valueFromJulia[\\\"index\\\"]) ? (WebIO.setval({\\\"name\\\":\\\"index\\\",\\\"scope\\\":\\\"596523874322268657\\\",\\\"id\\\":\\\"ob_29\\\",\\\"type\\\":\\\"observable\\\"},val)) : undefined; return this.valueFromJulia[\\\"index\\\"]=false}),self)]\\n        \\n    }\\n    self.model = new AppViewModel();\\n    self.valueFromJulia = {};\\n    for (var key in json_data) {\\n        self.valueFromJulia[key] = false;\\n    }\\n    ko.applyBindings(self.model, self.dom);\\n}\\n);\\n    (WebIO.importBlock({\\\"data\\\":[{\\\"name\\\":\\\"knockout\\\",\\\"type\\\":\\\"js\\\",\\\"url\\\":\\\"\\/assetserver\\/a640663e3908763889bbe9bde6d9d61565df4a62-knockout.js\\\"},{\\\"name\\\":\\\"knockout_punches\\\",\\\"type\\\":\\\"js\\\",\\\"url\\\":\\\"\\/assetserver\\/8fc0b36b5ecb22f13021fb56baafba37abe9dcf2-knockout_punches.js\\\"}],\\\"type\\\":\\\"async_block\\\"})).then((imports) => handler.apply(this, imports));\\n}\\n\"],\"observables\":{\"changes\":{\"sync\":false,\"id\":\"ob_30\",\"value\":0},\"index\":{\"sync\":true,\"id\":\"ob_29\",\"value\":1}}},\"children\":[{\"props\":{\"className\":\"interact-flex-row interact-widget\"},\"nodeType\":\"DOM\",\"type\":\"node\",\"instanceArgs\":{\"namespace\":\"html\",\"tag\":\"div\"},\"children\":[{\"props\":{\"className\":\"interact-flex-row-left\"},\"nodeType\":\"DOM\",\"type\":\"node\",\"instanceArgs\":{\"namespace\":\"html\",\"tag\":\"div\"},\"children\":[{\"props\":{\"className\":\"interact \",\"style\":{\"padding\":\"5px 10px 0px 10px\"}},\"nodeType\":\"DOM\",\"type\":\"node\",\"instanceArgs\":{\"namespace\":\"html\",\"tag\":\"label\"},\"children\":[\"gauss step\"]}]},{\"props\":{\"className\":\"interact-flex-row-center\"},\"nodeType\":\"DOM\",\"type\":\"node\",\"instanceArgs\":{\"namespace\":\"html\",\"tag\":\"div\"},\"children\":[{\"props\":{\"max\":10,\"min\":1,\"attributes\":{\"type\":\"range\",\"data-bind\":\"numericValue: index, valueUpdate: 'input', event: {change: function (){this.changes(this.changes()+1)}}\",\"orient\":\"horizontal\"},\"step\":1,\"className\":\"slider slider is-fullwidth\",\"style\":{}},\"nodeType\":\"DOM\",\"type\":\"node\",\"instanceArgs\":{\"namespace\":\"html\",\"tag\":\"input\"},\"children\":[]}]},{\"props\":{\"className\":\"interact-flex-row-right\"},\"nodeType\":\"DOM\",\"type\":\"node\",\"instanceArgs\":{\"namespace\":\"html\",\"tag\":\"div\"},\"children\":[{\"props\":{\"attributes\":{\"data-bind\":\"text: formatted_val\"}},\"nodeType\":\"DOM\",\"type\":\"node\",\"instanceArgs\":{\"namespace\":\"html\",\"tag\":\"p\"},\"children\":[]}]}]}]}]},{\"props\":{},\"nodeType\":\"Scope\",\"type\":\"node\",\"instanceArgs\":{\"imports\":{\"data\":[],\"type\":\"async_block\"},\"id\":\"12473492875862761749\",\"handlers\":{},\"systemjs_options\":null,\"mount_callbacks\":[],\"observables\":{\"obs-node\":{\"sync\":false,\"id\":\"ob_34\",\"value\":{\"props\":{\"className\":\"interact-flex-row interact-widget\"},\"nodeType\":\"DOM\",\"type\":\"node\",\"instanceArgs\":{\"namespace\":\"html\",\"tag\":\"div\"},\"children\":[{\"props\":{\"style\":{\"align-items\":\"center\",\"display\":\"flex\",\"flex-direction\":\"column\"}},\"nodeType\":\"DOM\",\"type\":\"node\",\"instanceArgs\":{\"namespace\":\"html\",\"tag\":\"div\"},\"children\":[{\"props\":{},\"nodeType\":\"DOM\",\"type\":\"node\",\"instanceArgs\":{\"namespace\":\"html\",\"tag\":\"pre\"},\"children\":[\"Gaussian elimination for column 1 with pivot -8.0: add 0.0 * (row 1) to (row 2)\"]},{\"props\":{\"style\":{\"align-items\":\"center\",\"display\":\"flex\",\"flex-direction\":\"row\"}},\"nodeType\":\"DOM\",\"type\":\"node\",\"instanceArgs\":{\"namespace\":\"html\",\"tag\":\"div\"},\"children\":[{\"props\":{\"setInnerHtml\":\"<pre>5×5 Array{Int64,2}:\\n -8   4  -6  -1   8\\n  3  -5   8  -8  -6\\n  8   2   8   2  -8\\n -6  -2   6   4  -8\\n -3   5   5   3  -7<\\/pre>\"},\"nodeType\":\"DOM\",\"type\":\"node\",\"instanceArgs\":{\"namespace\":\"html\",\"tag\":\"div\"},\"children\":[]},{\"props\":{\"style\":{\"height\":\"0.0px\",\"width\":\"1.0em\"}},\"nodeType\":\"DOM\",\"type\":\"node\",\"instanceArgs\":{\"namespace\":\"html\",\"tag\":\"div\"},\"children\":[]},\"⟶\",{\"props\":{\"style\":{\"height\":\"0.0px\",\"width\":\"1.0em\"}},\"nodeType\":\"DOM\",\"type\":\"node\",\"instanceArgs\":{\"namespace\":\"html\",\"tag\":\"div\"},\"children\":[]},{\"props\":{\"setInnerHtml\":\"<pre>5×5 Array{Float64,2}:\\n -8.0   4.0  -6.0  -1.0   8.0\\n  0.0  -4.0   6.0  -8.0  -3.0\\n  8.0   2.0   8.0   2.0  -8.0\\n -6.0  -2.0   6.0   4.0  -8.0\\n -3.0   5.0   5.0   3.0  -7.0<\\/pre>\"},\"nodeType\":\"DOM\",\"type\":\"node\",\"instanceArgs\":{\"namespace\":\"html\",\"tag\":\"div\"},\"children\":[]}]}]}]}}}},\"children\":[{\"props\":{},\"nodeType\":\"ObservableNode\",\"type\":\"node\",\"instanceArgs\":{\"id\":\"ob_34\",\"name\":\"obs-node\"},\"children\":[]}]}]},\n",
       "            window,\n",
       "        );\n",
       "    } else {\n",
       "        document\n",
       "            .querySelector('[data-webio-mountpoint=\"3920594474743024991\"]')\n",
       "            .innerHTML = (\n",
       "                '<strong>WebIO not detected. Please read ' +\n",
       "                '<a href=\"https://juliagizmos.github.io/WebIO.jl/latest/troubleshooting/not-detected/\">the troubleshooting guide</a> ' +\n",
       "                'for more information on how to resolve this issue.' +\n",
       "                '</strong>'\n",
       "            );\n",
       "    }\n",
       "    </script>\n",
       "</div>\n"
      ],
      "text/plain": [
       "Node{WebIO.DOM}(WebIO.DOM(:html, :div), Any[Node{DOM}(DOM(:html, :div), Any[Scope(Node{DOM}(DOM(:html, :div), Any[Node{DOM}(DOM(:html, :div), Any[Node{DOM}(DOM(:html, :label), Any[\"gauss step\"], Dict{Symbol,Any}(:className=>\"interact \",:style=>Dict{Any,Any}(:padding=>\"5px 10px 0px 10px\")))], Dict{Symbol,Any}(:className=>\"interact-flex-row-left\")), Node{DOM}(DOM(:html, :div), Any[Node{DOM}(DOM(:html, :input), Any[], Dict{Symbol,Any}(:max=>10,:min=>1,:attributes=>Dict{Any,Any}(:type=>\"range\",Symbol(\"data-bind\")=>\"numericValue: index, valueUpdate: 'input', event: {change: function (){this.changes(this.changes()+1)}}\",\"orient\"=>\"horizontal\"),:step=>1,:className=>\"slider slider is-fullwidth\",:style=>Dict{Any,Any}()))], Dict{Symbol,Any}(:className=>\"interact-flex-row-center\")), Node{DOM}(DOM(:html, :div), Any[Node{DOM}(DOM(:html, :p), Any[], Dict{Symbol,Any}(:attributes=>Dict(\"data-bind\"=>\"text: formatted_val\")))], Dict{Symbol,Any}(:className=>\"interact-flex-row-right\"))], Dict{Symbol,Any}(:className=>\"interact-flex-row interact-widget\")), Dict{String,Tuple{Observables.AbstractObservable,Union{Nothing, Bool}}}(\"changes\"=>(Observable{Int64} with 1 listeners. Value:\n",
       "0, nothing),\"index\"=>(Observable{Int64} with 2 listeners. Value:\n",
       "1, nothing)), Set(String[]), nothing, Asset[Asset(\"js\", \"knockout\", \"/home/yalong/.julia/packages/Knockout/1sDlc/src/../assets/knockout.js\"), Asset(\"js\", \"knockout_punches\", \"/home/yalong/.julia/packages/Knockout/1sDlc/src/../assets/knockout_punches.js\"), Asset(\"js\", nothing, \"/home/yalong/.julia/packages/InteractBase/9mFwe/src/../assets/all.js\"), Asset(\"css\", nothing, \"/home/yalong/.julia/packages/InteractBase/9mFwe/src/../assets/style.css\"), Asset(\"css\", nothing, \"/home/yalong/.julia/packages/Interact/SbgIk/src/../assets/bulma_confined.min.css\")], Dict{Any,Any}(\"changes\"=>Any[JSString(\"(function (val){return (val!=this.model[\\\"changes\\\"]()) ? (this.valueFromJulia[\\\"changes\\\"]=true, this.model[\\\"changes\\\"](val)) : undefined})\")],\"index\"=>Any[JSString(\"(function (val){return (val!=this.model[\\\"index\\\"]()) ? (this.valueFromJulia[\\\"index\\\"]=true, this.model[\\\"index\\\"](val)) : undefined})\")]), ConnectionPool(Channel{Any}(sz_max:32,sz_curr:0), Set(AbstractConnection[]), Condition(Any[Task (runnable) @0x00007fc7840a0fd0])), WebIO.JSString[JSString(\"function () {\\n    var handler = (function (ko, koPunches) {\\n    ko.punches.enableAll();\\n    ko.bindingHandlers.numericValue = {\\n        init: function(element, valueAccessor, allBindings, data, context) {\\n            var stringified = ko.observable(ko.unwrap(valueAccessor()));\\n            stringified.subscribe(function(value) {\\n                var val = parseFloat(value);\\n                if (!isNaN(val)) {\\n                    valueAccessor()(val);\\n                }\\n            });\\n            valueAccessor().subscribe(function(value) {\\n                var str = JSON.stringify(value);\\n                if ((str == \\\"0\\\") && ([\\\"-0\\\", \\\"-0.\\\"].indexOf(stringified()) >= 0))\\n                     return;\\n                 if ([\\\"null\\\", \\\"\\\"].indexOf(str) >= 0)\\n                     return;\\n                stringified(str);\\n            });\\n            ko.applyBindingsToNode(\\n                element,\\n                {\\n                    value: stringified,\\n                    valueUpdate: allBindings.get('valueUpdate'),\\n                },\\n                context,\\n            );\\n        }\\n    };\\n    var json_data = {\\\"formatted_vals\\\":[\\\"1\\\",\\\"2\\\",\\\"3\\\",\\\"4\\\",\\\"5\\\",\\\"6\\\",\\\"7\\\",\\\"8\\\",\\\"9\\\",\\\"10\\\"],\\\"changes\\\":WebIO.getval({\\\"name\\\":\\\"changes\\\",\\\"scope\\\":\\\"596523874322268657\\\",\\\"id\\\":\\\"ob_30\\\",\\\"type\\\":\\\"observable\\\"}),\\\"index\\\":WebIO.getval({\\\"name\\\":\\\"index\\\",\\\"scope\\\":\\\"596523874322268657\\\",\\\"id\\\":\\\"ob_29\\\",\\\"type\\\":\\\"observable\\\"})};\\n    var self = this;\\n    function AppViewModel() {\\n        for (var key in json_data) {\\n            var el = json_data[key];\\n            this[key] = Array.isArray(el) ? ko.observableArray(el) : ko.observable(el);\\n        }\\n        \\n        [this[\\\"formatted_val\\\"]=ko.computed(    function(){\\n        return this.formatted_vals()[parseInt(this.index())-(1)];\\n    }\\n,this)]\\n        [this[\\\"changes\\\"].subscribe((function (val){!(this.valueFromJulia[\\\"changes\\\"]) ? (WebIO.setval({\\\"name\\\":\\\"changes\\\",\\\"scope\\\":\\\"596523874322268657\\\",\\\"id\\\":\\\"ob_30\\\",\\\"type\\\":\\\"observable\\\"},val)) : undefined; return this.valueFromJulia[\\\"changes\\\"]=false}),self),this[\\\"index\\\"].subscribe((function (val){!(this.valueFromJulia[\\\"index\\\"]) ? (WebIO.setval({\\\"name\\\":\\\"index\\\",\\\"scope\\\":\\\"596523874322268657\\\",\\\"id\\\":\\\"ob_29\\\",\\\"type\\\":\\\"observable\\\"},val)) : undefined; return this.valueFromJulia[\\\"index\\\"]=false}),self)]\\n        \\n    }\\n    self.model = new AppViewModel();\\n    self.valueFromJulia = {};\\n    for (var key in json_data) {\\n        self.valueFromJulia[key] = false;\\n    }\\n    ko.applyBindings(self.model, self.dom);\\n}\\n);\\n    (WebIO.importBlock({\\\"data\\\":[{\\\"name\\\":\\\"knockout\\\",\\\"type\\\":\\\"js\\\",\\\"url\\\":\\\"/assetserver/a640663e3908763889bbe9bde6d9d61565df4a62-knockout.js\\\"},{\\\"name\\\":\\\"knockout_punches\\\",\\\"type\\\":\\\"js\\\",\\\"url\\\":\\\"/assetserver/8fc0b36b5ecb22f13021fb56baafba37abe9dcf2-knockout_punches.js\\\"}],\\\"type\\\":\\\"async_block\\\"})).then((imports) => handler.apply(this, imports));\\n}\\n\")])], Dict{Symbol,Any}(:className=>\"field interact-widget\")), Observable{Any} with 0 listeners. Value:\n",
       "Node{DOM}(DOM(:html, :div), Any[Node{DOM}(DOM(:html, :div), Any[Node{DOM}(DOM(:html, :pre), Any[\"Gaussian elimination for column 1 with pivot -8.0: add 0.0 * (row 1) to (row 2)\"], Dict{Symbol,Any}()), Node{DOM}(DOM(:html, :div), Any[Node{DOM}(DOM(:html, :div), Any[], Dict{Symbol,Any}(:setInnerHtml=>\"<pre>5×5 Array{Int64,2}:\\n -8   4  -6  -1   8\\n  3  -5   8  -8  -6\\n  8   2   8   2  -8\\n -6  -2   6   4  -8\\n -3   5   5   3  -7</pre>\")), Node{DOM}(DOM(:html, :div), Any[], Dict{Symbol,Any}(:style=>Dict{String,Measures.Length{U,Float64} where U}(\"height\"=>0.0px,\"width\"=>1.0em))), \"⟶\", Node{DOM}(DOM(:html, :div), Any[], Dict{Symbol,Any}(:style=>Dict{String,Measures.Length{U,Float64} where U}(\"height\"=>0.0px,\"width\"=>1.0em))), Node{DOM}(DOM(:html, :div), Any[], Dict{Symbol,Any}(:setInnerHtml=>\"<pre>5×5 Array{Float64,2}:\\n -8.0   4.0  -6.0  -1.0   8.0\\n  0.0  -4.0   6.0  -8.0  -3.0\\n  8.0   2.0   8.0   2.0  -8.0\\n -6.0  -2.0   6.0   4.0  -8.0\\n -3.0   5.0   5.0   3.0  -7.0</pre>\"))], Dict{Symbol,Any}(:style=>Dict{Any,Any}(\"align-items\"=>:center,\"display\"=>\"flex\",\"flex-direction\"=>\"row\")))], Dict{Symbol,Any}(:style=>Dict{Any,Any}(\"align-items\"=>:center,\"display\"=>\"flex\",\"flex-direction\"=>\"column\")))], Dict{Symbol,Any}(:className=>\"interact-flex-row interact-widget\"))], Dict{Symbol,Any}())"
      ]
     },
     "execution_count": 27,
     "metadata": {
      "application/vnd.webio.node+json": {
       "kernelId": null
      }
     },
     "output_type": "execute_result"
    }
   ],
   "source": [
    "Aok = [-8   4  -6  -1   8\n",
    "        3  -5   8  -8  -6\n",
    "        8   2   8   2  -8\n",
    "       -6  -2   6   4  -8\n",
    "       -3   5   5   3  -7]\n",
    "visualize_gauss(Aok)"
   ]
  },
  {
   "cell_type": "markdown",
   "metadata": {},
   "source": [
    "## A bigger example\n",
    "\n",
    "We quickly run out of space for displaying matrices as text, but we can visualize the process for larger matrices by using images, with the PyPlot package (a wrapper around the Python Matplotlib library):"
   ]
  },
  {
   "cell_type": "code",
   "execution_count": 28,
   "metadata": {},
   "outputs": [],
   "source": [
    "using PyPlot"
   ]
  },
  {
   "cell_type": "code",
   "execution_count": 29,
   "metadata": {},
   "outputs": [
    {
     "data": {
      "application/vnd.webio.node+json": {
       "children": [
        {
         "children": [
          {
           "children": [
            {
             "children": [
              {
               "children": [
                {
                 "children": [
                  "gauss step"
                 ],
                 "instanceArgs": {
                  "namespace": "html",
                  "tag": "label"
                 },
                 "nodeType": "DOM",
                 "props": {
                  "className": "interact ",
                  "style": {
                   "padding": "5px 10px 0px 10px"
                  }
                 },
                 "type": "node"
                }
               ],
               "instanceArgs": {
                "namespace": "html",
                "tag": "div"
               },
               "nodeType": "DOM",
               "props": {
                "className": "interact-flex-row-left"
               },
               "type": "node"
              },
              {
               "children": [
                {
                 "children": [],
                 "instanceArgs": {
                  "namespace": "html",
                  "tag": "input"
                 },
                 "nodeType": "DOM",
                 "props": {
                  "attributes": {
                   "data-bind": "numericValue: index, valueUpdate: 'input', event: {change: function (){this.changes(this.changes()+1)}}",
                   "orient": "horizontal",
                   "type": "range"
                  },
                  "className": "slider slider is-fullwidth",
                  "max": 100,
                  "min": 1,
                  "step": 1,
                  "style": {}
                 },
                 "type": "node"
                }
               ],
               "instanceArgs": {
                "namespace": "html",
                "tag": "div"
               },
               "nodeType": "DOM",
               "props": {
                "className": "interact-flex-row-center"
               },
               "type": "node"
              },
              {
               "children": [
                {
                 "children": [],
                 "instanceArgs": {
                  "namespace": "html",
                  "tag": "p"
                 },
                 "nodeType": "DOM",
                 "props": {
                  "attributes": {
                   "data-bind": "text: formatted_val"
                  }
                 },
                 "type": "node"
                }
               ],
               "instanceArgs": {
                "namespace": "html",
                "tag": "div"
               },
               "nodeType": "DOM",
               "props": {
                "className": "interact-flex-row-right"
               },
               "type": "node"
              }
             ],
             "instanceArgs": {
              "namespace": "html",
              "tag": "div"
             },
             "nodeType": "DOM",
             "props": {
              "className": "interact-flex-row interact-widget"
             },
             "type": "node"
            }
           ],
           "instanceArgs": {
            "handlers": {
             "changes": [
              "(function (val){return (val!=this.model[\"changes\"]()) ? (this.valueFromJulia[\"changes\"]=true, this.model[\"changes\"](val)) : undefined})"
             ],
             "index": [
              "(function (val){return (val!=this.model[\"index\"]()) ? (this.valueFromJulia[\"index\"]=true, this.model[\"index\"](val)) : undefined})"
             ]
            },
            "id": "11085022685295038857",
            "imports": {
             "data": [
              {
               "name": "knockout",
               "type": "js",
               "url": "/assetserver/a640663e3908763889bbe9bde6d9d61565df4a62-knockout.js"
              },
              {
               "name": "knockout_punches",
               "type": "js",
               "url": "/assetserver/8fc0b36b5ecb22f13021fb56baafba37abe9dcf2-knockout_punches.js"
              },
              {
               "name": null,
               "type": "js",
               "url": "/assetserver/87a645b15dc699eca506abf5a296a5295d5c1bb2-all.js"
              },
              {
               "name": null,
               "type": "css",
               "url": "/assetserver/1ec5ee9823d90485f11267898d87fd061c8884f5-style.css"
              },
              {
               "name": null,
               "type": "css",
               "url": "/assetserver/e5e03f73eee90cc09eab8f0f2b41d76ab5b4a42f-bulma_confined.min.css"
              }
             ],
             "type": "async_block"
            },
            "mount_callbacks": [
             "function () {\n    var handler = (function (ko, koPunches) {\n    ko.punches.enableAll();\n    ko.bindingHandlers.numericValue = {\n        init: function(element, valueAccessor, allBindings, data, context) {\n            var stringified = ko.observable(ko.unwrap(valueAccessor()));\n            stringified.subscribe(function(value) {\n                var val = parseFloat(value);\n                if (!isNaN(val)) {\n                    valueAccessor()(val);\n                }\n            });\n            valueAccessor().subscribe(function(value) {\n                var str = JSON.stringify(value);\n                if ((str == \"0\") && ([\"-0\", \"-0.\"].indexOf(stringified()) >= 0))\n                     return;\n                 if ([\"null\", \"\"].indexOf(str) >= 0)\n                     return;\n                stringified(str);\n            });\n            ko.applyBindingsToNode(\n                element,\n                {\n                    value: stringified,\n                    valueUpdate: allBindings.get('valueUpdate'),\n                },\n                context,\n            );\n        }\n    };\n    var json_data = {\"formatted_vals\":[\"0\",\"50\",\"100\",\"150\",\"200\",\"250\",\"300\",\"350\",\"400\",\"450\",\"500\",\"550\",\"600\",\"650\",\"700\",\"750\",\"800\",\"850\",\"900\",\"950\",\"1000\",\"1050\",\"1100\",\"1150\",\"1200\",\"1250\",\"1300\",\"1350\",\"1400\",\"1450\",\"1500\",\"1550\",\"1600\",\"1650\",\"1700\",\"1750\",\"1800\",\"1850\",\"1900\",\"1950\",\"2000\",\"2050\",\"2100\",\"2150\",\"2200\",\"2250\",\"2300\",\"2350\",\"2400\",\"2450\",\"2500\",\"2550\",\"2600\",\"2650\",\"2700\",\"2750\",\"2800\",\"2850\",\"2900\",\"2950\",\"3000\",\"3050\",\"3100\",\"3150\",\"3200\",\"3250\",\"3300\",\"3350\",\"3400\",\"3450\",\"3500\",\"3550\",\"3600\",\"3650\",\"3700\",\"3750\",\"3800\",\"3850\",\"3900\",\"3950\",\"4000\",\"4050\",\"4100\",\"4150\",\"4200\",\"4250\",\"4300\",\"4350\",\"4400\",\"4450\",\"4500\",\"4550\",\"4600\",\"4650\",\"4700\",\"4750\",\"4800\",\"4850\",\"4900\",\"4950\"],\"changes\":WebIO.getval({\"name\":\"changes\",\"scope\":\"11085022685295038857\",\"id\":\"ob_39\",\"type\":\"observable\"}),\"index\":WebIO.getval({\"name\":\"index\",\"scope\":\"11085022685295038857\",\"id\":\"ob_38\",\"type\":\"observable\"})};\n    var self = this;\n    function AppViewModel() {\n        for (var key in json_data) {\n            var el = json_data[key];\n            this[key] = Array.isArray(el) ? ko.observableArray(el) : ko.observable(el);\n        }\n        \n        [this[\"formatted_val\"]=ko.computed(    function(){\n        return this.formatted_vals()[parseInt(this.index())-(1)];\n    }\n,this)]\n        [this[\"changes\"].subscribe((function (val){!(this.valueFromJulia[\"changes\"]) ? (WebIO.setval({\"name\":\"changes\",\"scope\":\"11085022685295038857\",\"id\":\"ob_39\",\"type\":\"observable\"},val)) : undefined; return this.valueFromJulia[\"changes\"]=false}),self),this[\"index\"].subscribe((function (val){!(this.valueFromJulia[\"index\"]) ? (WebIO.setval({\"name\":\"index\",\"scope\":\"11085022685295038857\",\"id\":\"ob_38\",\"type\":\"observable\"},val)) : undefined; return this.valueFromJulia[\"index\"]=false}),self)]\n        \n    }\n    self.model = new AppViewModel();\n    self.valueFromJulia = {};\n    for (var key in json_data) {\n        self.valueFromJulia[key] = false;\n    }\n    ko.applyBindings(self.model, self.dom);\n}\n);\n    (WebIO.importBlock({\"data\":[{\"name\":\"knockout\",\"type\":\"js\",\"url\":\"/assetserver/a640663e3908763889bbe9bde6d9d61565df4a62-knockout.js\"},{\"name\":\"knockout_punches\",\"type\":\"js\",\"url\":\"/assetserver/8fc0b36b5ecb22f13021fb56baafba37abe9dcf2-knockout_punches.js\"}],\"type\":\"async_block\"})).then((imports) => handler.apply(this, imports));\n}\n"
            ],
            "observables": {
             "changes": {
              "id": "ob_39",
              "sync": false,
              "value": 0
             },
             "index": {
              "id": "ob_38",
              "sync": true,
              "value": 2
             }
            },
            "systemjs_options": null
           },
           "nodeType": "Scope",
           "props": {},
           "type": "node"
          }
         ],
         "instanceArgs": {
          "namespace": "html",
          "tag": "div"
         },
         "nodeType": "DOM",
         "props": {
          "className": "field interact-widget"
         },
         "type": "node"
        },
        {
         "children": [
          {
           "children": [],
           "instanceArgs": {
            "id": "ob_45",
            "name": "obs-node"
           },
           "nodeType": "ObservableNode",
           "props": {},
           "type": "node"
          }
         ],
         "instanceArgs": {
          "handlers": {},
          "id": "11474043329971076417",
          "imports": {
           "data": [],
           "type": "async_block"
          },
          "mount_callbacks": [],
          "observables": {
           "obs-node": {
            "id": "ob_45",
            "sync": false,
            "value": {
             "children": [
              {
               "children": [],
               "instanceArgs": {
                "namespace": "html",
                "tag": "div"
               },
               "nodeType": "DOM",
               "props": {
                "setInnerHtml": "<img src='data:image/png;base64,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'></img>"
               },
               "type": "node"
              }
             ],
             "instanceArgs": {
              "namespace": "html",
              "tag": "div"
             },
             "nodeType": "DOM",
             "props": {
              "className": "interact-flex-row interact-widget"
             },
             "type": "node"
            }
           }
          },
          "systemjs_options": null
         },
         "nodeType": "Scope",
         "props": {},
         "type": "node"
        }
       ],
       "instanceArgs": {
        "namespace": "html",
        "tag": "div"
       },
       "nodeType": "DOM",
       "props": {},
       "type": "node"
      },
      "text/html": [
       "<div\n",
       "    class=\"webio-mountpoint\"\n",
       "    data-webio-mountpoint=\"6738548113027600182\"\n",
       ">\n",
       "    <script>\n",
       "    if (window.require && require.defined && require.defined(\"nbextensions/webio-jupyter-notebook\")) {\n",
       "        console.log(\"Jupyter WebIO extension detected, not mounting.\");\n",
       "    } else if (window.WebIO) {\n",
       "        WebIO.mount(\n",
       "            document.querySelector('[data-webio-mountpoint=\"6738548113027600182\"]'),\n",
       "            {\"props\":{},\"nodeType\":\"DOM\",\"type\":\"node\",\"instanceArgs\":{\"namespace\":\"html\",\"tag\":\"div\"},\"children\":[{\"props\":{\"className\":\"field interact-widget\"},\"nodeType\":\"DOM\",\"type\":\"node\",\"instanceArgs\":{\"namespace\":\"html\",\"tag\":\"div\"},\"children\":[{\"props\":{},\"nodeType\":\"Scope\",\"type\":\"node\",\"instanceArgs\":{\"imports\":{\"data\":[{\"name\":\"knockout\",\"type\":\"js\",\"url\":\"\\/assetserver\\/a640663e3908763889bbe9bde6d9d61565df4a62-knockout.js\"},{\"name\":\"knockout_punches\",\"type\":\"js\",\"url\":\"\\/assetserver\\/8fc0b36b5ecb22f13021fb56baafba37abe9dcf2-knockout_punches.js\"},{\"name\":null,\"type\":\"js\",\"url\":\"\\/assetserver\\/87a645b15dc699eca506abf5a296a5295d5c1bb2-all.js\"},{\"name\":null,\"type\":\"css\",\"url\":\"\\/assetserver\\/1ec5ee9823d90485f11267898d87fd061c8884f5-style.css\"},{\"name\":null,\"type\":\"css\",\"url\":\"\\/assetserver\\/e5e03f73eee90cc09eab8f0f2b41d76ab5b4a42f-bulma_confined.min.css\"}],\"type\":\"async_block\"},\"id\":\"11085022685295038857\",\"handlers\":{\"changes\":[\"(function (val){return (val!=this.model[\\\"changes\\\"]()) ? (this.valueFromJulia[\\\"changes\\\"]=true, this.model[\\\"changes\\\"](val)) : undefined})\"],\"index\":[\"(function (val){return (val!=this.model[\\\"index\\\"]()) ? (this.valueFromJulia[\\\"index\\\"]=true, this.model[\\\"index\\\"](val)) : undefined})\"]},\"systemjs_options\":null,\"mount_callbacks\":[\"function () {\\n    var handler = (function (ko, koPunches) {\\n    ko.punches.enableAll();\\n    ko.bindingHandlers.numericValue = {\\n        init: function(element, valueAccessor, allBindings, data, context) {\\n            var stringified = ko.observable(ko.unwrap(valueAccessor()));\\n            stringified.subscribe(function(value) {\\n                var val = parseFloat(value);\\n                if (!isNaN(val)) {\\n                    valueAccessor()(val);\\n                }\\n            });\\n            valueAccessor().subscribe(function(value) {\\n                var str = JSON.stringify(value);\\n                if ((str == \\\"0\\\") && ([\\\"-0\\\", \\\"-0.\\\"].indexOf(stringified()) >= 0))\\n                     return;\\n                 if ([\\\"null\\\", \\\"\\\"].indexOf(str) >= 0)\\n                     return;\\n                stringified(str);\\n            });\\n            ko.applyBindingsToNode(\\n                element,\\n                {\\n                    value: stringified,\\n                    valueUpdate: allBindings.get('valueUpdate'),\\n                },\\n                context,\\n            );\\n        }\\n    };\\n    var json_data = {\\\"formatted_vals\\\":[\\\"0\\\",\\\"50\\\",\\\"100\\\",\\\"150\\\",\\\"200\\\",\\\"250\\\",\\\"300\\\",\\\"350\\\",\\\"400\\\",\\\"450\\\",\\\"500\\\",\\\"550\\\",\\\"600\\\",\\\"650\\\",\\\"700\\\",\\\"750\\\",\\\"800\\\",\\\"850\\\",\\\"900\\\",\\\"950\\\",\\\"1000\\\",\\\"1050\\\",\\\"1100\\\",\\\"1150\\\",\\\"1200\\\",\\\"1250\\\",\\\"1300\\\",\\\"1350\\\",\\\"1400\\\",\\\"1450\\\",\\\"1500\\\",\\\"1550\\\",\\\"1600\\\",\\\"1650\\\",\\\"1700\\\",\\\"1750\\\",\\\"1800\\\",\\\"1850\\\",\\\"1900\\\",\\\"1950\\\",\\\"2000\\\",\\\"2050\\\",\\\"2100\\\",\\\"2150\\\",\\\"2200\\\",\\\"2250\\\",\\\"2300\\\",\\\"2350\\\",\\\"2400\\\",\\\"2450\\\",\\\"2500\\\",\\\"2550\\\",\\\"2600\\\",\\\"2650\\\",\\\"2700\\\",\\\"2750\\\",\\\"2800\\\",\\\"2850\\\",\\\"2900\\\",\\\"2950\\\",\\\"3000\\\",\\\"3050\\\",\\\"3100\\\",\\\"3150\\\",\\\"3200\\\",\\\"3250\\\",\\\"3300\\\",\\\"3350\\\",\\\"3400\\\",\\\"3450\\\",\\\"3500\\\",\\\"3550\\\",\\\"3600\\\",\\\"3650\\\",\\\"3700\\\",\\\"3750\\\",\\\"3800\\\",\\\"3850\\\",\\\"3900\\\",\\\"3950\\\",\\\"4000\\\",\\\"4050\\\",\\\"4100\\\",\\\"4150\\\",\\\"4200\\\",\\\"4250\\\",\\\"4300\\\",\\\"4350\\\",\\\"4400\\\",\\\"4450\\\",\\\"4500\\\",\\\"4550\\\",\\\"4600\\\",\\\"4650\\\",\\\"4700\\\",\\\"4750\\\",\\\"4800\\\",\\\"4850\\\",\\\"4900\\\",\\\"4950\\\"],\\\"changes\\\":WebIO.getval({\\\"name\\\":\\\"changes\\\",\\\"scope\\\":\\\"11085022685295038857\\\",\\\"id\\\":\\\"ob_39\\\",\\\"type\\\":\\\"observable\\\"}),\\\"index\\\":WebIO.getval({\\\"name\\\":\\\"index\\\",\\\"scope\\\":\\\"11085022685295038857\\\",\\\"id\\\":\\\"ob_38\\\",\\\"type\\\":\\\"observable\\\"})};\\n    var self = this;\\n    function AppViewModel() {\\n        for (var key in json_data) {\\n            var el = json_data[key];\\n            this[key] = Array.isArray(el) ? ko.observableArray(el) : ko.observable(el);\\n        }\\n        \\n        [this[\\\"formatted_val\\\"]=ko.computed(    function(){\\n        return this.formatted_vals()[parseInt(this.index())-(1)];\\n    }\\n,this)]\\n        [this[\\\"changes\\\"].subscribe((function (val){!(this.valueFromJulia[\\\"changes\\\"]) ? (WebIO.setval({\\\"name\\\":\\\"changes\\\",\\\"scope\\\":\\\"11085022685295038857\\\",\\\"id\\\":\\\"ob_39\\\",\\\"type\\\":\\\"observable\\\"},val)) : undefined; return this.valueFromJulia[\\\"changes\\\"]=false}),self),this[\\\"index\\\"].subscribe((function (val){!(this.valueFromJulia[\\\"index\\\"]) ? (WebIO.setval({\\\"name\\\":\\\"index\\\",\\\"scope\\\":\\\"11085022685295038857\\\",\\\"id\\\":\\\"ob_38\\\",\\\"type\\\":\\\"observable\\\"},val)) : undefined; return this.valueFromJulia[\\\"index\\\"]=false}),self)]\\n        \\n    }\\n    self.model = new AppViewModel();\\n    self.valueFromJulia = {};\\n    for (var key in json_data) {\\n        self.valueFromJulia[key] = false;\\n    }\\n    ko.applyBindings(self.model, self.dom);\\n}\\n);\\n    (WebIO.importBlock({\\\"data\\\":[{\\\"name\\\":\\\"knockout\\\",\\\"type\\\":\\\"js\\\",\\\"url\\\":\\\"\\/assetserver\\/a640663e3908763889bbe9bde6d9d61565df4a62-knockout.js\\\"},{\\\"name\\\":\\\"knockout_punches\\\",\\\"type\\\":\\\"js\\\",\\\"url\\\":\\\"\\/assetserver\\/8fc0b36b5ecb22f13021fb56baafba37abe9dcf2-knockout_punches.js\\\"}],\\\"type\\\":\\\"async_block\\\"})).then((imports) => handler.apply(this, imports));\\n}\\n\"],\"observables\":{\"changes\":{\"sync\":false,\"id\":\"ob_39\",\"value\":0},\"index\":{\"sync\":true,\"id\":\"ob_38\",\"value\":2}}},\"children\":[{\"props\":{\"className\":\"interact-flex-row interact-widget\"},\"nodeType\":\"DOM\",\"type\":\"node\",\"instanceArgs\":{\"namespace\":\"html\",\"tag\":\"div\"},\"children\":[{\"props\":{\"className\":\"interact-flex-row-left\"},\"nodeType\":\"DOM\",\"type\":\"node\",\"instanceArgs\":{\"namespace\":\"html\",\"tag\":\"div\"},\"children\":[{\"props\":{\"className\":\"interact \",\"style\":{\"padding\":\"5px 10px 0px 10px\"}},\"nodeType\":\"DOM\",\"type\":\"node\",\"instanceArgs\":{\"namespace\":\"html\",\"tag\":\"label\"},\"children\":[\"gauss step\"]}]},{\"props\":{\"className\":\"interact-flex-row-center\"},\"nodeType\":\"DOM\",\"type\":\"node\",\"instanceArgs\":{\"namespace\":\"html\",\"tag\":\"div\"},\"children\":[{\"props\":{\"max\":100,\"min\":1,\"attributes\":{\"type\":\"range\",\"data-bind\":\"numericValue: index, valueUpdate: 'input', event: {change: function (){this.changes(this.changes()+1)}}\",\"orient\":\"horizontal\"},\"step\":1,\"className\":\"slider slider is-fullwidth\",\"style\":{}},\"nodeType\":\"DOM\",\"type\":\"node\",\"instanceArgs\":{\"namespace\":\"html\",\"tag\":\"input\"},\"children\":[]}]},{\"props\":{\"className\":\"interact-flex-row-right\"},\"nodeType\":\"DOM\",\"type\":\"node\",\"instanceArgs\":{\"namespace\":\"html\",\"tag\":\"div\"},\"children\":[{\"props\":{\"attributes\":{\"data-bind\":\"text: formatted_val\"}},\"nodeType\":\"DOM\",\"type\":\"node\",\"instanceArgs\":{\"namespace\":\"html\",\"tag\":\"p\"},\"children\":[]}]}]}]}]},{\"props\":{},\"nodeType\":\"Scope\",\"type\":\"node\",\"instanceArgs\":{\"imports\":{\"data\":[],\"type\":\"async_block\"},\"id\":\"14378555350768149199\",\"handlers\":{},\"systemjs_options\":null,\"mount_callbacks\":[],\"observables\":{\"obs-node\":{\"sync\":false,\"id\":\"ob_43\",\"value\":{\"props\":{\"className\":\"interact-flex-row interact-widget\"},\"nodeType\":\"DOM\",\"type\":\"node\",\"instanceArgs\":{\"namespace\":\"html\",\"tag\":\"div\"},\"children\":[{\"props\":{\"setInnerHtml\":\"<img src='data:image\\/png;base64,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'><\\/img>\"},\"nodeType\":\"DOM\",\"type\":\"node\",\"instanceArgs\":{\"namespace\":\"html\",\"tag\":\"div\"},\"children\":[]}]}}}},\"children\":[{\"props\":{},\"nodeType\":\"ObservableNode\",\"type\":\"node\",\"instanceArgs\":{\"id\":\"ob_43\",\"name\":\"obs-node\"},\"children\":[]}]}]},\n",
       "            window,\n",
       "        );\n",
       "    } else {\n",
       "        document\n",
       "            .querySelector('[data-webio-mountpoint=\"6738548113027600182\"]')\n",
       "            .innerHTML = (\n",
       "                '<strong>WebIO not detected. Please read ' +\n",
       "                '<a href=\"https://juliagizmos.github.io/WebIO.jl/latest/troubleshooting/not-detected/\">the troubleshooting guide</a> ' +\n",
       "                'for more information on how to resolve this issue.' +\n",
       "                '</strong>'\n",
       "            );\n",
       "    }\n",
       "    </script>\n",
       "</div>\n"
      ],
      "text/plain": [
       "Node{WebIO.DOM}(WebIO.DOM(:html, :div), Any[Node{DOM}(DOM(:html, :div), Any[Scope(Node{DOM}(DOM(:html, :div), Any[Node{DOM}(DOM(:html, :div), Any[Node{DOM}(DOM(:html, :label), Any[\"gauss step\"], Dict{Symbol,Any}(:className=>\"interact \",:style=>Dict{Any,Any}(:padding=>\"5px 10px 0px 10px\")))], Dict{Symbol,Any}(:className=>\"interact-flex-row-left\")), Node{DOM}(DOM(:html, :div), Any[Node{DOM}(DOM(:html, :input), Any[], Dict{Symbol,Any}(:max=>100,:min=>1,:attributes=>Dict{Any,Any}(:type=>\"range\",Symbol(\"data-bind\")=>\"numericValue: index, valueUpdate: 'input', event: {change: function (){this.changes(this.changes()+1)}}\",\"orient\"=>\"horizontal\"),:step=>1,:className=>\"slider slider is-fullwidth\",:style=>Dict{Any,Any}()))], Dict{Symbol,Any}(:className=>\"interact-flex-row-center\")), Node{DOM}(DOM(:html, :div), Any[Node{DOM}(DOM(:html, :p), Any[], Dict{Symbol,Any}(:attributes=>Dict(\"data-bind\"=>\"text: formatted_val\")))], Dict{Symbol,Any}(:className=>\"interact-flex-row-right\"))], Dict{Symbol,Any}(:className=>\"interact-flex-row interact-widget\")), Dict{String,Tuple{Observables.AbstractObservable,Union{Nothing, Bool}}}(\"changes\"=>(Observable{Int64} with 1 listeners. Value:\n",
       "0, nothing),\"index\"=>(Observable{Any} with 2 listeners. Value:\n",
       "2, nothing)), Set(String[]), nothing, Asset[Asset(\"js\", \"knockout\", \"/home/yalong/.julia/packages/Knockout/1sDlc/src/../assets/knockout.js\"), Asset(\"js\", \"knockout_punches\", \"/home/yalong/.julia/packages/Knockout/1sDlc/src/../assets/knockout_punches.js\"), Asset(\"js\", nothing, \"/home/yalong/.julia/packages/InteractBase/9mFwe/src/../assets/all.js\"), Asset(\"css\", nothing, \"/home/yalong/.julia/packages/InteractBase/9mFwe/src/../assets/style.css\"), Asset(\"css\", nothing, \"/home/yalong/.julia/packages/Interact/SbgIk/src/../assets/bulma_confined.min.css\")], Dict{Any,Any}(\"changes\"=>Any[JSString(\"(function (val){return (val!=this.model[\\\"changes\\\"]()) ? (this.valueFromJulia[\\\"changes\\\"]=true, this.model[\\\"changes\\\"](val)) : undefined})\")],\"index\"=>Any[JSString(\"(function (val){return (val!=this.model[\\\"index\\\"]()) ? (this.valueFromJulia[\\\"index\\\"]=true, this.model[\\\"index\\\"](val)) : undefined})\")]), ConnectionPool(Channel{Any}(sz_max:32,sz_curr:0), Set(AbstractConnection[]), Condition(Any[Task (runnable) @0x00007fc7840764d0])), WebIO.JSString[JSString(\"function () {\\n    var handler = (function (ko, koPunches) {\\n    ko.punches.enableAll();\\n    ko.bindingHandlers.numericValue = {\\n        init: function(element, valueAccessor, allBindings, data, context) {\\n            var stringified = ko.observable(ko.unwrap(valueAccessor()));\\n            stringified.subscribe(function(value) {\\n                var val = parseFloat(value);\\n                if (!isNaN(val)) {\\n                    valueAccessor()(val);\\n                }\\n            });\\n            valueAccessor().subscribe(function(value) {\\n                var str = JSON.stringify(value);\\n                if ((str == \\\"0\\\") && ([\\\"-0\\\", \\\"-0.\\\"].indexOf(stringified()) >= 0))\\n                     return;\\n                 if ([\\\"null\\\", \\\"\\\"].indexOf(str) >= 0)\\n                     return;\\n                stringified(str);\\n            });\\n            ko.applyBindingsToNode(\\n                element,\\n                {\\n                    value: stringified,\\n                    valueUpdate: allBindings.get('valueUpdate'),\\n                },\\n                context,\\n            );\\n        }\\n    };\\n    var json_data = {\\\"formatted_vals\\\":[\\\"0\\\",\\\"50\\\",\\\"100\\\",\\\"150\\\",\\\"200\\\",\\\"250\\\",\\\"300\\\",\\\"350\\\",\\\"400\\\",\\\"450\\\",\\\"500\\\",\\\"550\\\",\\\"600\\\",\\\"650\\\",\\\"700\\\",\\\"750\\\",\\\"800\\\",\\\"850\\\",\\\"900\\\",\\\"950\\\",\\\"1000\\\",\\\"1050\\\",\\\"1100\\\",\\\"1150\\\",\\\"1200\\\",\\\"1250\\\",\\\"1300\\\",\\\"1350\\\",\\\"1400\\\",\\\"1450\\\",\\\"1500\\\",\\\"1550\\\",\\\"1600\\\",\\\"1650\\\",\\\"1700\\\",\\\"1750\\\",\\\"1800\\\",\\\"1850\\\",\\\"1900\\\",\\\"1950\\\",\\\"2000\\\",\\\"2050\\\",\\\"2100\\\",\\\"2150\\\",\\\"2200\\\",\\\"2250\\\",\\\"2300\\\",\\\"2350\\\",\\\"2400\\\",\\\"2450\\\",\\\"2500\\\",\\\"2550\\\",\\\"2600\\\",\\\"2650\\\",\\\"2700\\\",\\\"2750\\\",\\\"2800\\\",\\\"2850\\\",\\\"2900\\\",\\\"2950\\\",\\\"3000\\\",\\\"3050\\\",\\\"3100\\\",\\\"3150\\\",\\\"3200\\\",\\\"3250\\\",\\\"3300\\\",\\\"3350\\\",\\\"3400\\\",\\\"3450\\\",\\\"3500\\\",\\\"3550\\\",\\\"3600\\\",\\\"3650\\\",\\\"3700\\\",\\\"3750\\\",\\\"3800\\\",\\\"3850\\\",\\\"3900\\\",\\\"3950\\\",\\\"4000\\\",\\\"4050\\\",\\\"4100\\\",\\\"4150\\\",\\\"4200\\\",\\\"4250\\\",\\\"4300\\\",\\\"4350\\\",\\\"4400\\\",\\\"4450\\\",\\\"4500\\\",\\\"4550\\\",\\\"4600\\\",\\\"4650\\\",\\\"4700\\\",\\\"4750\\\",\\\"4800\\\",\\\"4850\\\",\\\"4900\\\",\\\"4950\\\"],\\\"changes\\\":WebIO.getval({\\\"name\\\":\\\"changes\\\",\\\"scope\\\":\\\"11085022685295038857\\\",\\\"id\\\":\\\"ob_39\\\",\\\"type\\\":\\\"observable\\\"}),\\\"index\\\":WebIO.getval({\\\"name\\\":\\\"index\\\",\\\"scope\\\":\\\"11085022685295038857\\\",\\\"id\\\":\\\"ob_38\\\",\\\"type\\\":\\\"observable\\\"})};\\n    var self = this;\\n    function AppViewModel() {\\n        for (var key in json_data) {\\n            var el = json_data[key];\\n            this[key] = Array.isArray(el) ? ko.observableArray(el) : ko.observable(el);\\n        }\\n        \\n        [this[\\\"formatted_val\\\"]=ko.computed(    function(){\\n        return this.formatted_vals()[parseInt(this.index())-(1)];\\n    }\\n,this)]\\n        [this[\\\"changes\\\"].subscribe((function (val){!(this.valueFromJulia[\\\"changes\\\"]) ? (WebIO.setval({\\\"name\\\":\\\"changes\\\",\\\"scope\\\":\\\"11085022685295038857\\\",\\\"id\\\":\\\"ob_39\\\",\\\"type\\\":\\\"observable\\\"},val)) : undefined; return this.valueFromJulia[\\\"changes\\\"]=false}),self),this[\\\"index\\\"].subscribe((function (val){!(this.valueFromJulia[\\\"index\\\"]) ? (WebIO.setval({\\\"name\\\":\\\"index\\\",\\\"scope\\\":\\\"11085022685295038857\\\",\\\"id\\\":\\\"ob_38\\\",\\\"type\\\":\\\"observable\\\"},val)) : undefined; return this.valueFromJulia[\\\"index\\\"]=false}),self)]\\n        \\n    }\\n    self.model = new AppViewModel();\\n    self.valueFromJulia = {};\\n    for (var key in json_data) {\\n        self.valueFromJulia[key] = false;\\n    }\\n    ko.applyBindings(self.model, self.dom);\\n}\\n);\\n    (WebIO.importBlock({\\\"data\\\":[{\\\"name\\\":\\\"knockout\\\",\\\"type\\\":\\\"js\\\",\\\"url\\\":\\\"/assetserver/a640663e3908763889bbe9bde6d9d61565df4a62-knockout.js\\\"},{\\\"name\\\":\\\"knockout_punches\\\",\\\"type\\\":\\\"js\\\",\\\"url\\\":\\\"/assetserver/8fc0b36b5ecb22f13021fb56baafba37abe9dcf2-knockout_punches.js\\\"}],\\\"type\\\":\\\"async_block\\\"})).then((imports) => handler.apply(this, imports));\\n}\\n\")])], Dict{Symbol,Any}(:className=>\"field interact-widget\")), Observable{Any} with 0 listeners. Value:\n",
       "Node{DOM}(DOM(:html, :div), Any[Figure(PyObject <Figure size 640x480 with 2 Axes>)], Dict{Symbol,Any}(:className=>\"interact-flex-row interact-widget\"))], Dict{Symbol,Any}())"
      ]
     },
     "execution_count": 29,
     "metadata": {
      "application/vnd.webio.node+json": {
       "kernelId": null
      }
     },
     "output_type": "execute_result"
    }
   ],
   "source": [
    "m = 100\n",
    "Abig = randn(m,m)\n",
    "fig = figure()\n",
    "nsteps = (m*(m-1))÷2\n",
    "@manipulate for step in slider(0:50:nsteps, value=2, label=\"gauss step\")\n",
    "    withfig(fig) do\n",
    "        U, row, col = naive_gauss(Abig, step)\n",
    "        # I had to experiment a little to find a nice way to plot this\n",
    "        V = log10.(abs.(U) .+ 500)\n",
    "        V[abs.(U) .< 0.001] .= 0 # color small entries black\n",
    "        imshow(V, cmap=\"hot\", vmin=0, vmax=3)\n",
    "        title(\"step $step: column $col, row $row\")\n",
    "        colorbar(label=L\"\\log_{10}(|U_{i,j}| + 500)\")\n",
    "    end\n",
    "end"
   ]
  },
  {
   "cell_type": "markdown",
   "metadata": {},
   "source": [
    "Note that it takes a *lot* more steps of Gaussian elimination for a $100 \\times 100$ matrix (4950 steps) than for a $5 \\times 5$ matrix (10 steps).  Later on in 18.06, we will analyze the computational cost of Gaussian elimination and how it scales with the size of the matrix (in computer science, this is known as the [complexity](https://en.wikipedia.org/wiki/Computational_complexity_theory) of the algorithm)."
   ]
  },
  {
   "cell_type": "markdown",
   "metadata": {},
   "source": [
    "Another interesting example can be found in the [Machine Learning with Gaussian Elimination notebook](http://nbviewer.jupyter.org/github/stevengj/1806/blob/master/lectures/Machine-Learning-with-Gaussian-elimination.ipynb)"
   ]
  }
 ],
 "metadata": {
  "@webio": {
   "lastCommId": null,
   "lastKernelId": null
  },
  "anaconda-cloud": {},
  "kernelspec": {
   "display_name": "Julia 1.0.5",
   "language": "julia",
   "name": "julia-1.0"
  },
  "language_info": {
   "file_extension": ".jl",
   "mimetype": "application/julia",
   "name": "julia",
   "version": "1.0.5"
  },
  "widgets": {
   "state": {
    "294167a6-1234-43dc-aef6-951949f1fac6": {
     "views": [
      {
       "cell_index": 26
      }
     ]
    },
    "41f7367b-0ad3-43e3-bd43-c6e4a1618e8d": {
     "views": [
      {
       "cell_index": 19
      }
     ]
    },
    "6e3620ec-4915-4734-8d3a-3332fdc63970": {
     "views": [
      {
       "cell_index": 16
      }
     ]
    },
    "ce72699c-d8cc-4a03-902b-a490178223e5": {
     "views": [
      {
       "cell_index": 17
      }
     ]
    },
    "db2d9825-08d3-4028-8072-1e865d1a0c4f": {
     "views": [
      {
       "cell_index": 23
      }
     ]
    }
   },
   "version": "1.2.0"
  }
 },
 "nbformat": 4,
 "nbformat_minor": 2
}
